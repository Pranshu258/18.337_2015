{
 "cells": [
  {
   "cell_type": "markdown",
   "metadata": {},
   "source": [
    "# JULIA MPI"
   ]
  },
  {
   "cell_type": "markdown",
   "metadata": {},
   "source": [
    "First step was to load MPI on my mac.  Seems mpich and openmpi are two reasonable choices\n",
    "with probably no beginner's reason to prefer one over the other. <br>\n",
    "\n",
    "I did  <t> brew install gcc </t> first to get the gcc compiler.  I ran into problems.  \n",
    "The magic thing that told me what to do was <t> brew doctor </t>.  It wanted me to type\n",
    "<t> xcode-select --install </t> and when I did, all was good.  I then typed\n",
    "<t> brew install mpich </t> and mpi was just working."
   ]
  },
  {
   "cell_type": "markdown",
   "metadata": {},
   "source": [
    "My first example was to reproduce <a href=\"http://www.mcs.anl.gov/research/projects/mpi/tutorial/mpiexmpl/src/pi/C/solution.html\">\n",
    "the classic mypi </a> in the notebook"
   ]
  },
  {
   "cell_type": "code",
   "execution_count": 1,
   "metadata": {
    "collapsed": false
   },
   "outputs": [],
   "source": [
    "using MPI"
   ]
  },
  {
   "cell_type": "code",
   "execution_count": 2,
   "metadata": {
    "collapsed": false
   },
   "outputs": [
    {
     "data": {
      "text/plain": [
       "MPI.MPIManager(4,Dict{Int64,Int64}(),Dict{Int64,Int64}(),0,`mpirun -np 4`,60,false,Condition(Any[]),false,0x2af8,IO[],#undef,#undef)"
      ]
     },
     "execution_count": 2,
     "metadata": {},
     "output_type": "execute_result"
    }
   ],
   "source": [
    "m = MPIManager(np=4)"
   ]
  },
  {
   "cell_type": "code",
   "execution_count": 3,
   "metadata": {
    "collapsed": false
   },
   "outputs": [],
   "source": [
    "comm = MPI.COMM_WORLD;"
   ]
  },
  {
   "cell_type": "code",
   "execution_count": 4,
   "metadata": {
    "collapsed": false
   },
   "outputs": [
    {
     "data": {
      "text/plain": [
       "4-element Array{Int64,1}:\n",
       " 2\n",
       " 3\n",
       " 4\n",
       " 5"
      ]
     },
     "execution_count": 4,
     "metadata": {},
     "output_type": "execute_result"
    }
   ],
   "source": [
    "addprocs(m)"
   ]
  },
  {
   "cell_type": "code",
   "execution_count": 6,
   "metadata": {
    "collapsed": false
   },
   "outputs": [],
   "source": [
    "# Enter number of intervals, and tell every processor\n",
    "# Traditional MPI would do this with a BCAST\n",
    "@mpi_do m n = 10_000"
   ]
  },
  {
   "cell_type": "code",
   "execution_count": 9,
   "metadata": {
    "collapsed": false
   },
   "outputs": [
    {
     "name": "stdout",
     "output_type": "stream",
     "text": [
      "\tFrom worker 4:\t10000\n",
      "\tFrom worker 2:\t10000\n",
      "\tFrom worker 3:\t10000\n",
      "\tFrom worker 5:\t10000\n"
     ]
    }
   ],
   "source": [
    "# Let's see if the processors got it\n",
    "@mpi_do m println(n)"
   ]
  },
  {
   "cell_type": "code",
   "execution_count": 18,
   "metadata": {
    "collapsed": false
   },
   "outputs": [
    {
     "name": "stdout",
     "output_type": "stream",
     "text": [
      "\tFrom worker 2:\t0\n",
      "\tFrom worker 4:\t2\n",
      "\tFrom worker 3:\t1\n",
      "\tFrom worker 5:\t3\n"
     ]
    }
   ],
   "source": [
    "# my MPI id\n",
    "@mpi_do m myid = MPI.Comm_rank(comm)\n",
    "@mpi_do m println(myid)"
   ]
  },
  {
   "cell_type": "code",
   "execution_count": 32,
   "metadata": {
    "collapsed": false
   },
   "outputs": [
    {
     "name": "stdout",
     "output_type": "stream",
     "text": [
      "\tFrom worker 4:\t4\n",
      "\tFrom worker 2:\t4\n",
      "\tFrom worker 3:\t4\n",
      "\tFrom worker 5:\t4\n"
     ]
    }
   ],
   "source": [
    "# Get the number of processors\n",
    "@mpi_do m np=MPI.Comm_size(comm)\n",
    "@mpi_do m println(np)"
   ]
  },
  {
   "cell_type": "markdown",
   "metadata": {},
   "source": [
    "Compute $\\int_0^1 4/(1+x^2) dx$ which evaluates to $\\pi$"
   ]
  },
  {
   "cell_type": "code",
   "execution_count": 18,
   "metadata": {
    "collapsed": false
   },
   "outputs": [
    {
     "name": "stdout",
     "output_type": "stream",
     "text": [
      "\tFrom worker 2:\t3.141592654423124\n",
      "\tFrom worker 2:\t8.333307377483834e-10\n"
     ]
    }
   ],
   "source": [
    "@mpi_do m (\n",
    "   n = 10_000;\n",
    "   comm = MPI.COMM_WORLD;\n",
    "   s=0.0;\n",
    "   for i= MPI.Comm_rank(comm)+1 :  MPI.Comm_size(comm) : n \n",
    "    x = (i-.5)/n \n",
    "    s += 4/(1+x^2) \n",
    "   end;\n",
    "   mypi = s/n;\n",
    "   our_π = MPI.Reduce(mypi, MPI.SUM, 0, comm)\n",
    ")\n",
    "\n",
    "@mpi_do m if myid==0; println(our_π); end\n",
    "@mpi_do m if myid==0; println(our_π- π); end"
   ]
  },
  {
   "cell_type": "code",
   "execution_count": null,
   "metadata": {
    "collapsed": true
   },
   "outputs": [],
   "source": []
  }
 ],
 "metadata": {
  "kernelspec": {
   "display_name": "Julia 0.4.0-rc1",
   "language": "julia",
   "name": "julia-0.4"
  },
  "language_info": {
   "file_extension": ".jl",
   "mimetype": "application/julia",
   "name": "julia",
   "version": "0.4.0"
  }
 },
 "nbformat": 4,
 "nbformat_minor": 0
}
