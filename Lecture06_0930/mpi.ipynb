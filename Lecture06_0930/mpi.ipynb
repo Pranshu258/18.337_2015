{
 "cells": [
  {
   "cell_type": "code",
   "execution_count": 1,
   "metadata": {
    "collapsed": false
   },
   "outputs": [],
   "source": [
    "using MPI"
   ]
  },
  {
   "cell_type": "code",
   "execution_count": 2,
   "metadata": {
    "collapsed": false
   },
   "outputs": [
    {
     "data": {
      "text/plain": [
       "MPI.MPIManager(4,Dict{Int64,Int64}(),Dict{Int64,Int64}(),0,`mpirun -np 4`,60,false,Condition(Any[]),false,0x2af8,IO[],#undef,#undef)"
      ]
     },
     "execution_count": 2,
     "metadata": {},
     "output_type": "execute_result"
    }
   ],
   "source": [
    "m = MPIManager(np=4)"
   ]
  },
  {
   "cell_type": "code",
   "execution_count": 3,
   "metadata": {
    "collapsed": false
   },
   "outputs": [
    {
     "data": {
      "text/plain": [
       "4-element Array{Int64,1}:\n",
       " 2\n",
       " 3\n",
       " 4\n",
       " 5"
      ]
     },
     "execution_count": 3,
     "metadata": {},
     "output_type": "execute_result"
    }
   ],
   "source": [
    "addprocs(m)"
   ]
  },
  {
   "cell_type": "code",
   "execution_count": 6,
   "metadata": {
    "collapsed": true
   },
   "outputs": [],
   "source": [
    "@mpi_do m  f = x-> 1/(1+x^2)"
   ]
  },
  {
   "cell_type": "code",
   "execution_count": 14,
   "metadata": {
    "collapsed": false
   },
   "outputs": [
    {
     "name": "stdout",
     "output_type": "stream",
     "text": [
      "\tFrom worker 2:\t4\n",
      "\tFrom worker 3:\t4\n",
      "\tFrom worker 4:\t4\n",
      "\tFrom worker 5:\t4\n"
     ]
    }
   ],
   "source": [
    "@mpi_do m (n=MPI.Comm_size(MPI.COMM_WORLD);println(n))"
   ]
  },
  {
   "cell_type": "code",
   "execution_count": 16,
   "metadata": {
    "collapsed": false
   },
   "outputs": [
    {
     "name": "stdout",
     "output_type": "stream",
     "text": [
      "\tFrom worker 4:\t2\n",
      "\tFrom worker 3:\t1\n",
      "\tFrom worker 2:\t0\n",
      "\tFrom worker 5:\t3\n"
     ]
    }
   ],
   "source": [
    "@mpi_do m (i=MPI.Comm_rank(MPI.COMM_WORLD);println(i))"
   ]
  },
  {
   "cell_type": "code",
   "execution_count": 17,
   "metadata": {
    "collapsed": false
   },
   "outputs": [
    {
     "name": "stdout",
     "output_type": "stream",
     "text": [
      "\tFrom worker 4:\tWARNING: [a] concatenation is deprecated; use collect(a) instead\n",
      "\tFrom worker 4:\t in depwarn at /Applications/Julia-0.4.0-rc1.app/Contents/Resources/julia/lib/julia/sys.dylib\n",
      "\tFrom worker 4:\t in oldstyle_vcat_warning at /Applications/Julia-0.4.0-rc1.app/Contents/Resources/julia/lib/julia/sys.dylib\n",
      "\tFrom worker 4:\t in vect at abstractarray.jl:32\n",
      "\tFrom worker 4:\t in eval at /Users/alanedelman/.julia/v0.4/MPI/src/MPI.jl:1\n",
      "\tFrom worker 4:\t in anonymous at /Users/alanedelman/.julia/v0.4/MPI/src/cman.jl:164\n",
      "\tFrom worker 4:\t in anonymous at multi.jl:889\n",
      "\tFrom worker 4:\t in run_work_thunk at multi.jl:645\n",
      "\tFrom worker 4:\t in run_work_thunk at multi.jl:654\n",
      "\tFrom worker 4:\t in anonymous at task.jl:63\n",
      "\tFrom worker 4:\twhile loading no file, in expression starting on line 0\n",
      "\tFrom worker 3:\tWARNING: [a] concatenation is deprecated; use collect(a) instead\n",
      "\tFrom worker 3:\t in depwarn at /Applications/Julia-0.4.0-rc1.app/Contents/Resources/julia/lib/julia/sys.dylib\n",
      "\tFrom worker 2:\tWARNING: [a] concatenation is deprecated; use collect(a) instead\n",
      "\tFrom worker 3:\t in oldstyle_vcat_warning at /Applications/Julia-0.4.0-rc1.app/Contents/Resources/julia/lib/julia/sys.dylib\n",
      "\tFrom worker 3:\t in vect at abstractarray.jl:32\n",
      "\tFrom worker 3:\t in eval at /Users/alanedelman/.julia/v0.4/MPI/src/MPI.jl:1\n",
      "\tFrom worker 3:\t in anonymous at /Users/alanedelman/.julia/v0.4/MPI/src/cman.jl:164\n",
      "\tFrom worker 3:\t in anonymous at multi.jl:889\n",
      "\tFrom worker 3:\t in run_work_thunk at multi.jl:645\n",
      "\tFrom worker 3:\t in run_work_thunk at multi.jl:654\n",
      "\tFrom worker 3:\t in anonymous at task.jl:63\n",
      "\tFrom worker 2:\t in depwarn at /Applications/Julia-0.4.0-rc1.app/Contents/Resources/julia/lib/julia/sys.dylib\n",
      "\tFrom worker 3:\twhile loading no file, in expression starting on line 0\n",
      "\tFrom worker 2:\t in oldstyle_vcat_warning at /Applications/Julia-0.4.0-rc1.app/Contents/Resources/julia/lib/julia/sys.dylib\n",
      "\tFrom worker 2:\t in vect at abstractarray.jl:32\n",
      "\tFrom worker 2:\t in eval at /Users/alanedelman/.julia/v0.4/MPI/src/MPI.jl:1\n",
      "\tFrom worker 2:\t in anonymous at /Users/alanedelman/.julia/v0.4/MPI/src/cman.jl:164\n",
      "\tFrom worker 2:\t in anonymous at multi.jl:889\n",
      "\tFrom worker 2:\t in run_work_thunk at multi.jl:645\n",
      "\tFrom worker 2:\t in run_work_thunk at multi.jl:654\n",
      "\tFrom worker 2:\t in anonymous at task.jl:63\n",
      "\tFrom worker 5:\tWARNING: [a] concatenation is deprecated; use collect(a) instead\n",
      "\tFrom worker 2:\twhile loading no file, in expression starting on line 0\n",
      "\tFrom worker 5:\t in depwarn at /Applications/Julia-0.4.0-rc1.app/Contents/Resources/julia/lib/julia/sys.dylib\n",
      "\tFrom worker 5:\t in oldstyle_vcat_warning at /Applications/Julia-0.4.0-rc1.app/Contents/Resources/julia/lib/julia/sys.dylib\n",
      "\tFrom worker 5:\t in vect at abstractarray.jl:32\n",
      "\tFrom worker 5:\t in eval at /Users/alanedelman/.julia/v0.4/MPI/src/MPI.jl:1\n",
      "\tFrom worker 5:\t in anonymous at /Users/alanedelman/.julia/v0.4/MPI/src/cman.jl:164\n",
      "\tFrom worker 5:\t in anonymous at multi.jl:889\n",
      "\tFrom worker 5:\t in run_work_thunk at multi.jl:645\n",
      "\tFrom worker 5:\t in run_work_thunk at multi.jl:654\n",
      "\tFrom worker 5:\t in anonymous at task.jl:63\n",
      "\tFrom worker 5:\twhile loading no file, in expression starting on line 0\n"
     ]
    }
   ],
   "source": [
    "@mpi_do m (k=10000; h=1/k;    v=[i:h:i+1]/n;  map(f,v) )"
   ]
  },
  {
   "cell_type": "code",
   "execution_count": 17,
   "metadata": {
    "collapsed": false
   },
   "outputs": [
    {
     "data": {
      "text/plain": [
       "3.1415956535896266"
      ]
     },
     "execution_count": 17,
     "metadata": {},
     "output_type": "execute_result"
    }
   ],
   "source": [
    "h= .000001\n",
    "4*mapreduce(f, +,  0:h:1)*h"
   ]
  },
  {
   "cell_type": "code",
   "execution_count": null,
   "metadata": {
    "collapsed": false
   },
   "outputs": [],
   "source": [
    "1+1"
   ]
  },
  {
   "cell_type": "code",
   "execution_count": null,
   "metadata": {
    "collapsed": true
   },
   "outputs": [],
   "source": []
  }
 ],
 "metadata": {
  "kernelspec": {
   "display_name": "Julia 0.4.0-rc1",
   "language": "julia",
   "name": "julia-0.4"
  },
  "language_info": {
   "file_extension": ".jl",
   "mimetype": "application/julia",
   "name": "julia",
   "version": "0.4.0"
  }
 },
 "nbformat": 4,
 "nbformat_minor": 0
}
