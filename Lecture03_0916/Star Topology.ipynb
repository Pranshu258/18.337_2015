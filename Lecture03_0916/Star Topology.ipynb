{
 "cells": [
  {
   "cell_type": "code",
   "execution_count": 6,
   "metadata": {
    "collapsed": false
   },
   "outputs": [
    {
     "name": "stderr",
     "output_type": "stream",
     "text": [
      "INFO: Cloning cache of DistributedArrays from git://github.com/JuliaParallel/DistributedArrays.jl.git\n",
      "INFO: Installing DistributedArrays v0.1.3\n",
      "INFO: Package database updated\n"
     ]
    }
   ],
   "source": [
    "Pkg.add(\"DistributedArrays\")"
   ]
  },
  {
   "cell_type": "code",
   "execution_count": 7,
   "metadata": {
    "collapsed": true
   },
   "outputs": [],
   "source": [
    "using DistributedArrays"
   ]
  },
  {
   "cell_type": "code",
   "execution_count": 18,
   "metadata": {
    "collapsed": false
   },
   "outputs": [
    {
     "name": "stderr",
     "output_type": "stream",
     "text": [
      "WARNING: [a] concatenation is deprecated; use collect(a) instead\n"
     ]
    },
    {
     "data": {
      "text/plain": [
       "16-element DistributedArrays.DArray{Int64,1,Array{Int64,1}}:\n",
       "  1\n",
       "  2\n",
       "  3\n",
       "  4\n",
       "  5\n",
       "  6\n",
       "  7\n",
       "  8\n",
       "  9\n",
       " 10\n",
       " 11\n",
       " 12\n",
       " 13\n",
       " 14\n",
       " 15\n",
       " 16"
      ]
     },
     "execution_count": 18,
     "metadata": {},
     "output_type": "execute_result"
    },
    {
     "name": "stderr",
     "output_type": "stream",
     "text": [
      " in depwarn at /Volumes/Julia/Julia-0.4.0-rc1.app/Contents/Resources/julia/lib/julia/sys.dylib\n",
      " in oldstyle_vcat_warning at /Volumes/Julia/Julia-0.4.0-rc1.app/Contents/Resources/julia/lib/julia/sys.dylib\n",
      " in vect at abstractarray.jl:32\n",
      " in include_string at loading.jl:233\n",
      " in execute_request_0x535c5df2 at /Users/alanedelman/.julia/v0.4/IJulia/src/execute_request.jl:177\n",
      " in eventloop at /Users/alanedelman/.julia/v0.4/IJulia/src/IJulia.jl:130\n",
      " in anonymous at task.jl:448\n",
      "while loading In[18], in expression starting on line 1\n"
     ]
    }
   ],
   "source": [
    "u=distribute([1:16])\n"
   ]
  },
  {
   "cell_type": "code",
   "execution_count": 16,
   "metadata": {
    "collapsed": false
   },
   "outputs": [
    {
     "data": {
      "text/plain": [
       "star (generic function with 1 method)"
      ]
     },
     "execution_count": 16,
     "metadata": {},
     "output_type": "execute_result"
    }
   ],
   "source": [
    "function star(f1, f2, f3, args...)\n",
    "    out1 = [remotecall(p, () -> f1(map(localpart, args)...)) for p = workers()]\n",
    "    out2 = f2(map(fetch, out1), args...)\n",
    "    out3 = RemoteRef[]\n",
    "    for i = 1:length(workers())\n",
    "        p = workers()[i]\n",
    "        out2i = out2[i]\n",
    "        push!(out3, remotecall(p, () -> f3(out2i, map(localpart, args)...)))\n",
    "    end\n",
    "    return DArray(out3)\n",
    "end"
   ]
  },
  {
   "cell_type": "code",
   "execution_count": 17,
   "metadata": {
    "collapsed": false
   },
   "outputs": [
    {
     "name": "stderr",
     "output_type": "stream",
     "text": [
      "WARNING: [a,b] concatenation is deprecated; use [a;b] instead\n"
     ]
    },
    {
     "data": {
      "text/plain": [
       "16-element DistributedArrays.DArray{Int64,1,Array{Int64,1}}:\n",
       "   1\n",
       "   3\n",
       "   6\n",
       "  10\n",
       "  15\n",
       "  21\n",
       "  28\n",
       "  36\n",
       "  45\n",
       "  55\n",
       "  66\n",
       "  78\n",
       "  91\n",
       " 105\n",
       " 120\n",
       " 136"
      ]
     },
     "execution_count": 17,
     "metadata": {},
     "output_type": "execute_result"
    },
    {
     "name": "stderr",
     "output_type": "stream",
     "text": [
      " in depwarn at /Volumes/Julia/Julia-0.4.0-rc1.app/Contents/Resources/julia/lib/julia/sys.dylib\n",
      " in oldstyle_vcat_warning at /Volumes/Julia/Julia-0.4.0-rc1.app/Contents/Resources/julia/lib/julia/sys.dylib\n",
      " in vect at abstractarray.jl:38\n",
      " in lag at In[17]:1\n",
      " in anonymous at In[17]:3\n",
      " in star at In[16]:3\n",
      " in include_string at loading.jl:233\n",
      " in execute_request_0x535c5df2 at /Users/alanedelman/.julia/v0.4/IJulia/src/execute_request.jl:177\n",
      " in eventloop at /Users/alanedelman/.julia/v0.4/IJulia/src/IJulia.jl:130\n",
      " in anonymous at task.jl:448\n",
      "while loading In[17], in expression starting on line 5\n"
     ]
    }
   ],
   "source": [
    "lag(x::Vector) = [0, x[2:end-1]]\n",
    "f1 = t -> cumsum!(t,t)[end] \n",
    "f2 = (out, _) -> lag(cumsum(out))\n",
    "f3 =  .+\n",
    "star(f1,f2,f3,copy(u))"
   ]
  },
  {
   "cell_type": "code",
   "execution_count": 14,
   "metadata": {
    "collapsed": false
   },
   "outputs": [
    {
     "ename": "LoadError",
     "evalue": "LoadError: indexing not defined for DistributedArrays.DArray{Float64,1,Array{Float64,1}}\nwhile loading In[14], in expression starting on line 1",
     "output_type": "error",
     "traceback": [
      "LoadError: indexing not defined for DistributedArrays.DArray{Float64,1,Array{Float64,1}}\nwhile loading In[14], in expression starting on line 1",
      "",
      " in cumsum_pairwise! at arraymath.jl:429",
      " in cumsum! at arraymath.jl:445",
      " in cumsum at arraymath.jl:451"
     ]
    }
   ],
   "source": [
    "u"
   ]
  },
  {
   "cell_type": "code",
   "execution_count": 1,
   "metadata": {
    "collapsed": false
   },
   "outputs": [
    {
     "data": {
      "text/plain": [
       "2"
      ]
     },
     "execution_count": 1,
     "metadata": {},
     "output_type": "execute_result"
    }
   ],
   "source": [
    "1+1"
   ]
  },
  {
   "cell_type": "code",
   "execution_count": null,
   "metadata": {
    "collapsed": true
   },
   "outputs": [],
   "source": [
    "α"
   ]
  }
 ],
 "metadata": {
  "kernelspec": {
   "display_name": "Julia 0.4.0-rc1",
   "language": "julia",
   "name": "julia-0.4"
  },
  "language_info": {
   "file_extension": ".jl",
   "mimetype": "application/julia",
   "name": "julia",
   "version": "0.4.0"
  }
 },
 "nbformat": 4,
 "nbformat_minor": 0
}
