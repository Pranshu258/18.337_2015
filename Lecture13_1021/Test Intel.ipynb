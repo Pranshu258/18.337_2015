{
 "cells": [
  {
   "cell_type": "markdown",
   "metadata": {},
   "source": [
    "# https://github.com/IntelLabs/ParallelAccelerator.jl"
   ]
  },
  {
   "cell_type": "code",
   "execution_count": 1,
   "metadata": {
    "collapsed": false
   },
   "outputs": [
    {
     "name": "stderr",
     "output_type": "stream",
     "text": [
      "INFO: Cloning CompilerTools from https://github.com/IntelLabs/CompilerTools.jl.git\n",
      "INFO: Computing changes...\n",
      "INFO: Cloning ParallelAccelerator from https://github.com/IntelLabs/ParallelAccelerator.jl.git\n",
      "INFO: Computing changes...\n",
      "INFO: Cloning cache of ColorVectorSpace from git://github.com/JuliaGraphics/ColorVectorSpace.jl.git\n",
      "INFO: Cloning cache of DocOpt from git://github.com/docopt/DocOpt.jl.git\n",
      "INFO: Cloning cache of Graphics from git://github.com/JuliaLang/Graphics.jl.git\n",
      "INFO: Cloning cache of Images from git://github.com/timholy/Images.jl.git\n",
      "INFO: Cloning cache of SIUnits from git://github.com/Keno/SIUnits.jl.git\n",
      "INFO: Cloning cache of TexExtensions from git://github.com/Keno/TexExtensions.jl.git\n",
      "INFO: Cloning cache of Zlib from git://github.com/dcjones/Zlib.jl.git\n",
      "INFO: Installing ColorVectorSpace v0.0.5\n",
      "INFO: Installing DocOpt v0.1.1\n",
      "INFO: Installing Graphics v0.1.3\n",
      "INFO: Installing Images v0.4.50\n",
      "INFO: Installing SIUnits v0.0.5\n",
      "INFO: Installing TexExtensions v0.0.2\n",
      "INFO: Installing Zlib v0.1.11\n",
      "INFO: Building Homebrew\n",
      "From https://github.com/Homebrew/homebrew\n",
      "   11d7d13..55a8515  master     -> origin/master\n"
     ]
    },
    {
     "name": "stdout",
     "output_type": "stream",
     "text": [
      "HEAD is now at 55a8515 freetds: update 0.95.21 bottle.\n",
      "HEAD is now at ce3d0c3 Merge pull request #78 from staticfloat/staging\n"
     ]
    },
    {
     "name": "stderr",
     "output_type": "stream",
     "text": [
      "INFO: Building Images\n"
     ]
    },
    {
     "name": "stdout",
     "output_type": "stream",
     "text": [
      "==> Installing imagemagick from staticfloat/homebrew-juliadeps\n",
      "==> Installing dependencies for staticfloat/juliadeps/imagemagick: libtool, xz, fftw, jpeg, libpng, staticfloat/juliadeps/freetype, libtiff\n",
      "==> Installing staticfloat/juliadeps/imagemagick dependency: libtool\n",
      "==> Downloading https://homebrew.bintray.com/bottles/libtool-2.4.6.yosemite.bottle.tar.gz\n",
      "==> Pouring libtool-2.4.6.yosemite.bottle.tar.gz\n",
      "==> Caveats\n",
      "In order to prevent conflicts with Apple's own libtool we have prepended a \"g\"\n",
      "so, you have instead: glibtool and glibtoolize.\n",
      "==> Summary\n",
      "🍺  /Users/edelman/.julia/v0.4/Homebrew/deps/usr/Cellar/libtool/2.4.6: 69 files, 3.9M\n",
      "==> Installing staticfloat/juliadeps/imagemagick dependency: xz\n",
      "==> Downloading https://homebrew.bintray.com/bottles/xz-5.2.2.yosemite.bottle.tar.gz\n",
      "==> Pouring xz-5.2.2.yosemite.bottle.tar.gz\n",
      "🍺  /Users/edelman/.julia/v0.4/Homebrew/deps/usr/Cellar/xz/5.2.2: 59 files, 1.9M\n",
      "==> Installing staticfloat/juliadeps/imagemagick dependency: fftw\n",
      "==> Downloading https://homebrew.bintray.com/bottles/fftw-3.3.4_1.yosemite.bottle.tar.gz\n",
      "==> Pouring fftw-3.3.4_1.yosemite.bottle.tar.gz\n",
      "🍺  /Users/edelman/.julia/v0.4/Homebrew/deps/usr/Cellar/fftw/3.3.4_1: 39 files, 11M\n",
      "==> Installing staticfloat/juliadeps/imagemagick dependency: jpeg\n",
      "==> Downloading https://homebrew.bintray.com/bottles/jpeg-8d.yosemite.bottle.2.tar.gz\n",
      "==> Pouring jpeg-8d.yosemite.bottle.2.tar.gz\n",
      "🍺  /Users/edelman/.julia/v0.4/Homebrew/deps/usr/Cellar/jpeg/8d: 18 files, 824K\n",
      "==> Installing staticfloat/juliadeps/imagemagick dependency: libpng\n",
      "==> Downloading https://homebrew.bintray.com/bottles/libpng-1.6.18.yosemite.bottle.tar.gz\n",
      "==> Pouring libpng-1.6.18.yosemite.bottle.tar.gz\n",
      "🍺  /Users/edelman/.julia/v0.4/Homebrew/deps/usr/Cellar/libpng/1.6.18: 17 files, 1.3M\n",
      "==> Installing staticfloat/juliadeps/imagemagick dependency: staticfloat/juliadeps/freetype\n",
      "==> Downloading https://juliabottles.s3.amazonaws.com/freetype-2.5.5.yosemite.bottle.tar.gz\n",
      "==> Pouring freetype-2.5.5.yosemite.bottle.tar.gz\n",
      "🍺  /Users/edelman/.julia/v0.4/Homebrew/deps/usr/Cellar/freetype/2.5.5: 60 files, 2.8M\n",
      "==> Installing staticfloat/juliadeps/imagemagick dependency: libtiff\n",
      "==> Downloading https://homebrew.bintray.com/bottles/libtiff-4.0.6.yosemite.bottle.tar.gz\n",
      "==> Pouring libtiff-4.0.6.yosemite.bottle.tar.gz\n",
      "🍺  /Users/edelman/.julia/v0.4/Homebrew/deps/usr/Cellar/libtiff/4.0.6: 259 files, 4.6M\n",
      "==> Installing staticfloat/juliadeps/imagemagick\n",
      "==> Downloading https://juliabottles.s3.amazonaws.com/imagemagick-6.8.9-1_1.yosemite.bottle.tar.gz\n",
      "==> Pouring imagemagick-6.8.9-1_1.yosemite.bottle.tar.gz\n",
      "🍺  /Users/edelman/.julia/v0.4/Homebrew/deps/usr/Cellar/imagemagick/6.8.9-1_1: 1436 files, 27M\n",
      "To relink: brew unlink imagemagick && brew link imagemagick\n"
     ]
    },
    {
     "name": "stderr",
     "output_type": "stream",
     "text": [
      "INFO: Building Homebrew\n"
     ]
    },
    {
     "name": "stdout",
     "output_type": "stream",
     "text": [
      "HEAD is now at 55a8515 freetds: update 0.95.21 bottle.\n",
      "HEAD is now at ce3d0c3 Merge pull request #78 from staticfloat/staging\n"
     ]
    },
    {
     "name": "stderr",
     "output_type": "stream",
     "text": [
      "INFO: Building Images\n",
      "INFO: Building ParallelAccelerator\n"
     ]
    },
    {
     "name": "stdout",
     "output_type": "stream",
     "text": [
      "ParallelAccelerator: build.jl begin.\n",
      "ParallelAccelerator: Building j2c-array shared library\n",
      "MKL not detected (optional)\n",
      "OpenBlas not detected (optional)\n",
      "Using g++ to build ParallelAccelerator array runtime.\n",
      "ParallelAccelerator: build.jl done.\n"
     ]
    },
    {
     "name": "stderr",
     "output_type": "stream",
     "text": [
      "INFO: Testing CompilerTools\n"
     ]
    },
    {
     "name": "stdout",
     "output_type": "stream",
     "text": [
      "test test_loops_1 runs in 0.955846054 seconds\n",
      "test test_loops_2 runs in 0.269302588 seconds\n",
      "test test_liveness_1 runs in 1.201376406 seconds\n",
      "test test_liveness_2 runs in 0.38878591 seconds\n",
      "test test_alias_1 runs in 0.496562075 seconds\n",
      "test test_alias_2 runs in 0.042148965 seconds\n",
      "test test_alias_3 runs in 0.056010278 seconds\n"
     ]
    },
    {
     "name": "stderr",
     "output_type": "stream",
     "text": [
      "INFO: CompilerTools tests passed\n",
      "INFO: Testing ParallelAccelerator\n"
     ]
    },
    {
     "name": "stdout",
     "output_type": "stream",
     "text": [
      "All tests PASSED!\n"
     ]
    },
    {
     "name": "stderr",
     "output_type": "stream",
     "text": [
      "/Users/edelman/.julia/v0.4/ParallelAccelerator/src/../deps/generated/cgen_output1.cpp:12:11: warning: absolute value function 'abs' given an argument of type 'int64_t' (aka 'long long') but has parameter of type 'int' which may cause truncation of value [-Wabsolute-value]\n",
      "GenSym0 = abs(x);;\n",
      "          ^\n",
      "/Users/edelman/.julia/v0.4/ParallelAccelerator/src/../deps/generated/cgen_output1.cpp:12:11: note: use function 'std::abs' instead\n",
      "GenSym0 = abs(x);;\n",
      "          ^~~\n",
      "          std::abs\n",
      "/Users/edelman/.julia/v0.4/ParallelAccelerator/src/../deps/generated/cgen_output1.cpp:20:11: warning: absolute value function 'abs' given an argument of type 'int64_t' (aka 'long long') but has parameter of type 'int' which may cause truncation of value [-Wabsolute-value]\n",
      "GenSym0 = abs(x);;\n",
      "          ^\n",
      "/Users/edelman/.julia/v0.4/ParallelAccelerator/src/../deps/generated/cgen_output1.cpp:20:11: note: use function 'std::abs' instead\n",
      "GenSym0 = abs(x);;\n",
      "          ^~~\n",
      "          std::abs\n",
      "2 warnings generated.\n",
      "/Users/edelman/.julia/v0.4/ParallelAccelerator/src/../deps/generated/cgen_output2.cpp:12:11: warning: absolute value function 'abs' given an argument of type 'int64_t' (aka 'long long') but has parameter of type 'int' which may cause truncation of value [-Wabsolute-value]\n",
      "GenSym0 = abs(x);;\n",
      "          ^\n",
      "/Users/edelman/.julia/v0.4/ParallelAccelerator/src/../deps/generated/cgen_output2.cpp:12:11: note: use function 'std::abs' instead\n",
      "GenSym0 = abs(x);;\n",
      "          ^~~\n",
      "          std::abs\n",
      "/Users/edelman/.julia/v0.4/ParallelAccelerator/src/../deps/generated/cgen_output2.cpp:20:11: warning: absolute value function 'abs' given an argument of type 'int64_t' (aka 'long long') but has parameter of type 'int' which may cause truncation of value [-Wabsolute-value]\n",
      "GenSym0 = abs(x);;\n",
      "          ^\n",
      "/Users/edelman/.julia/v0.4/ParallelAccelerator/src/../deps/generated/cgen_output2.cpp:20:11: note: use function 'std::abs' instead\n",
      "GenSym0 = abs(x);;\n",
      "          ^~~\n",
      "          std::abs\n",
      "2 warnings generated.\n",
      "/Users/edelman/.julia/v0.4/ParallelAccelerator/src/../deps/generated/cgen_output3.cpp:42:1: warning: expression result unused [-Wunused-value]\n",
      "GenSym2;\n",
      "^~~~~~~\n",
      "/Users/edelman/.julia/v0.4/ParallelAccelerator/src/../deps/generated/cgen_output3.cpp:95:1: warning: expression result unused [-Wunused-value]\n",
      "GenSym2;\n",
      "^~~~~~~\n",
      "2 warnings generated.\n"
     ]
    },
    {
     "name": "stdout",
     "output_type": "stream",
     "text": [
      "iterations = 10000000\n"
     ]
    },
    {
     "name": "stderr",
     "output_type": "stream",
     "text": [
      "/Users/edelman/.julia/v0.4/ParallelAccelerator/src/../deps/generated/cgen_output4.cpp:140:1: warning: expression result unused [-Wunused-value]\n",
      "GenSym0;\n",
      "^~~~~~~\n",
      "/Users/edelman/.julia/v0.4/ParallelAccelerator/src/../deps/generated/cgen_output4.cpp:276:1: warning: expression result unused [-Wunused-value]\n",
      "GenSym0;\n",
      "^~~~~~~\n",
      "2 warnings generated.\n"
     ]
    },
    {
     "name": "stdout",
     "output_type": "stream",
     "text": [
      "SELFPRIMED 2.453784482\n",
      "checksum: 2.0954821257116845e8\n",
      "rate = 1.0693424260432325e7 opts/sec\n",
      "SELFTIMED 0.935154143\n",
      "nframes = 2\n",
      "filenames = UTF8String[\"small_001.dat\",\"small_002.dat\"]\n",
      "checksums = Float32[80751.35f0,80818.02f0]\n",
      "Image size: 584x388\n"
     ]
    },
    {
     "name": "stderr",
     "output_type": "stream",
     "text": [
      "/Users/edelman/.julia/v0.4/ParallelAccelerator/src/../deps/generated/cgen_output5.cpp:194:1: warning: expression result unused [-Wunused-value]\n",
      "GenSym18;\n",
      "^~~~~~~~\n",
      "/Users/edelman/.julia/v0.4/ParallelAccelerator/src/../deps/generated/cgen_output5.cpp:195:1: warning: expression result unused [-Wunused-value]\n",
      "GenSym19;\n",
      "^~~~~~~~\n",
      "/Users/edelman/.julia/v0.4/ParallelAccelerator/src/../deps/generated/cgen_output5.cpp:197:1: warning: expression result unused [-Wunused-value]\n",
      "GenSym24;\n",
      "^~~~~~~~\n",
      "/Users/edelman/.julia/v0.4/ParallelAccelerator/src/../deps/generated/cgen_output5.cpp:199:1: warning: expression result unused [-Wunused-value]\n",
      "GenSym27;\n",
      "^~~~~~~~\n",
      "/Users/edelman/.julia/v0.4/ParallelAccelerator/src/../deps/generated/cgen_output5.cpp:461:1: warning: expression result unused [-Wunused-value]\n",
      "GenSym75;\n",
      "^~~~~~~~\n",
      "/Users/edelman/.julia/v0.4/ParallelAccelerator/src/../deps/generated/cgen_output5.cpp:462:1: warning: expression result unused [-Wunused-value]\n",
      "GenSym76;\n",
      "^~~~~~~~\n",
      "/Users/edelman/.julia/v0.4/ParallelAccelerator/src/../deps/generated/cgen_output5.cpp:530:1: warning: expression result unused [-Wunused-value]\n",
      "GenSym0;\n",
      "^~~~~~~\n",
      "/Users/edelman/.julia/v0.4/ParallelAccelerator/src/../deps/generated/cgen_output5.cpp:531:1: warning: expression result unused [-Wunused-value]\n",
      "GenSym1;\n",
      "^~~~~~~\n",
      "/Users/edelman/.julia/v0.4/ParallelAccelerator/src/../deps/generated/cgen_output5.cpp:691:1: warning: expression result unused [-Wunused-value]\n",
      "GenSym0;\n",
      "^~~~~~~\n",
      "/Users/edelman/.julia/v0.4/ParallelAccelerator/src/../deps/generated/cgen_output5.cpp:692:1: warning: expression result unused [-Wunused-value]\n",
      "GenSym1;\n",
      "^~~~~~~\n",
      "/Users/edelman/.julia/v0.4/ParallelAccelerator/src/../deps/generated/cgen_output5.cpp:857:1: warning: expression result unused [-Wunused-value]\n",
      "GenSym0;\n",
      "^~~~~~~\n",
      "/Users/edelman/.julia/v0.4/ParallelAccelerator/src/../deps/generated/cgen_output5.cpp:858:1: warning: expression result unused [-Wunused-value]\n",
      "GenSym1;\n",
      "^~~~~~~\n",
      "/Users/edelman/.julia/v0.4/ParallelAccelerator/src/../deps/generated/cgen_output5.cpp:1287:1: warning: expression result unused [-Wunused-value]\n",
      "GenSym6;\n",
      "^~~~~~~\n",
      "/Users/edelman/.julia/v0.4/ParallelAccelerator/src/../deps/generated/cgen_output5.cpp:1288:1: warning: expression result unused [-Wunused-value]\n",
      "GenSym7;\n",
      "^~~~~~~\n",
      "/Users/edelman/.julia/v0.4/ParallelAccelerator/src/../deps/generated/cgen_output5.cpp:1501:1: warning: expression result unused [-Wunused-value]\n",
      "GenSym8;\n",
      "^~~~~~~\n",
      "/Users/edelman/.julia/v0.4/ParallelAccelerator/src/../deps/generated/cgen_output5.cpp:1502:1: warning: expression result unused [-Wunused-value]\n",
      "GenSym9;\n",
      "^~~~~~~\n",
      "/Users/edelman/.julia/v0.4/ParallelAccelerator/src/../deps/generated/cgen_output5.cpp:1547:1: warning: expression result unused [-Wunused-value]\n",
      "GenSym10;\n",
      "^~~~~~~~\n",
      "/Users/edelman/.julia/v0.4/ParallelAccelerator/src/../deps/generated/cgen_output5.cpp:1824:1: warning: expression result unused [-Wunused-value]\n",
      "GenSym11;\n",
      "^~~~~~~~\n",
      "/Users/edelman/.julia/v0.4/ParallelAccelerator/src/../deps/generated/cgen_output5.cpp:1825:1: warning: expression result unused [-Wunused-value]\n",
      "GenSym12;\n",
      "^~~~~~~~\n",
      "/Users/edelman/.julia/v0.4/ParallelAccelerator/src/../deps/generated/cgen_output5.cpp:2036:1: warning: expression result unused [-Wunused-value]\n",
      "GenSym9;\n",
      "^~~~~~~\n",
      "/Users/edelman/.julia/v0.4/ParallelAccelerator/src/../deps/generated/cgen_output5.cpp:2037:1: warning: expression result unused [-Wunused-value]\n",
      "GenSym10;\n",
      "^~~~~~~~\n",
      "/Users/edelman/.julia/v0.4/ParallelAccelerator/src/../deps/generated/cgen_output5.cpp:2129:1: warning: expression result unused [-Wunused-value]\n",
      "GenSym11;\n",
      "^~~~~~~~\n",
      "/Users/edelman/.julia/v0.4/ParallelAccelerator/src/../deps/generated/cgen_output5.cpp:2131:1: warning: expression result unused [-Wunused-value]\n",
      "GenSym12;\n",
      "^~~~~~~~\n",
      "/Users/edelman/.julia/v0.4/ParallelAccelerator/src/../deps/generated/cgen_output5.cpp:2143:1: warning: expression result unused [-Wunused-value]\n",
      "GenSym13;\n",
      "^~~~~~~~\n",
      "/Users/edelman/.julia/v0.4/ParallelAccelerator/src/../deps/generated/cgen_output5.cpp:2145:1: warning: expression result unused [-Wunused-value]\n",
      "GenSym14;\n",
      "^~~~~~~~\n",
      "/Users/edelman/.julia/v0.4/ParallelAccelerator/src/../deps/generated/cgen_output5.cpp:2220:1: warning: expression result unused [-Wunused-value]\n",
      "GenSym5;\n",
      "^~~~~~~\n",
      "/Users/edelman/.julia/v0.4/ParallelAccelerator/src/../deps/generated/cgen_output5.cpp:2280:1: warning: expression result unused [-Wunused-value]\n",
      "GenSym5;\n",
      "^~~~~~~\n",
      "27 warnings generated.\n"
     ]
    },
    {
     "name": "stdout",
     "output_type": "stream",
     "text": [
      "SELFPRIMED 9.323388739\n",
      "checksum: "
     ]
    },
    {
     "name": "stderr",
     "output_type": "stream",
     "text": [
      "INFO: ParallelAccelerator tests passed\n"
     ]
    }
   ],
   "source": [
    "Pkg.clone(\"https://github.com/IntelLabs/CompilerTools.jl.git\")        # Install the CompilerTools package on which this package depends.\n",
    "Pkg.clone(\"https://github.com/IntelLabs/ParallelAccelerator.jl.git\")  # Install this package.\n",
    "Pkg.build(\"ParallelAccelerator\")                                      # Build the C++ runtime component of the package.\n",
    "Pkg.test(\"CompilerTools\")                                             # Run CompilerTools tests.\n",
    "Pkg.test(\"ParallelAccelerator\") "
   ]
  },
  {
   "cell_type": "code",
   "execution_count": 2,
   "metadata": {
    "collapsed": false
   },
   "outputs": [
    {
     "data": {
      "text/plain": [
       "2"
      ]
     },
     "execution_count": 2,
     "metadata": {},
     "output_type": "execute_result"
    },
    {
     "name": "stdout",
     "output_type": "stream",
     "text": [
      "-1.1096235e6 -1.2312939e6\n",
      "SELFTIMED 6.711717859\n"
     ]
    }
   ],
   "source": [
    "1+1"
   ]
  },
  {
   "cell_type": "code",
   "execution_count": 4,
   "metadata": {
    "collapsed": true
   },
   "outputs": [],
   "source": [
    "using ParallelAccelerator"
   ]
  },
  {
   "cell_type": "code",
   "execution_count": null,
   "metadata": {
    "collapsed": true
   },
   "outputs": [],
   "source": []
  }
 ],
 "metadata": {
  "kernelspec": {
   "display_name": "Julia 0.4.0",
   "language": "julia",
   "name": "julia-0.4"
  },
  "language_info": {
   "file_extension": ".jl",
   "mimetype": "application/julia",
   "name": "julia",
   "version": "0.4.0"
  }
 },
 "nbformat": 4,
 "nbformat_minor": 0
}
