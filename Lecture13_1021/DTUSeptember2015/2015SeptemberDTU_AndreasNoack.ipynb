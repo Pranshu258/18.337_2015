{
 "cells": [
  {
   "cell_type": "markdown",
   "metadata": {},
   "source": [
    "<center>\n",
    "# Linear algebra in\n",
    "<img width=400 src=julia.png>\n",
    "## Andreas Noack\n",
    "### September 2015\n",
    "### Computer Science and Artificial Intelligence Laboratory<br>Massachusetts Institute of Technology\n",
    "</center>\n",
    "## Outline\n",
    " - What is Julia\n",
    "  - The people behind\n",
    "  - Two language problem\n",
    " - Introduction to linear algebra\n",
    "  - Basic linear algebra\n",
    "  - Factorizations\n",
    "  - Special matrices\n",
    " - Generic linear algebra\n",
    " - Fast linear algebra\n",
    " - The future!"
   ]
  },
  {
   "cell_type": "markdown",
   "metadata": {},
   "source": [
    "## What is Julia?\n",
    " \n",
    "### Founded by\n",
    " - Alan Edelman\n",
    " - Jeff Besanzon\n",
    " - Viral B. Shah\n",
    " - Stefan Starpinski\n",
    "<img width=700 src=kahan.jpg>\n",
    "\n",
    "### Why?\n",
    "> In short, because we are greedy.\n",
    "\n",
    "> ...\n",
    "\n",
    "> We want a language ..., with true macros like Lisp, but with obvious, familiar mathematical notation like Matlab. We want something as usable for general programming as Python, as easy for statistics as R, as natural for string processing as Perl, as powerful for linear algebra as Matlab, as good at gluing programs together as the shell. Something that is dirt simple to learn, yet keeps the most serious hackers happy. We want it interactive and we want it compiled.\n",
    "\n",
    "from the [blog post](http://julialang.org/blog/2012/02/why-we-created-julia/) acompanying the first public version of Julia in February 2012.\n",
    "\n",
    "### Status\n",
    "As of yesterday evening\n",
    " - 399 contributors to [JuliaLang/julia](https://github.com/JuliaLang/julia)\n",
    "<img width=700 src=world1.pdf>\n",
    "Picture by Jiahao Chen\n",
    "\n",
    "688 packages registered at [pkg.julialang.org](http://pkg.julialang.org/)\n",
    "<img width=700 src=packages.svg>\n",
    "Picture by Iain Dunning\n",
    "\n",
    "### License\n",
    "- Most of Julia's source is licensed under the [MIT license](https://opensource.org/licenses/MIT)\n",
    "- Allows for commecial use of Julia without restriction\n",
    "- Binaries are GPL because of linked libraries (primarily sparse linear algebra)\n",
    "- Build flag to avoid GPL licensed components\n",
    "\n",
    "### Two language problem - Julia is an outlier\n",
    "Average of running times vs. average of lines to implement micro benchmark for some popular languages\n",
    "<img width=700 src=SpeedVsLines.png>\n",
    "Picture by Simon Danisch\n",
    "\n",
    "### How?"
   ]
  },
  {
   "cell_type": "markdown",
   "metadata": {},
   "source": [
    "### Mathematical syntax\n",
    "Simple syntax with extensive unicode support that allows code to look like math"
   ]
  },
  {
   "cell_type": "code",
   "execution_count": 1,
   "metadata": {
    "collapsed": false
   },
   "outputs": [
    {
     "name": "stdout",
     "output_type": "stream",
     "text": [
      "det(A - λ * I) = 6.7656021995418656e-15"
     ]
    },
    {
     "data": {
      "text/plain": [
       "6.7656021995418656e-15"
      ]
     },
     "execution_count": 1,
     "metadata": {},
     "output_type": "execute_result"
    },
    {
     "name": "stdout",
     "output_type": "stream",
     "text": [
      "\n"
     ]
    }
   ],
   "source": [
    "# eigenvalues\n",
    "A = randn(3,3) |> t -> t + t'\n",
    "λ = eigmax(A)\n",
    "@show det(A - λ*I)"
   ]
  },
  {
   "cell_type": "code",
   "execution_count": 2,
   "metadata": {
    "collapsed": false
   },
   "outputs": [
    {
     "name": "stdout",
     "output_type": "stream",
     "text": [
      "f(0) = 1\n",
      "f(1) = 1\n",
      "f(2) = 2\n",
      "f(3) = 3\n",
      "f(4) = 5\n",
      "f(5) = 8\n",
      "f(6) = 13\n",
      "f(7) = 21\n",
      "f(8) = 34\n",
      "f(9) = 55\n",
      "f(10) = 89\n"
     ]
    }
   ],
   "source": [
    "# Fibonacci\n",
    "f(n) = n < 2 ? 1 : f(n-1) + f(n-2)\n",
    "for i = 0:10\n",
    "    println(\"f($i) = $(f(i))\")\n",
    "end"
   ]
  },
  {
   "cell_type": "markdown",
   "metadata": {},
   "source": [
    "## Basic linear algebra\n",
    "Syntax very similar to MATLAB but there are some important differences. Define a matrix of random normal variates"
   ]
  },
  {
   "cell_type": "code",
   "execution_count": 3,
   "metadata": {
    "collapsed": false
   },
   "outputs": [
    {
     "data": {
      "text/plain": [
       "3x3 Array{Float64,2}:\n",
       " -0.0828106  1.26905    1.6852  \n",
       "  0.11839    0.581428  -0.701548\n",
       "  1.42867    1.06831   -0.144026"
      ]
     },
     "execution_count": 3,
     "metadata": {},
     "output_type": "execute_result"
    }
   ],
   "source": [
    "A = randn(3,3)"
   ]
  },
  {
   "cell_type": "markdown",
   "metadata": {},
   "source": [
    "and a vector of ones"
   ]
  },
  {
   "cell_type": "code",
   "execution_count": 4,
   "metadata": {
    "collapsed": false
   },
   "outputs": [
    {
     "data": {
      "text/plain": [
       "3-element Array{Float64,1}:\n",
       " 1.0\n",
       " 1.0\n",
       " 1.0"
      ]
     },
     "execution_count": 4,
     "metadata": {},
     "output_type": "execute_result"
    }
   ],
   "source": [
    "x = ones(3)"
   ]
  },
  {
   "cell_type": "markdown",
   "metadata": {},
   "source": [
    "Notice that $A$ has type `Array{Float64,2}` but $x$ has type `Array{Float64,1}`. Julia defines the aliases `Vector{Type} = Array{Type,1}` and `Matrix{Type} = Array{Type,2}`. The destinction between vectors and matrices typically causes some confusion when coming from a MATLAB background.\n",
    "\n",
    "Many of the basic operations are the same as in MATLAB\n",
    "### Multiplication"
   ]
  },
  {
   "cell_type": "code",
   "execution_count": 5,
   "metadata": {
    "collapsed": false
   },
   "outputs": [
    {
     "data": {
      "text/plain": [
       "3-element Array{Float64,1}:\n",
       "  2.87143   \n",
       " -0.00172941\n",
       "  2.35295   "
      ]
     },
     "execution_count": 5,
     "metadata": {},
     "output_type": "execute_result"
    }
   ],
   "source": [
    "b = A*x"
   ]
  },
  {
   "cell_type": "markdown",
   "metadata": {},
   "source": [
    "### Transposition\n",
    "As in MATLAB `A'` is the conjugate transpose whereas `A.'` is just the transpose"
   ]
  },
  {
   "cell_type": "code",
   "execution_count": 7,
   "metadata": {
    "collapsed": false
   },
   "outputs": [
    {
     "data": {
      "text/plain": [
       "3x3 Array{Float64,2}:\n",
       " -0.165621  1.38744   3.11386 \n",
       "  1.38744   1.16286   0.36676 \n",
       "  3.11386   0.36676  -0.288051"
      ]
     },
     "execution_count": 7,
     "metadata": {},
     "output_type": "execute_result"
    }
   ],
   "source": [
    "Asym = A + A'"
   ]
  },
  {
   "cell_type": "markdown",
   "metadata": {},
   "source": [
    "### Transposed multiplication\n",
    "Julia allows us to write this without *"
   ]
  },
  {
   "cell_type": "code",
   "execution_count": 8,
   "metadata": {
    "collapsed": false
   },
   "outputs": [
    {
     "data": {
      "text/plain": [
       "3x3 Array{Float64,2}:\n",
       "  2.06196   1.49     -0.428373\n",
       "  1.49      3.08982   1.57683 \n",
       " -0.428373  1.57683   3.3528  "
      ]
     },
     "execution_count": 8,
     "metadata": {},
     "output_type": "execute_result"
    }
   ],
   "source": [
    "Apd = A'A"
   ]
  },
  {
   "cell_type": "markdown",
   "metadata": {},
   "source": [
    "### Solving linear systems \n",
    "The problem $Ax=b$ for square $A$ is solved by the `\\` function."
   ]
  },
  {
   "cell_type": "code",
   "execution_count": 9,
   "metadata": {
    "collapsed": false
   },
   "outputs": [
    {
     "data": {
      "text/plain": [
       "3-element Array{Float64,1}:\n",
       " 1.0\n",
       " 1.0\n",
       " 1.0"
      ]
     },
     "execution_count": 9,
     "metadata": {},
     "output_type": "execute_result"
    }
   ],
   "source": [
    "A\\b"
   ]
  },
  {
   "cell_type": "markdown",
   "metadata": {},
   "source": [
    "### Least squares\n",
    "When A is tall the `\\` function calculates the least squares solution"
   ]
  },
  {
   "cell_type": "code",
   "execution_count": 10,
   "metadata": {
    "collapsed": false
   },
   "outputs": [
    {
     "data": {
      "text/plain": [
       "2-element Array{Float64,1}:\n",
       " 0.115132\n",
       " 1.93704 "
      ]
     },
     "execution_count": 10,
     "metadata": {},
     "output_type": "execute_result"
    }
   ],
   "source": [
    "A[:,1:2]\\b"
   ]
  },
  {
   "cell_type": "markdown",
   "metadata": {},
   "source": [
    "The `\\` function also works for rank deficient least squares problems. In this case, the least squares solution is not unique and Julia returns the solution with smallest norm"
   ]
  },
  {
   "cell_type": "code",
   "execution_count": 11,
   "metadata": {
    "collapsed": false
   },
   "outputs": [
    {
     "data": {
      "text/plain": [
       "2-element Array{Float64,1}:\n",
       " 0.757432\n",
       " 0.757432"
      ]
     },
     "execution_count": 11,
     "metadata": {},
     "output_type": "execute_result"
    }
   ],
   "source": [
    "[A[:,1] A[:,1]]\\b"
   ]
  },
  {
   "cell_type": "markdown",
   "metadata": {},
   "source": [
    "### Underdetermined systems\n",
    "Minimum norm solution is returned"
   ]
  },
  {
   "cell_type": "code",
   "execution_count": 12,
   "metadata": {
    "collapsed": false
   },
   "outputs": [
    {
     "data": {
      "text/plain": [
       "3-element Array{Float64,1}:\n",
       " -0.0132692\n",
       "  1.07662  \n",
       "  0.892507 "
      ]
     },
     "execution_count": 12,
     "metadata": {},
     "output_type": "execute_result"
    }
   ],
   "source": [
    "A[1:2,:]\\b[1:2]"
   ]
  },
  {
   "cell_type": "markdown",
   "metadata": {},
   "source": [
    "# Factorizations\n",
    "The `\\` function hides how the problem is actually solved. Depending on the dimensions of `A`, different methods are chosen to solve the problem. An intermediate step in the solution is to calculate a factorization of the matrix `A`. Basically, a factorization of `A` is a way of expressing `A` as a product of triangular, unitary and permutation matrices. Julia defines a `Factorization` abstract type and several composite subtypes for actually storing factorizations. A `Factorization` object should be thought of as a representation of the matrix `A`."
   ]
  },
  {
   "cell_type": "markdown",
   "metadata": {},
   "source": [
    "###LU\n",
    "When $A$ is square, problem is solved by factorizing the matrix $A = PLU$ where $P$ is a permutation matrix, $L$ is lower triangular unit diagonal and $U$ is upper triangular. Julia allows computing the LU factorization and defines a composite factorization type for storing it."
   ]
  },
  {
   "cell_type": "code",
   "execution_count": 13,
   "metadata": {
    "collapsed": false
   },
   "outputs": [
    {
     "data": {
      "text/plain": [
       "Base.LinAlg.LU{Float64,Array{Float64,2}}(3x3 Array{Float64,2}:\n",
       "  1.42867    1.06831   -0.144026\n",
       " -0.0579636  1.33097    1.67685 \n",
       "  0.0828678  0.370331  -1.3106  ,[3,3,3],0)"
      ]
     },
     "execution_count": 13,
     "metadata": {},
     "output_type": "execute_result"
    }
   ],
   "source": [
    "Alu = lufact(A)"
   ]
  },
  {
   "cell_type": "markdown",
   "metadata": {},
   "source": [
    "The different parts of the factorization can be extracted by special indexing"
   ]
  },
  {
   "cell_type": "code",
   "execution_count": 14,
   "metadata": {
    "collapsed": false
   },
   "outputs": [
    {
     "data": {
      "text/plain": [
       "3x3 Array{Float64,2}:\n",
       " 0.0  0.0  1.0\n",
       " 1.0  0.0  0.0\n",
       " 0.0  1.0  0.0"
      ]
     },
     "execution_count": 14,
     "metadata": {},
     "output_type": "execute_result"
    }
   ],
   "source": [
    "Alu[:P]"
   ]
  },
  {
   "cell_type": "code",
   "execution_count": 15,
   "metadata": {
    "collapsed": false
   },
   "outputs": [
    {
     "data": {
      "text/plain": [
       "3x3 Array{Float64,2}:\n",
       "  1.0        0.0       0.0\n",
       " -0.0579636  1.0       0.0\n",
       "  0.0828678  0.370331  1.0"
      ]
     },
     "execution_count": 15,
     "metadata": {},
     "output_type": "execute_result"
    }
   ],
   "source": [
    "Alu[:L]"
   ]
  },
  {
   "cell_type": "code",
   "execution_count": 16,
   "metadata": {
    "collapsed": false
   },
   "outputs": [
    {
     "data": {
      "text/plain": [
       "3x3 Array{Float64,2}:\n",
       " 1.42867  1.06831  -0.144026\n",
       " 0.0      1.33097   1.67685 \n",
       " 0.0      0.0      -1.3106  "
      ]
     },
     "execution_count": 16,
     "metadata": {},
     "output_type": "execute_result"
    }
   ],
   "source": [
    "Alu[:U]"
   ]
  },
  {
   "cell_type": "markdown",
   "metadata": {},
   "source": [
    "We can therefore compute the solution of $Ax=b$ from the factorization"
   ]
  },
  {
   "cell_type": "code",
   "execution_count": 16,
   "metadata": {
    "collapsed": false
   },
   "outputs": [
    {
     "data": {
      "text/plain": [
       "3-element Array{Float64,1}:\n",
       " 1.0\n",
       " 1.0\n",
       " 1.0"
      ]
     },
     "execution_count": 16,
     "metadata": {},
     "output_type": "execute_result"
    }
   ],
   "source": [
    "Alu[:U]\\(Alu[:L]\\(Alu[:P]'b))"
   ]
  },
  {
   "cell_type": "markdown",
   "metadata": {},
   "source": [
    "However, more importantly the `LU` type allows dispatch and we can solve the system by"
   ]
  },
  {
   "cell_type": "code",
   "execution_count": 17,
   "metadata": {
    "collapsed": false
   },
   "outputs": [
    {
     "data": {
      "text/plain": [
       "3-element Array{Float64,1}:\n",
       " 1.0\n",
       " 1.0\n",
       " 1.0"
      ]
     },
     "execution_count": 17,
     "metadata": {},
     "output_type": "execute_result"
    }
   ],
   "source": [
    "Alu\\b"
   ]
  },
  {
   "cell_type": "markdown",
   "metadata": {},
   "source": [
    "This could be useful if the same left-hand-side is used for several right-hand-sides. The factorization can also be used for calculating the determinant because $\\det(A)=\\det(PLU)=\\det(P)\\det(U)=\\pm \\prod u_{ii}$ because $U$ is triangular and the sign is determined from $\\det(P)$."
   ]
  },
  {
   "cell_type": "code",
   "execution_count": 17,
   "metadata": {
    "collapsed": false
   },
   "outputs": [
    {
     "data": {
      "text/plain": [
       "-2.4921240072770106"
      ]
     },
     "execution_count": 17,
     "metadata": {},
     "output_type": "execute_result"
    }
   ],
   "source": [
    "det(Alu)"
   ]
  },
  {
   "cell_type": "markdown",
   "metadata": {},
   "source": [
    "# QR\n",
    "When `A` is tall, Julia computes the least squares solution $\\hat{x}$ that minimizes $\\|Ax-b\\|_2$. This can be done by factorizing $A=QR$ where $Q$ is unitary/orthogonal and $R=\\left(\\begin{smallmatrix}R_0\\\\0\\end{smallmatrix}\\right)$ and $R_0$ is upper triangular. With the QR factorization the minimum norm can be expressed\n",
    "\\begin{equation*}\n",
    "\\|Ax-b\\|=\\|QRx-b\\|=\\|Q(Rx-Q'b)\\|=\\|Rx-Q'b\\|=\\left\\|\\begin{pmatrix}R_0x-Q_0'b\\\\Q_1'b\\end{pmatrix}\\right\\|=\\|R_0x-Q_0'b\\|+\\|Q_1'b\\|\n",
    "\\end{equation*}\n",
    "and the problem therefore reduces to solving the square problem $R_0x=Q_0'b$ for $x$.\n",
    "\n",
    "We can QR factorize the submatrix of the two first columns of $A$ by"
   ]
  },
  {
   "cell_type": "code",
   "execution_count": 19,
   "metadata": {
    "collapsed": false
   },
   "outputs": [
    {
     "data": {
      "text/plain": [
       "Base.LinAlg.QRCompactWY{Float64,Array{Float64,2}}(3x2 Array{Float64,2}:\n",
       " 0.920302    0.88955 \n",
       " 0.0499625  -1.90453 \n",
       " 0.412267   -0.105392,2x2 Array{Float64,2}:\n",
       " 1.70582       -0.0219749\n",
       " 2.15132e-314   1.97803  )"
      ]
     },
     "execution_count": 19,
     "metadata": {},
     "output_type": "execute_result"
    }
   ],
   "source": [
    "Aqr = qrfact(A[:,1:2])"
   ]
  },
  {
   "cell_type": "markdown",
   "metadata": {},
   "source": [
    "`\\` has a method for the QR and the least squares problem is therefore solved with"
   ]
  },
  {
   "cell_type": "code",
   "execution_count": 20,
   "metadata": {
    "collapsed": false
   },
   "outputs": [
    {
     "data": {
      "text/plain": [
       "2-element Array{Float64,1}:\n",
       " 1.55699 \n",
       " 0.935888"
      ]
     },
     "execution_count": 20,
     "metadata": {},
     "output_type": "execute_result"
    }
   ],
   "source": [
    "Aqr\\b"
   ]
  },
  {
   "cell_type": "markdown",
   "metadata": {},
   "source": [
    "It should be noted that this is *not* the way `A[:,1:2]\\b` is solved. In order to handle rank deficient problems Julia uses a QR factorization with pivoting. Pivoting is enabled with a special boolean argument"
   ]
  },
  {
   "cell_type": "code",
   "execution_count": 21,
   "metadata": {
    "collapsed": false
   },
   "outputs": [
    {
     "data": {
      "text/plain": [
       "Base.LinAlg.QRPivoted{Float64,Array{Float64,2}}(3x2 Array{Float64,2}:\n",
       " 0.920302   0.920302   \n",
       " 0.0499625  1.11886e-16\n",
       " 0.412267   0.882782   ,[1.7058151351483488,1.1240347345892086],[1,2])"
      ]
     },
     "execution_count": 21,
     "metadata": {},
     "output_type": "execute_result"
    }
   ],
   "source": [
    "Aqrp = qrfact([A[:,1] A[:,1]], Val{true})"
   ]
  },
  {
   "cell_type": "markdown",
   "metadata": {},
   "source": [
    "Notice that the type is different now. `\\` also has a method for `QRPivoted` and the rank deficient problem is therefore computed"
   ]
  },
  {
   "cell_type": "code",
   "execution_count": 22,
   "metadata": {
    "collapsed": false
   },
   "outputs": [
    {
     "data": {
      "text/plain": [
       "2-element Array{Float64,1}:\n",
       " 1.2308\n",
       " 1.2308"
      ]
     },
     "execution_count": 22,
     "metadata": {},
     "output_type": "execute_result"
    }
   ],
   "source": [
    "Aqrp\\b"
   ]
  },
  {
   "cell_type": "markdown",
   "metadata": {},
   "source": [
    "Another feature of the QR factorizations is the `Q` types for storing the unitary matrices $Q$. They can be extracted from the different from `QR` types by indexing"
   ]
  },
  {
   "cell_type": "code",
   "execution_count": 23,
   "metadata": {
    "collapsed": false
   },
   "outputs": [
    {
     "data": {
      "text/plain": [
       "3x3 Base.LinAlg.QRCompactWYQ{Float64,Array{Float64,2}}:\n",
       " -0.705815   -0.0632519  -0.705567\n",
       " -0.0852268  -0.981189    0.173217\n",
       " -0.703251    0.182393    0.687147"
      ]
     },
     "execution_count": 23,
     "metadata": {},
     "output_type": "execute_result"
    }
   ],
   "source": [
    "Aqr[:Q]"
   ]
  },
  {
   "cell_type": "markdown",
   "metadata": {},
   "source": [
    "The matrix has a compact internal representation"
   ]
  },
  {
   "cell_type": "code",
   "execution_count": 24,
   "metadata": {
    "collapsed": false
   },
   "outputs": [
    {
     "name": "stdout",
     "output_type": "stream",
     "text": [
      "fieldnames(Aqr[:Q]) = [:factors,:T]"
     ]
    },
    {
     "data": {
      "text/plain": [
       "3x3 Array{Float64,2}:\n",
       " -0.705815   -0.0632519  -0.705567\n",
       " -0.0852268  -0.981189    0.173217\n",
       " -0.703251    0.182393    0.687147"
      ]
     },
     "execution_count": 24,
     "metadata": {},
     "output_type": "execute_result"
    }
   ],
   "source": [
    "@show fieldnames(Aqr[:Q])\n",
    "V = tril(Aqr[:Q].factors, -1)\n",
    "V[1,1] = V[2,2] = 1\n",
    "@show V\n",
    "@show T = Aqr[:Q].T;\n",
    "\n",
    "# Hence the complete reflector can be computed \n",
    "I - V*T*V'"
   ]
  },
  {
   "cell_type": "markdown",
   "metadata": {},
   "source": [
    "Even though the `Q` type is printed as a square matrix, it is in practice representing the  $3\\times 2$ version as well. Hence both"
   ]
  },
  {
   "cell_type": "code",
   "execution_count": 25,
   "metadata": {
    "collapsed": false
   },
   "outputs": [
    {
     "data": {
      "text/plain": [
       "3-element Array{Float64,1}:\n",
       " -0.769067\n",
       " -1.06642 \n",
       " -0.520858"
      ]
     },
     "execution_count": 25,
     "metadata": {},
     "output_type": "execute_result"
    }
   ],
   "source": [
    "Aqr[:Q]*ones(2)"
   ]
  },
  {
   "cell_type": "markdown",
   "metadata": {},
   "source": [
    "and"
   ]
  },
  {
   "cell_type": "code",
   "execution_count": 26,
   "metadata": {
    "collapsed": false
   },
   "outputs": [
    {
     "data": {
      "text/plain": [
       "3-element Array{Float64,1}:\n",
       " -1.47463 \n",
       " -0.893199\n",
       "  0.166289"
      ]
     },
     "execution_count": 26,
     "metadata": {},
     "output_type": "execute_result"
    }
   ],
   "source": [
    "Aqr[:Q]*ones(3)"
   ]
  },
  {
   "cell_type": "markdown",
   "metadata": {},
   "source": [
    "works, but not"
   ]
  },
  {
   "cell_type": "code",
   "execution_count": 27,
   "metadata": {
    "collapsed": false
   },
   "outputs": [
    {
     "ename": "LoadError",
     "evalue": "LoadError: DimensionMismatch(\"vector must have length either 3 or 2\")\nwhile loading In[27], in expression starting on line 1",
     "output_type": "error",
     "traceback": [
      "LoadError: DimensionMismatch(\"vector must have length either 3 or 2\")\nwhile loading In[27], in expression starting on line 1",
      "",
      " in * at linalg/qr.jl:173"
     ]
    }
   ],
   "source": [
    "Aqr[:Q]*ones(4)"
   ]
  },
  {
   "cell_type": "markdown",
   "metadata": {},
   "source": [
    "#### Function overloading/mutiple dispatch"
   ]
  },
  {
   "cell_type": "code",
   "execution_count": 18,
   "metadata": {
    "collapsed": false
   },
   "outputs": [
    {
     "data": {
      "text/html": [
       "A_ldiv_B!<i>{T<:Union{Complex{Float32},Complex{Float64},Float32,Float64},S<:Union{DenseArray{T,2},SubArray{T,2,A<:DenseArray{T,N},I<:Tuple{Vararg{Union{Colon,Int64,Range{Int64}}}},LD}}}</i>(A::<b>Base.LinAlg.LU{T<:Union{Complex{Float32},Complex{Float64},Float32,Float64},S<:Union{DenseArray{T,2},SubArray{T,2,A<:DenseArray{T,N},I<:Tuple{Vararg{Union{Colon,Int64,Range{Int64}}}},LD}}}</b>, B::<b>Union{DenseArray{T<:Union{Complex{Float32},Complex{Float64},Float32,Float64},1},DenseArray{T<:Union{Complex{Float32},Complex{Float64},Float32,Float64},2},SubArray{T<:Union{Complex{Float32},Complex{Float64},Float32,Float64},1,A<:DenseArray{T,N},I<:Tuple{Vararg{Union{Colon,Int64,Range{Int64}}}},LD},SubArray{T<:Union{Complex{Float32},Complex{Float64},Float32,Float64},2,A<:DenseArray{T,N},I<:Tuple{Vararg{Union{Colon,Int64,Range{Int64}}}},LD}}</b>) at <a href=\"https://github.com/JuliaLang/julia/tree/0ff703b40afddf9b705bd6a06d3a59cb4c089ea5/base/linalg/lu.jl#L133\" target=\"_blank\">linalg/lu.jl:133</a>"
      ],
      "text/plain": [
       "A_ldiv_B!{T<:Union{Complex{Float32},Complex{Float64},Float32,Float64},S<:Union{DenseArray{T,2},SubArray{T,2,A<:DenseArray{T,N},I<:Tuple{Vararg{Union{Colon,Int64,Range{Int64}}}},LD}}}(A::Base.LinAlg.LU{T<:Union{Complex{Float32},Complex{Float64},Float32,Float64},S<:Union{DenseArray{T,2},SubArray{T,2,A<:DenseArray{T,N},I<:Tuple{Vararg{Union{Colon,Int64,Range{Int64}}}},LD}}}, B::Union{DenseArray{T<:Union{Complex{Float32},Complex{Float64},Float32,Float64},1},DenseArray{T<:Union{Complex{Float32},Complex{Float64},Float32,Float64},2},SubArray{T<:Union{Complex{Float32},Complex{Float64},Float32,Float64},1,A<:DenseArray{T,N},I<:Tuple{Vararg{Union{Colon,Int64,Range{Int64}}}},LD},SubArray{T<:Union{Complex{Float32},Complex{Float64},Float32,Float64},2,A<:DenseArray{T,N},I<:Tuple{Vararg{Union{Colon,Int64,Range{Int64}}}},LD}}) at linalg/lu.jl:133"
      ]
     },
     "execution_count": 18,
     "metadata": {},
     "output_type": "execute_result"
    }
   ],
   "source": [
    "@which A_ldiv_B!(Alu, b)"
   ]
  },
  {
   "cell_type": "code",
   "execution_count": 29,
   "metadata": {
    "collapsed": false
   },
   "outputs": [
    {
     "data": {
      "text/html": [
       "A_ldiv_B!<i>{T<:Union{Complex{Float32},Complex{Float64},Float32,Float64}}</i>(A::<b>Base.LinAlg.QRCompactWY{T<:Union{Complex{Float32},Complex{Float64},Float32,Float64},M<:AbstractArray{T,2}}</b>, b::<b>Union{DenseArray{T<:Union{Complex{Float32},Complex{Float64},Float32,Float64},1},SubArray{T<:Union{Complex{Float32},Complex{Float64},Float32,Float64},1,A<:DenseArray{T,N},I<:Tuple{Vararg{Union{Colon,Int64,Range{Int64}}}},LD}}</b>) at <a href=\"https://github.com/JuliaLang/julia/tree/1bb7e10ed26e4123066191c49079ea70ebb7ec1b/base/linalg/qr.jl#L299\" target=\"_blank\">linalg/qr.jl:299</a>"
      ],
      "text/plain": [
       "A_ldiv_B!{T<:Union{Complex{Float32},Complex{Float64},Float32,Float64}}(A::Base.LinAlg.QRCompactWY{T<:Union{Complex{Float32},Complex{Float64},Float32,Float64},M<:AbstractArray{T,2}}, b::Union{DenseArray{T<:Union{Complex{Float32},Complex{Float64},Float32,Float64},1},SubArray{T<:Union{Complex{Float32},Complex{Float64},Float32,Float64},1,A<:DenseArray{T,N},I<:Tuple{Vararg{Union{Colon,Int64,Range{Int64}}}},LD}}) at linalg/qr.jl:299"
      ]
     },
     "execution_count": 29,
     "metadata": {},
     "output_type": "execute_result"
    }
   ],
   "source": [
    "@which A_ldiv_B!(Aqr, b)"
   ]
  },
  {
   "cell_type": "markdown",
   "metadata": {},
   "source": [
    "### Eigendecompositions and the SVD(s)"
   ]
  },
  {
   "cell_type": "markdown",
   "metadata": {},
   "source": [
    "The results from eigendecompositions and singular values decompositions are also stored in `Factorization` types. This also include Hessenberg and Schur factorizations.\n",
    "\n",
    "The eigendecomposition can be computed"
   ]
  },
  {
   "cell_type": "code",
   "execution_count": 30,
   "metadata": {
    "collapsed": false
   },
   "outputs": [
    {
     "data": {
      "text/plain": [
       "Base.LinAlg.Eigen{Float64,Float64,Array{Float64,2},Array{Float64,1}}([-2.197030178391658,-0.6475253632158462,3.907743114832829],3x3 Array{Float64,2}:\n",
       " 0.663497  -0.743686    0.0818729\n",
       " 0.217108   0.0866579  -0.972293 \n",
       " 0.715986   0.662889    0.218958 )"
      ]
     },
     "execution_count": 30,
     "metadata": {},
     "output_type": "execute_result"
    }
   ],
   "source": [
    "AsymEig = eigfact(Asym)"
   ]
  },
  {
   "cell_type": "markdown",
   "metadata": {},
   "source": [
    "The values and the vectors can be extracted from the Eigen type by special indexing"
   ]
  },
  {
   "cell_type": "code",
   "execution_count": 31,
   "metadata": {
    "collapsed": false
   },
   "outputs": [
    {
     "data": {
      "text/plain": [
       "3-element Array{Float64,1}:\n",
       " -2.19703 \n",
       " -0.647525\n",
       "  3.90774 "
      ]
     },
     "execution_count": 31,
     "metadata": {},
     "output_type": "execute_result"
    }
   ],
   "source": [
    "AsymEig[:values]"
   ]
  },
  {
   "cell_type": "code",
   "execution_count": 32,
   "metadata": {
    "collapsed": false
   },
   "outputs": [
    {
     "data": {
      "text/plain": [
       "3x3 Array{Float64,2}:\n",
       " 0.663497  -0.743686    0.0818729\n",
       " 0.217108   0.0866579  -0.972293 \n",
       " 0.715986   0.662889    0.218958 "
      ]
     },
     "execution_count": 32,
     "metadata": {},
     "output_type": "execute_result"
    }
   ],
   "source": [
    "AsymEig[:vectors]"
   ]
  },
  {
   "cell_type": "markdown",
   "metadata": {},
   "source": [
    "Once again, when the factorization is stored in a type, we can dispatch on it and write specialized methods that exploit the properties of the factorization, e.g. that $A^{-1}=(V\\Lambda V^T)^{-1}=V\\Lambda^{-1}V^T$."
   ]
  },
  {
   "cell_type": "code",
   "execution_count": 33,
   "metadata": {
    "collapsed": false
   },
   "outputs": [
    {
     "data": {
      "text/plain": [
       "3x3 Array{Float64,2}:\n",
       " 1.0          -1.88738e-15  -2.33147e-15\n",
       " 3.05311e-16   1.0           9.99201e-16\n",
       " 0.0           1.55431e-15   1.0        "
      ]
     },
     "execution_count": 33,
     "metadata": {},
     "output_type": "execute_result"
    }
   ],
   "source": [
    "inv(AsymEig)*Asym"
   ]
  },
  {
   "cell_type": "markdown",
   "metadata": {},
   "source": [
    "Julia also has an `eig` function which returns a tuple with the values and the vectors"
   ]
  },
  {
   "cell_type": "code",
   "execution_count": 34,
   "metadata": {
    "collapsed": false
   },
   "outputs": [
    {
     "data": {
      "text/plain": [
       "([-2.197030178391658,-0.6475253632158462,3.907743114832829],\n",
       "3x3 Array{Float64,2}:\n",
       " 0.663497  -0.743686    0.0818729\n",
       " 0.217108   0.0866579  -0.972293 \n",
       " 0.715986   0.662889    0.218958 )"
      ]
     },
     "execution_count": 34,
     "metadata": {},
     "output_type": "execute_result"
    }
   ],
   "source": [
    "eig(Asym)"
   ]
  },
  {
   "cell_type": "markdown",
   "metadata": {},
   "source": [
    "This is mainly provided for MATLAB compatibility.\n",
    "\n",
    "The `svdfact` function computes the singular value decomposition"
   ]
  },
  {
   "cell_type": "code",
   "execution_count": 35,
   "metadata": {
    "collapsed": false
   },
   "outputs": [
    {
     "data": {
      "text/plain": [
       "Base.LinAlg.SVD{Float64,Float64,Array{Float64,2}}(3x2 Array{Float64,2}:\n",
       "  0.29581   0.64395 \n",
       " -0.809151  0.561489\n",
       "  0.507712  0.51967 ,[2.144116717870728,0.8174661132840748],2x2 Array{Float64,2}:\n",
       " -0.213269  -0.976993\n",
       " -0.976993   0.213269)"
      ]
     },
     "execution_count": 35,
     "metadata": {},
     "output_type": "execute_result"
    }
   ],
   "source": [
    "Asvd = svdfact(A[:,1:2])"
   ]
  },
  {
   "cell_type": "markdown",
   "metadata": {},
   "source": [
    "and again `\\` has a method for the type enabling least squares by SVD"
   ]
  },
  {
   "cell_type": "code",
   "execution_count": 36,
   "metadata": {
    "collapsed": false
   },
   "outputs": [
    {
     "data": {
      "text/plain": [
       "2-element Array{Float64,1}:\n",
       " 1.55699 \n",
       " 0.935888"
      ]
     },
     "execution_count": 36,
     "metadata": {},
     "output_type": "execute_result"
    }
   ],
   "source": [
    "Asvd\\b"
   ]
  },
  {
   "cell_type": "markdown",
   "metadata": {},
   "source": [
    "In contrast to MATLAB, Julia does not allow dispatch on the number of output arguments and therefore there are special functions for providing values only: `eigvals` and `svdvals`."
   ]
  },
  {
   "cell_type": "markdown",
   "metadata": {},
   "source": [
    "### Sparse factorizations"
   ]
  },
  {
   "cell_type": "code",
   "execution_count": 37,
   "metadata": {
    "collapsed": false
   },
   "outputs": [
    {
     "name": "stdout",
     "output_type": "stream",
     "text": [
      "lufact(AS) = UMFPACK LU Factorization of a 1000-by-1000 sparse matrix\n",
      "Ptr{Void} @0x00007fd0907d7dc0\n",
      "\n",
      "cholfact(AS' * AS) = Base.SparseMatrix.CHOLMOD.Factor{Float64}\n",
      "type:          LLt\n",
      "method: supernodal\n",
      "maxnnz:          0\n",
      "nnz:        460823\n",
      "\n",
      "ldltfact(AS + AS') = Base.SparseMatrix.CHOLMOD.Factor{Float64}\n",
      "type:         LDLt\n",
      "method: simplicial\n",
      "maxnnz:     251798\n",
      "nnz:        251798\n",
      "\n",
      "qrfact(AS[:,1:10]) = Base.SparseMatrix.SPQR.Factorization{Float64}(1000,10,Ptr{Base.SparseMatrix.SPQR.C_Factorization{Float64}} @0x00007fd090a3a210)"
     ]
    }
   ],
   "source": [
    "AS = sprandn(1000, 1000, 0.01) + I\n",
    "bb = randn(1000)\n",
    "@show lufact(AS)\n",
    "@show cholfact(AS'AS)\n",
    "@show ldltfact(AS + AS')\n",
    "@show qrfact(AS[:,1:10])\n",
    ";"
   ]
  },
  {
   "cell_type": "code",
   "execution_count": 38,
   "metadata": {
    "collapsed": false
   },
   "outputs": [
    {
     "data": {
      "text/plain": [
       "3-element Array{Float64,1}:\n",
       " -15.433 \n",
       " -18.2876\n",
       "  12.4687"
      ]
     },
     "execution_count": 38,
     "metadata": {},
     "output_type": "execute_result"
    }
   ],
   "source": [
    "# lufact based\n",
    "(AS\\bb)[1:3]"
   ]
  },
  {
   "cell_type": "code",
   "execution_count": 39,
   "metadata": {
    "collapsed": false
   },
   "outputs": [
    {
     "data": {
      "text/plain": [
       "3-element Array{Float64,1}:\n",
       " -15.433 \n",
       " -18.2876\n",
       "  12.4687"
      ]
     },
     "execution_count": 39,
     "metadata": {},
     "output_type": "execute_result"
    },
    {
     "name": "stdout",
     "output_type": "stream",
     "text": [
      "\n"
     ]
    }
   ],
   "source": [
    "# cholfact based\n",
    "((AS'AS)\\(AS'bb))[1:3]"
   ]
  },
  {
   "cell_type": "code",
   "execution_count": 40,
   "metadata": {
    "collapsed": false
   },
   "outputs": [
    {
     "data": {
      "text/plain": [
       "3-element Array{Float64,1}:\n",
       "  -3.02018\n",
       " -16.7284 \n",
       " -16.1353 "
      ]
     },
     "execution_count": 40,
     "metadata": {},
     "output_type": "execute_result"
    }
   ],
   "source": [
    "# ldltfact based\n",
    "((AS + AS')\\bb)[1:3]"
   ]
  },
  {
   "cell_type": "code",
   "execution_count": 41,
   "metadata": {
    "collapsed": false
   },
   "outputs": [
    {
     "data": {
      "text/plain": [
       "3-element Array{Float64,1}:\n",
       " -0.227766 \n",
       " -0.460589 \n",
       " -0.0407802"
      ]
     },
     "execution_count": 41,
     "metadata": {},
     "output_type": "execute_result"
    }
   ],
   "source": [
    "# qrfact based\n",
    "AS[:,1:3]\\bb"
   ]
  },
  {
   "cell_type": "markdown",
   "metadata": {},
   "source": [
    "##Special matrices\n",
    "The structure of matrices is very important in linear algebra. This structure can be made explicit in Julia through composite types. Examples are `Diagonal`, `Triangular`, `Symmetric`, `Hermitian`, `Tridiagonal` and `SymTridiagonal`. Specialized methods are written for the special matrix types to take advantage of their structure. Below some examples are shown"
   ]
  },
  {
   "cell_type": "code",
   "execution_count": 42,
   "metadata": {
    "collapsed": false
   },
   "outputs": [
    {
     "data": {
      "text/plain": [
       "3x3 Diagonal{Float64}:\n",
       " -0.649563  0.0       0.0     \n",
       "  0.0       1.79289   0.0     \n",
       "  0.0       0.0      -0.611733"
      ]
     },
     "execution_count": 42,
     "metadata": {},
     "output_type": "execute_result"
    }
   ],
   "source": [
    "Diagonal(diag(A))"
   ]
  },
  {
   "cell_type": "code",
   "execution_count": 43,
   "metadata": {
    "collapsed": false
   },
   "outputs": [
    {
     "data": {
      "text/plain": [
       "3x3 LowerTriangular{Float64,Array{Float64,2}}:\n",
       " -0.649563    0.0        0.0     \n",
       " -0.0784344   1.79289    0.0     \n",
       " -0.647203   -0.972948  -0.611733"
      ]
     },
     "execution_count": 43,
     "metadata": {},
     "output_type": "execute_result"
    }
   ],
   "source": [
    "LowerTriangular(A)"
   ]
  },
  {
   "cell_type": "code",
   "execution_count": 44,
   "metadata": {
    "collapsed": false
   },
   "outputs": [
    {
     "data": {
      "text/plain": [
       "3x3 Symmetric{Float64,Array{Float64,2}}:\n",
       " -1.29913   -0.585827  -0.654438\n",
       " -0.585827   3.58578   -1.21064 \n",
       " -0.654438  -1.21064   -1.22347 "
      ]
     },
     "execution_count": 44,
     "metadata": {},
     "output_type": "execute_result"
    }
   ],
   "source": [
    "Symmetric(Asym)"
   ]
  },
  {
   "cell_type": "code",
   "execution_count": 45,
   "metadata": {
    "collapsed": false
   },
   "outputs": [
    {
     "data": {
      "text/plain": [
       "3x3 SymTridiagonal{Float64}:\n",
       " -1.29913   -0.585827   0.0    \n",
       " -0.585827   3.58578   -1.21064\n",
       "  0.0       -1.21064   -1.22347"
      ]
     },
     "execution_count": 45,
     "metadata": {},
     "output_type": "execute_result"
    }
   ],
   "source": [
    "SymTridiagonal(diag(Asym), diag(Asym,1))"
   ]
  },
  {
   "cell_type": "markdown",
   "metadata": {},
   "source": [
    "When it is known that a matrix is e.g. triangular or symmetric Julia might be able to solve a problem faster by converting the matrix to a special matrix. For some of the procedures, Julia checks if the input matrix is triangular or symmetric and converts the matrix if such a structure is detected. It should be noted that `Symmetric`, `Hermitian` and `Triangular` do not copy the input matrix.\n",
    "### Symmetric eigenproblem\n",
    "Whether or not Julia is able to detect if a matrix is symmetric/Hermitian can have a big influence on how fast an eigenvalue problem is solved. Sometimes it is known that a matrix is symmetric or Hermitian but due to floating point errors this is not detected at runtime by the `eigvals` function. In the following example `Asym1` and `Asym2` are almost identical, but unless Julia is told that `Asym2` is symmetric, the elapsed time for the computation is very different."
   ]
  },
  {
   "cell_type": "code",
   "execution_count": 46,
   "metadata": {
    "collapsed": false
   },
   "outputs": [
    {
     "name": "stdout",
     "output_type": "stream",
     "text": [
      "Is Asym1 symmetric? true"
     ]
    }
   ],
   "source": [
    "n = 1000;\n",
    "A = randn(n, n);\n",
    "Asym1 = A + A';\n",
    "Asym2 = copy(Asym1);Asym2[1,2] += 5eps();\n",
    "println(\"Is Asym1 symmetric? \", issym(Asym1))\n",
    "println(\"Is Asym2 symmetric? \", issym(Asym2))"
   ]
  },
  {
   "cell_type": "code",
   "execution_count": 47,
   "metadata": {
    "collapsed": false
   },
   "outputs": [
    {
     "name": "stdout",
     "output_type": "stream",
     "text": [
      "\n",
      "Is Asym2 symmetric? false\n",
      "  "
     ]
    }
   ],
   "source": [
    "@time eigvals(Asym1);"
   ]
  },
  {
   "cell_type": "code",
   "execution_count": 48,
   "metadata": {
    "collapsed": false
   },
   "outputs": [
    {
     "name": "stdout",
     "output_type": "stream",
     "text": [
      "0.379205 seconds (506 allocations: 8.018 MB)\n",
      "  "
     ]
    }
   ],
   "source": [
    "@time eigvals(Asym2);"
   ]
  },
  {
   "cell_type": "code",
   "execution_count": 49,
   "metadata": {
    "collapsed": false
   },
   "outputs": [
    {
     "name": "stdout",
     "output_type": "stream",
     "text": [
      "0.943954 seconds (45 allocations: 8.177 MB, 0.42% gc time)\n",
      "  "
     ]
    }
   ],
   "source": [
    "@time eigvals(Symmetric(Asym2));"
   ]
  },
  {
   "cell_type": "code",
   "execution_count": 50,
   "metadata": {
    "collapsed": false
   },
   "outputs": [
    {
     "data": {
      "text/html": [
       "eigvals<i>{T}</i>(A::<b>Union{DenseArray{T,2},SubArray{T,2,A<:DenseArray{T,N},I<:Tuple{Vararg{Union{Colon,Int64,Range{Int64}}}},LD}}</b>) at <a href=\"https://github.com/JuliaLang/julia/tree/1bb7e10ed26e4123066191c49079ea70ebb7ec1b/base/linalg/eigen.jl#L91\" target=\"_blank\">linalg/eigen.jl:91</a>"
      ],
      "text/plain": [
       "eigvals{T}(A::Union{DenseArray{T,2},SubArray{T,2,A<:DenseArray{T,N},I<:Tuple{Vararg{Union{Colon,Int64,Range{Int64}}}},LD}}) at linalg/eigen.jl:91"
      ]
     },
     "execution_count": 50,
     "metadata": {},
     "output_type": "execute_result"
    }
   ],
   "source": [
    "@which eigvals(Asym2)"
   ]
  },
  {
   "cell_type": "code",
   "execution_count": 51,
   "metadata": {
    "collapsed": false
   },
   "outputs": [
    {
     "data": {
      "text/html": [
       "eigvals<i>{T1<:Real,T2}</i>(A::<b>Union{Hermitian{Complex{T1<:Real},T2},Hermitian{T1<:Real,T2},Symmetric{T1<:Real,T2}}</b>) at <a href=\"https://github.com/JuliaLang/julia/tree/1bb7e10ed26e4123066191c49079ea70ebb7ec1b/base/linalg/symmetric.jl#L144\" target=\"_blank\">linalg/symmetric.jl:144</a>"
      ],
      "text/plain": [
       "eigvals{T1<:Real,T2}(A::Union{Hermitian{Complex{T1<:Real},T2},Hermitian{T1<:Real,T2},Symmetric{T1<:Real,T2}}) at linalg/symmetric.jl:144"
      ]
     },
     "execution_count": 51,
     "metadata": {},
     "output_type": "execute_result"
    }
   ],
   "source": [
    "@which eigvals(Symmetric(Asym2))"
   ]
  },
  {
   "cell_type": "markdown",
   "metadata": {},
   "source": [
    "We are considering a less restrictive test for symmetry that allows small floating point errors in symmetric matrices. However, explicit type declaration still avoids the runtime check."
   ]
  },
  {
   "cell_type": "markdown",
   "metadata": {},
   "source": [
    "### A big problem\n",
    "By using the tridiagonal matrices it is possible to work with potentially very large problems. The following problem would not be possible to solve on a laptop if the matrix had to be stored as a `Matrix` type."
   ]
  },
  {
   "cell_type": "code",
   "execution_count": 52,
   "metadata": {
    "collapsed": false
   },
   "outputs": [
    {
     "name": "stderr",
     "output_type": "stream",
     "text": [
      "INFO: Recompiling stale cache file /Users/andreasnoack/.julia/lib/v0.4/Distributions.ji for module Distributions.\n"
     ]
    },
    {
     "name": "stdout",
     "output_type": "stream",
     "text": [
      "0.195390 seconds (6.46 k allocations: 8.267 MB)\n"
     ]
    },
    {
     "name": "stderr",
     "output_type": "stream",
     "text": [
      "INFO: Recompiling stale cache file /Users/andreasnoack/.julia/lib/v0.4/ArrayViews.ji for module ArrayViews.\n",
      "INFO: Recompiling stale cache file /Users/andreasnoack/.julia/lib/v0.4/PDMats.ji for module PDMats.\n",
      "INFO: Recompiling stale cache file /Users/andreasnoack/.julia/lib/v0.4/StatsFuns.ji for module StatsFuns.\n",
      "INFO: Recompiling stale cache file /Users/andreasnoack/.julia/lib/v0.4/StatsBase.ji for module StatsBase.\n"
     ]
    },
    {
     "name": "stdout",
     "output_type": "stream",
     "text": [
      "  "
     ]
    },
    {
     "data": {
      "text/plain": [
       "(-1999.9421881709475,2000.1887073730302)"
      ]
     },
     "execution_count": 52,
     "metadata": {},
     "output_type": "execute_result"
    }
   ],
   "source": [
    "using Distributions\n",
    "n = 1_000_000;\n",
    "A = SymTridiagonal(2randn(n), Float64[rand(Chi(i)) for i = n-1:-1:1]);\n",
    "@time eigmin(A), eigmax(A) # Extremal eigenvalues of the Hermite ensemble"
   ]
  },
  {
   "cell_type": "markdown",
   "metadata": {},
   "source": [
    "## Generic linear algebra\n",
    "The usual way of adding support for numerical linear algebra is by wrapping BLAS and LAPACK subroutines. For matrices with elements of `Float32`, `Float64`, `Complex{Float32}` or `Complex{Float64}` this is also what Julia does. For a long time Julia has also had support for multiplicaton of general element types. Hence, when multiplying integer matrices, the output is also an integer matrix"
   ]
  },
  {
   "cell_type": "code",
   "execution_count": 53,
   "metadata": {
    "collapsed": false
   },
   "outputs": [
    {
     "data": {
      "text/plain": [
       "3x3 Array{Int64,2}:\n",
       " 27  16  12\n",
       " 35  23  17\n",
       " 48  33  25"
      ]
     },
     "execution_count": 53,
     "metadata": {},
     "output_type": "execute_result"
    },
    {
     "name": "stdout",
     "output_type": "stream",
     "text": [
      "1.425342 seconds (225.98 k allocations: 422.985 MB, 7.07% gc time)\n"
     ]
    }
   ],
   "source": [
    "rand(1:10,3,3)*rand(1:10,3,3)"
   ]
  },
  {
   "cell_type": "markdown",
   "metadata": {},
   "source": [
    "Recently, more generic linear algebra methods were added and Julia now supports generic `LU` and `QR` factorizations. Generic eigenvalue methods are being tested and can hopefully be added to Julia soon.\n",
    "\n",
    "In general, the `LU` factorization can be computed whenever the matrix element type is closed under the operations `+`, `-`, `*` and `\\`. Of couse the matrix also has to have full rank. The generic `LU` method in Julia applies pivoting and therefore the element type also has to support `<` and `abs`. In consequence it is possible to solve systems of equations of e.g. rational numbers which the following examples show.\n",
    "\n",
    "This functionality is primarily useful in teaching or exploratory work as floating point values are dominating in real applications. However, arbitrary precision and efficient integer arithmetic have real world applications and are not supported in LAPACK."
   ]
  },
  {
   "cell_type": "markdown",
   "metadata": {},
   "source": [
    "### Example 1: Rational linear system of equations\n",
    "Julia has rational numbers built in. The following example shows how a linear system of equations can be solved without promoting to floating point element types. Overflow can easisly become a problem when working with rational numbers so we use `BigInt`s."
   ]
  },
  {
   "cell_type": "code",
   "execution_count": 54,
   "metadata": {
    "collapsed": false
   },
   "outputs": [
    {
     "name": "stdout",
     "output_type": "stream",
     "text": [
      "Ar = Rational{BigInt}[4//5 3//10 3//10\n",
      "                 3//10 3//5 3//5\n",
      "                 1//5 9//10 9//10]"
     ]
    },
    {
     "ename": "LoadError",
     "evalue": "LoadError: Base.LinAlg.SingularException(3)\nwhile loading In[54], in expression starting on line 5",
     "output_type": "error",
     "traceback": [
      "LoadError: Base.LinAlg.SingularException(3)\nwhile loading In[54], in expression starting on line 5",
      "",
      " in naivesub! at linalg/triangular.jl:768",
      " in A_ldiv_B! at linalg/bidiag.jl:206",
      " in A_ldiv_B! at linalg/lu.jl:134",
      " in \\ at linalg/dense.jl:448"
     ]
    }
   ],
   "source": [
    "Ar = convert(Matrix{Rational{BigInt}}, rand(1:10,3,3))/10\n",
    "@show Ar\n",
    "x = ones(Int,3)\n",
    "b = Ar*x\n",
    "Ar\\b"
   ]
  },
  {
   "cell_type": "markdown",
   "metadata": {},
   "source": [
    "### Example 2: Rational matrix from eigenstructure\n",
    "The next example shows how rational matrix arithmetic can be used for calculating a matrix given rational eigenvalues and -vectors. I find this convenient when giving examples of linear dynamic systems."
   ]
  },
  {
   "cell_type": "code",
   "execution_count": 55,
   "metadata": {
    "collapsed": false
   },
   "outputs": [
    {
     "name": "stdout",
     "output_type": "stream",
     "text": [
      "\n",
      "V = [1 1 1\n",
      " 0 1 1\n",
      " 0 0 1]\n",
      "Λ = Rational{Int64}[1//1 0//1 0//1\n",
      "                0//1 1//2 0//1\n",
      "                0//1 0//1 1//4]"
     ]
    },
    {
     "data": {
      "text/plain": [
       "3x3 Array{Rational{Int64},2}:\n",
       " 1//1  -1//2  -1//4\n",
       " 0//1   1//2  -1//4\n",
       " 0//1   0//1   1//4"
      ]
     },
     "execution_count": 55,
     "metadata": {},
     "output_type": "execute_result"
    },
    {
     "name": "stdout",
     "output_type": "stream",
     "text": [
      "\n"
     ]
    }
   ],
   "source": [
    "λ1, λ2, λ3 = 1//1, 1//2, 1//4\n",
    "v1, v2, v3 = [1,0,0], [1,1,0], [1,1,1]\n",
    "V, Λ = [v1 v2 v3], Diagonal([λ1, λ2, λ3])\n",
    "@show V\n",
    "@show Λ\n",
    "A = V*Λ/V"
   ]
  },
  {
   "cell_type": "markdown",
   "metadata": {},
   "source": [
    "### Example 3: The Hilbert matrix.\n",
    "The Hilbert matrix $H$ defined by $(h_{ij})=\\frac{1}{i+j-1}$ is very ill conditioned. Even for small dimensions, the inverse of the Hilbert matrix is very imprecise in double precision. By defining the matrix with rational elements, the inverse can be calculated exact"
   ]
  },
  {
   "cell_type": "code",
   "execution_count": 56,
   "metadata": {
    "collapsed": false
   },
   "outputs": [
    {
     "data": {
      "text/plain": [
       "8x8 Array{Rational{BigInt},2}:\n",
       " 1//1  1//2  1//3   1//4   1//5   1//6   1//7   1//8 \n",
       " 1//2  1//3  1//4   1//5   1//6   1//7   1//8   1//9 \n",
       " 1//3  1//4  1//5   1//6   1//7   1//8   1//9   1//10\n",
       " 1//4  1//5  1//6   1//7   1//8   1//9   1//10  1//11\n",
       " 1//5  1//6  1//7   1//8   1//9   1//10  1//11  1//12\n",
       " 1//6  1//7  1//8   1//9   1//10  1//11  1//12  1//13\n",
       " 1//7  1//8  1//9   1//10  1//11  1//12  1//13  1//14\n",
       " 1//8  1//9  1//10  1//11  1//12  1//13  1//14  1//15"
      ]
     },
     "execution_count": 56,
     "metadata": {},
     "output_type": "execute_result"
    }
   ],
   "source": [
    "nHilbert = 8\n",
    "H = Rational{BigInt}[1//(i+j-1) for i = 1:nHilbert,j = 1:nHilbert]"
   ]
  },
  {
   "cell_type": "code",
   "execution_count": 57,
   "metadata": {
    "collapsed": false
   },
   "outputs": [
    {
     "data": {
      "text/plain": [
       "8x8 Array{Rational{BigInt},2}:\n",
       "      64//1      -2016//1       20160//1  …       192192//1      -51480//1\n",
       "   -2016//1      84672//1     -952560//1       -10594584//1     2882880//1\n",
       "   20160//1    -952560//1    11430720//1       141261120//1   -38918880//1\n",
       "  -92400//1    4656960//1   -58212000//1      -776936160//1   216216000//1\n",
       "  221760//1  -11642400//1   149688000//1      2118916800//1  -594594000//1\n",
       " -288288//1   15567552//1  -204324120//1  …  -3030051024//1   856215360//1\n",
       "  192192//1  -10594584//1   141261120//1      2175421248//1  -618377760//1\n",
       "  -51480//1    2882880//1   -38918880//1      -618377760//1   176679360//1"
      ]
     },
     "execution_count": 57,
     "metadata": {},
     "output_type": "execute_result"
    }
   ],
   "source": [
    "inv(H)"
   ]
  },
  {
   "cell_type": "markdown",
   "metadata": {},
   "source": [
    "Even for $n=8$ the difference between the exact and the floating point result is big."
   ]
  },
  {
   "cell_type": "code",
   "execution_count": 58,
   "metadata": {
    "collapsed": false
   },
   "outputs": [
    {
     "data": {
      "text/plain": [
       "439.45201206207275"
      ]
     },
     "execution_count": 58,
     "metadata": {},
     "output_type": "execute_result"
    }
   ],
   "source": [
    "norm(map(Float64, inv(H)) - inv(map(Float64, H)), Inf)"
   ]
  },
  {
   "cell_type": "markdown",
   "metadata": {},
   "source": [
    "Another approach could be to use higher precision floating point numbers.\n",
    "Higher precision floating point numbers are built into Julia and it is therefore easy to convert the Hilbert matrix"
   ]
  },
  {
   "cell_type": "code",
   "execution_count": 59,
   "metadata": {
    "collapsed": false
   },
   "outputs": [
    {
     "data": {
      "text/plain": [
       "6.304476724749898e-59"
      ]
     },
     "execution_count": 59,
     "metadata": {},
     "output_type": "execute_result"
    }
   ],
   "source": [
    "Hbf = convert(Matrix{BigFloat}, H);\n",
    "Float64(norm(inv(Hbf) - inv(H), Inf))"
   ]
  },
  {
   "cell_type": "markdown",
   "metadata": {},
   "source": [
    "Which is fairly precise. However, the matrix need not grow much before 256 bit floats are not sufficient"
   ]
  },
  {
   "cell_type": "code",
   "execution_count": 60,
   "metadata": {
    "collapsed": false
   },
   "outputs": [
    {
     "data": {
      "text/plain": [
       "2.1751007413310495e8"
      ]
     },
     "execution_count": 60,
     "metadata": {},
     "output_type": "execute_result"
    }
   ],
   "source": [
    "nHilbert = 30\n",
    "H = Rational{BigInt}[1//(i+j-1) for i = 1:nHilbert,j = 1:nHilbert];\n",
    "Hbf = convert(Matrix{BigFloat}, H);\n",
    "Float64(norm(inv(Hbf) - inv(H), Inf))"
   ]
  },
  {
   "cell_type": "markdown",
   "metadata": {},
   "source": [
    "The next example shows how the LU factorization can be used for a user defined number type.\n",
    "### Example 4: GF($p$)\n",
    "Julia makes it easy to define new number types. The block below defines a type representing the Galois field with $p$ elements GF($p$). Please note how few lines it takes!"
   ]
  },
  {
   "cell_type": "code",
   "execution_count": 61,
   "metadata": {
    "collapsed": false
   },
   "outputs": [],
   "source": [
    "# Scalar finite fields\n",
    "immutable GF{P,T<:Integer} <: Number\n",
    "    data::T\n",
    "    function GF(x::Integer)\n",
    "        return new(mod(x, P))\n",
    "    end\n",
    "end"
   ]
  },
  {
   "cell_type": "code",
   "execution_count": 62,
   "metadata": {
    "collapsed": false
   },
   "outputs": [
    {
     "data": {
      "text/plain": [
       "show (generic function with 120 methods)"
      ]
     },
     "execution_count": 62,
     "metadata": {},
     "output_type": "execute_result"
    }
   ],
   "source": [
    "# methods for scalar finite field\n",
    "import Base: convert, inv, one, promote_rule, show, zero\n",
    "\n",
    "function call{P}(::Type{GF{P}}, x::Integer)\n",
    "    if !isprime(P)\n",
    "        throw(ArgumentError(\"P must be a prime\"))\n",
    "    end\n",
    "    return GF{P,typeof(x)}(mod(x, P))\n",
    "end\n",
    "convert{P,T}(::Type{GF{P,T}}, x::Integer) = GF{P}(x)\n",
    "convert{P}(::Type{GF{P}}, x::Integer) = GF{P}(x)\n",
    "convert{P,T}(::Type{GF{P,T}}, x::GF{P}) = GF{P,T}(x.data)\n",
    "promote_rule{P,T1,T2<:Integer}(::Type{GF{P,T1}}, ::Type{T2}) = GF{P,promote_type(T1,T2\n",
    ")}\n",
    "show(io::IO, x::GF) = show(io, x.data)"
   ]
  },
  {
   "cell_type": "code",
   "execution_count": 63,
   "metadata": {
    "collapsed": false
   },
   "outputs": [
    {
     "data": {
      "text/plain": [
       "2"
      ]
     },
     "execution_count": 63,
     "metadata": {},
     "output_type": "execute_result"
    }
   ],
   "source": [
    "GF{3}(11)"
   ]
  },
  {
   "cell_type": "markdown",
   "metadata": {},
   "source": [
    "define basic arithmetic with meta programming"
   ]
  },
  {
   "cell_type": "code",
   "execution_count": 64,
   "metadata": {
    "collapsed": false
   },
   "outputs": [],
   "source": [
    "import Base: +, -, *\n",
    "\n",
    "for op in (:+,:-,:*)\n",
    "    @eval begin\n",
    "        ($op){P,T}(x::GF{P,T}, y::GF{P,T}) = GF{P,T}($(op)(x.data, y.data))\n",
    "    end\n",
    "end"
   ]
  },
  {
   "cell_type": "code",
   "execution_count": 65,
   "metadata": {
    "collapsed": false
   },
   "outputs": [
    {
     "name": "stdout",
     "output_type": "stream",
     "text": [
      "x + y = 2"
     ]
    }
   ],
   "source": [
    "x, y = GF{5}(4), GF{5}(3)\n",
    "@show x + y\n",
    "@show x - y\n",
    "@show x * y\n",
    ";"
   ]
  },
  {
   "cell_type": "code",
   "execution_count": 66,
   "metadata": {
    "collapsed": false
   },
   "outputs": [],
   "source": [
    "# Division requires slightly more care\n",
    "import Base: /\n",
    "\n",
    "function inv{P,T}(x::GF{P,T})\n",
    "    if x == zero(x)\n",
    "        throw(DivideError())\n",
    "    end\n",
    "    r, u, v = gcdx(x.data, P)\n",
    "    GF{P,T}(u)\n",
    "end\n",
    "(/){P}(x::GF{P}, y::GF{P}) = x*inv(y)\n",
    ";"
   ]
  },
  {
   "cell_type": "code",
   "execution_count": 67,
   "metadata": {
    "collapsed": false
   },
   "outputs": [],
   "source": [
    "@show x / y\n",
    "@show x \\ y # we get this by inheritance from Number;"
   ]
  },
  {
   "cell_type": "markdown",
   "metadata": {},
   "source": [
    " We can now create a square matrix and a vector over $GF(5)$"
   ]
  },
  {
   "cell_type": "code",
   "execution_count": 68,
   "metadata": {
    "collapsed": false
   },
   "outputs": [
    {
     "data": {
      "text/plain": [
       "4x4 Array{GF{5,Int64},2}:\n",
       " 3  1  1  0\n",
       " 1  3  4  3\n",
       " 4  3  2  2\n",
       " 0  0  1  1"
      ]
     },
     "execution_count": 68,
     "metadata": {},
     "output_type": "execute_result"
    }
   ],
   "source": [
    "srand(1234)\n",
    "A = [GF{5}(rand(0:4)) for i = 1:4, j = 1:4]"
   ]
  },
  {
   "cell_type": "code",
   "execution_count": 69,
   "metadata": {
    "collapsed": false
   },
   "outputs": [
    {
     "name": "stdout",
     "output_type": "stream",
     "text": [
      "\n",
      "x - y = 1\n",
      "x * y = 2\n",
      "x / y = 3\n",
      "x \\ y = 2\n"
     ]
    },
    {
     "data": {
      "text/plain": [
       "4-element Array{GF{5,Int64},1}:\n",
       " 4\n",
       " 1\n",
       " 2\n",
       " 0"
      ]
     },
     "execution_count": 69,
     "metadata": {},
     "output_type": "execute_result"
    }
   ],
   "source": [
    "b = [GF{5}(rand(0:4)) for i = 1:4]"
   ]
  },
  {
   "cell_type": "markdown",
   "metadata": {},
   "source": [
    "Because the LU factorization in Julia works whenever the matrix elements form a field"
   ]
  },
  {
   "cell_type": "code",
   "execution_count": 70,
   "metadata": {
    "collapsed": false
   },
   "outputs": [
    {
     "data": {
      "text/plain": [
       "4-element Array{GF{5,Int64},1}:\n",
       " 2\n",
       " 3\n",
       " 0\n",
       " 0"
      ]
     },
     "execution_count": 70,
     "metadata": {},
     "output_type": "execute_result"
    }
   ],
   "source": [
    "x = A\\b"
   ]
  },
  {
   "cell_type": "code",
   "execution_count": 71,
   "metadata": {
    "collapsed": false
   },
   "outputs": [
    {
     "data": {
      "text/plain": [
       "4-element Array{GF{5,Int64},1}:\n",
       " 0\n",
       " 0\n",
       " 0\n",
       " 0"
      ]
     },
     "execution_count": 71,
     "metadata": {},
     "output_type": "execute_result"
    }
   ],
   "source": [
    "A*x - b"
   ]
  },
  {
   "cell_type": "markdown",
   "metadata": {},
   "source": [
    "It worked! Our LU algorithm automatically turns off pivoting when the elements are not floating point types. This is necessary here because finite fields cannot be ordered and therefore partial pivoting is not defined. In consequence, the LU factorization might not be defined for some matrices even when they have full rank because of zero pivots"
   ]
  },
  {
   "cell_type": "code",
   "execution_count": 72,
   "metadata": {
    "collapsed": false
   },
   "outputs": [
    {
     "ename": "LoadError",
     "evalue": "LoadError: MethodError: `real` has no method matching real(::GF{5,Int64})\nwhile loading In[72], in expression starting on line 2",
     "output_type": "error",
     "traceback": [
      "LoadError: MethodError: `real` has no method matching real(::GF{5,Int64})\nwhile loading In[72], in expression starting on line 2",
      "",
      " in generic_lufact! at linalg/lu.jl:31",
      " in lufact at linalg/lu.jl:84"
     ]
    }
   ],
   "source": [
    "A[1,1] = 0 # works evens though 0 is an integer because of the promotion rule defined above\n",
    "lufact(A)  # Indeed, the error message could be improved here"
   ]
  },
  {
   "cell_type": "markdown",
   "metadata": {},
   "source": [
    "Eventually, we'd like to pivot on the first non-zero elements in the column which would ensure existence of the LU for all full rank matrices.\n",
    "\n",
    "What are the costs of user-defined types? Usually, there is a large difference between a user-defined type and built-in type. With some care, this dichotomy between built-in and user-defined types is not existing. Compare"
   ]
  },
  {
   "cell_type": "code",
   "execution_count": 73,
   "metadata": {
    "collapsed": false
   },
   "outputs": [
    {
     "name": "stdout",
     "output_type": "stream",
     "text": [
      "  0.000760 seconds (13 allocations: 78.656 KB)\n",
      "  "
     ]
    }
   ],
   "source": [
    "A1, A2 = rand(1:100, 100, 100), rand(1:100, 100, 100)\n",
    "A1*A2 # warm up to be sure function is compiled\n",
    "@time A1*A2\n",
    "AF1, AF2 = map(GF{5}, A1), map(GF{5}, A2)\n",
    "AF1*AF2\n",
    "@time AF1*AF2\n",
    ";"
   ]
  },
  {
   "cell_type": "code",
   "execution_count": 74,
   "metadata": {
    "collapsed": false
   },
   "outputs": [
    {
     "name": "stdout",
     "output_type": "stream",
     "text": [
      "0.006990 seconds (13 allocations: 78.656 KB)\n",
      "  0.000390 seconds (8 allocations: 79.250 KB)\n",
      "  "
     ]
    }
   ],
   "source": [
    "@time lufact(A1) # Promoted to Float64 and calls LAPACK\n",
    "F = lufact(AF1,Val{false})\n",
    "while F.info != 0\n",
    "    AF1[F.info, F.info] += 1\n",
    "    F = lufact(AF1, Val{false})\n",
    "end\n",
    "@time lufact(AF1) # Non-blocked generic LU implemented in Julia\n",
    ";"
   ]
  },
  {
   "cell_type": "markdown",
   "metadata": {},
   "source": [
    "Costs are mainly related to the modulo calculation. Optimized methods for $GF(2)$ could be added easily.\n",
    "\n",
    "When a type has been defined as an `immutable` and if the fields are all pointer free, as in this example, it is possible to have memory locality for custom types. This can be exemplified with the use of pointers where we just walk linearly through the memory"
   ]
  },
  {
   "cell_type": "code",
   "execution_count": 75,
   "metadata": {
    "collapsed": false
   },
   "outputs": [],
   "source": [
    "@show b\n",
    "@show pb = pointer(b)\n",
    "for i = 1:length(b)\n",
    "    @show unsafe_load(pb, i)\n",
    "end"
   ]
  },
  {
   "cell_type": "markdown",
   "metadata": {},
   "source": [
    "### Example 5: Quaternions\n",
    "The final example of generic linear algebra in Julia shows how the generic elementary reflectors work. The first step in solving a Hermitian eigenvalue problem is to tranform the Hermitian matrix to a real symmetric tridiagonal matrix by elementary reflectors of the form \n",
    "\n",
    "$$H=I-v\\tau v'$$\n",
    "\n",
    "satisfying\n",
    "\n",
    "$$H'H=I,$$ \n",
    "\n",
    "i.e. they are unitary. Most often, textbooks present the special case of Householder reflectors $H=I-2vv'$ where $v'v=1$. Householder reflectors have the nice property that they are also Hermitian, but they fail to reduce Hermitian matrix to a *real symmetric* tridiagonal matrix. The following example shows how the underlying real symmetric tridiagonal eigenproblem can be extracted from a Hermitian eigenvalue problem of a matrix with a user-defined element type.\n",
    "\n",
    "In my github repo, I have a [package](https://github.com/andreasnoack/LinearAlgebra.jl.git) that defines generic eigen and singular value decompositions and some more. Recall that quaternions generalize complex numbers and can be written $q=x_1+x_2i+x_3j+x_4k$ where the \"imaginary\" units $i$,$j$ and $k$ satisfy $i^2=j^2=k^2=ijk=-1$. The only difficulty in defining quaternions is the fact that they do not commute, e.g.\n",
    "$$\n",
    "ij=-ijkk=k\n",
    "$$\n",
    "but\n",
    "$$\n",
    "ji=-jiijk=jjk=-k.\n",
    "$$ However, the generic algorithms for LU factorization and elementary reflectors do not assume commutativity and therefore we can solve positive definite eigenproblems for quaternions with the exact same function as we use in the real case. First we compute a Hermitian matrix of quaternions"
   ]
  },
  {
   "cell_type": "code",
   "execution_count": 76,
   "metadata": {
    "collapsed": false
   },
   "outputs": [
    {
     "name": "stderr",
     "output_type": "stream",
     "text": [
      "INFO: Recompiling stale cache file /Users/andreasnoack/.julia/lib/v0.4/DualNumbers.ji for module DualNumbers.\n"
     ]
    },
    {
     "name": "stdout",
     "output_type": "stream",
     "text": [
      "0.003355 seconds (8 allocations: 79.250 KB)\n",
      "b = GF{5,Int64}[4,1,2,0]\n",
      "pb = pointer(b) = Ptr{GF{5,Int64}} @0x0000000109611000\n",
      "unsafe_load(pb,i) = 4\n",
      "unsafe_load(pb,i) = 1\n",
      "unsafe_load(pb,i) = 2\n",
      "unsafe_load(pb,i) = 0\n"
     ]
    },
    {
     "name": "stderr",
     "output_type": "stream",
     "text": [
      "INFO: Recompiling stale cache file /Users/andreasnoack/.julia/lib/v0.4/NaNMath.ji for module NaNMath.\n",
      "INFO: Recompiling stale cache file /Users/andreasnoack/.julia/lib/v0.4/Calculus.ji for module Calculus.\n",
      "WARNING: Base.FloatingPoint is deprecated, use AbstractFloat instead.\n",
      "  likely near In[76]:4\n",
      "WARNING: Base.FloatingPoint is deprecated, use AbstractFloat instead.\n",
      "  likely near In[76]:4\n"
     ]
    },
    {
     "data": {
      "text/plain": [
       "2x2 Array{Quaternions.Quaternion{Float64},2}:\n",
       "                                              -2.4517927171581895 + 0.0im + 0.0jm + 0.0km  …  0.018837251573537772 + 3.4747377789843217im + 1.1782923757360937jm - 1.265617102269836km\n",
       " 0.018837251573537772 - 3.4747377789843217im - 1.1782923757360937jm + 1.265617102269836km                                                 -0.33813735803339834 + 0.0im + 0.0jm + 0.0km"
      ]
     },
     "execution_count": 76,
     "metadata": {},
     "output_type": "execute_result"
    }
   ],
   "source": [
    "using Quaternions\n",
    "using LinearAlgebra\n",
    "import Base: convert, isreal\n",
    "function convert{T<:FloatingPoint}(::Type{FloatingPoint}, q::Quaternion{T})\n",
    "    if !isreal(q)\n",
    "        throw(InexactError())\n",
    "    end\n",
    "    convert(T, q.s)\n",
    "end\n",
    "\n",
    "isreal(q::Quaternion) = q.v1 == 0 && q.v2 == 0 && q.v3 ==0\n",
    "\n",
    "A = Quaternion{Float64}[Quaternion(randn(4)...) for i = 1:2,j=1:2]\n",
    "Aher = A + A' # Warning! Matrices of quaternions don't print nicely"
   ]
  },
  {
   "cell_type": "code",
   "execution_count": 77,
   "metadata": {
    "collapsed": false
   },
   "outputs": [
    {
     "data": {
      "text/plain": [
       "5-element Array{Symbol,1}:\n",
       " :s   \n",
       " :v1  \n",
       " :v2  \n",
       " :v3  \n",
       " :norm"
      ]
     },
     "execution_count": 77,
     "metadata": {},
     "output_type": "execute_result"
    }
   ],
   "source": [
    "fieldnames(Aher[1])"
   ]
  },
  {
   "cell_type": "markdown",
   "metadata": {},
   "source": [
    "We can now calculate the eigenvalues. In this case, we need to call the Hermitian constructor explicitly because Julia Base only checks if the matrix is Hermitian when the element type is supported by LAPACK."
   ]
  },
  {
   "cell_type": "code",
   "execution_count": 78,
   "metadata": {
    "collapsed": false
   },
   "outputs": [
    {
     "data": {
      "text/plain": [
       "2-element Array{Float64,1}:\n",
       " -5.41755\n",
       "  2.62762"
      ]
     },
     "execution_count": 78,
     "metadata": {},
     "output_type": "execute_result"
    }
   ],
   "source": [
    "# reload(\"LinearAlgebra\")\n",
    "LinearAlgebra.EigenSelfAdjoint.eigvals!(Hermitian(copy(Aher), :L))"
   ]
  },
  {
   "cell_type": "markdown",
   "metadata": {},
   "source": [
    "We can break down the steps of the calculation. First, the matrix is transformed to a symmetric tridiagonal matrix"
   ]
  },
  {
   "cell_type": "code",
   "execution_count": 79,
   "metadata": {
    "collapsed": false
   },
   "outputs": [
    {
     "data": {
      "text/plain": [
       "LinearAlgebra.EigenSelfAdjoint.SymmetricTridiagonalFactorization{Quaternions.Quaternion{Float64}}"
      ]
     },
     "execution_count": 79,
     "metadata": {},
     "output_type": "execute_result"
    }
   ],
   "source": [
    "AherFact = LinearAlgebra.EigenSelfAdjoint.symtri!(Hermitian(copy(Aher), :L))\n",
    "typeof(AherFact)"
   ]
  },
  {
   "cell_type": "markdown",
   "metadata": {},
   "source": [
    "The type does not print nicely and it is slightly more informative to get the property names"
   ]
  },
  {
   "cell_type": "code",
   "execution_count": 80,
   "metadata": {
    "collapsed": false
   },
   "outputs": [
    {
     "data": {
      "text/plain": [
       "3-element Array{Symbol,1}:\n",
       " :factors      \n",
       " :scalarfactors\n",
       " :diagonals    "
      ]
     },
     "execution_count": 80,
     "metadata": {},
     "output_type": "execute_result"
    }
   ],
   "source": [
    "fieldnames(AherFact)"
   ]
  },
  {
   "cell_type": "markdown",
   "metadata": {},
   "source": [
    "The property `factors` is a matrix with quaternion elements whose diagonal and subdiagonal contain the real symmetric tridiagonal matrix, i.e. the $i$,$j$ and $k$ terms are all zero. The elements below the subdiagonal contain the elements of the vectors $v$ of the elementary reflectors. The property `scalafactors` contains the multiplyers $\\tau$. Finally, the property `diagonals` contains a real  `SymTridiagonal` matrix. \n",
    "\n",
    "When we do not assume commutativity, an elementary reflector is written $H=I-v\\tau v^*$. As in `LAPACK`, we use the convention that the first element of $v$ is one. Hence, we can write the factorization $A + A^*=QSQ^*$ where $Q$ is unitary and $S$ is a tridiagonal matrix."
   ]
  },
  {
   "cell_type": "code",
   "execution_count": 81,
   "metadata": {
    "collapsed": false
   },
   "outputs": [
    {
     "data": {
      "text/plain": [
       "4.770756440442562e-16"
      ]
     },
     "execution_count": 81,
     "metadata": {},
     "output_type": "execute_result"
    }
   ],
   "source": [
    "Q = [1 0;0 1 - AherFact.scalarfactors[1]];\n",
    "S = full(AherFact.diagonals);\n",
    "norm(Aher-Q*S*Q',1)"
   ]
  },
  {
   "cell_type": "markdown",
   "metadata": {},
   "source": [
    "All arithmetic operations are more expensive because a quaternion contains four real elements. Furthermore, LAPACK is fast because it uses blocked algorithms for the reduction to symmetric tridiagonal form which we do not in our generic code. Anyway, the reduction to a real symmetric tridiagonal matrix can be done fairly fast. Below we present some results for computational time and memory usage.\n",
    "#### Real"
   ]
  },
  {
   "cell_type": "code",
   "execution_count": 82,
   "metadata": {
    "collapsed": false
   },
   "outputs": [
    {
     "name": "stdout",
     "output_type": "stream",
     "text": [
      "  "
     ]
    }
   ],
   "source": [
    "n = 500;\n",
    "A = randn(n,n);\n",
    "Apd = A'A;\n",
    "@time eigvals(Symmetric(Apd));"
   ]
  },
  {
   "cell_type": "markdown",
   "metadata": {},
   "source": [
    "#### Complex"
   ]
  },
  {
   "cell_type": "code",
   "execution_count": 83,
   "metadata": {
    "collapsed": false
   },
   "outputs": [
    {
     "name": "stdout",
     "output_type": "stream",
     "text": [
      "0.046756 seconds (29 allocations: 2.088 MB)\n",
      "  "
     ]
    }
   ],
   "source": [
    "A = complex(randn(n,n),randn(n,n));\n",
    "Apd = A'A;\n",
    "@time eigvals(Hermitian(Apd));"
   ]
  },
  {
   "cell_type": "markdown",
   "metadata": {},
   "source": [
    "#### Quaternion\n"
   ]
  },
  {
   "cell_type": "code",
   "execution_count": 84,
   "metadata": {
    "collapsed": false
   },
   "outputs": [
    {
     "name": "stdout",
     "output_type": "stream",
     "text": [
      "0.188826 seconds (200.76 k allocations: 12.686 MB, 2.63% gc time)\n",
      "  "
     ]
    }
   ],
   "source": [
    "A = Quaternion{Float64}[Quaternion(randn(4)...) for i = 1:n,j=1:n];\n",
    "Apd = A'A;\n",
    "for i = 1:n\n",
    "    Apd[i,i] = real(Apd[i,i]) # The generic matrix multiplaction makes tiny error in imaginary parts\n",
    "end\n",
    "@time LinearAlgebra.EigenSelfAdjoint.eigvals!(Hermitian(copy(Apd), :L));"
   ]
  },
  {
   "cell_type": "markdown",
   "metadata": {},
   "source": [
    "Notice that only the real and complex versions benefit from optimized BLAS-3 kernels."
   ]
  },
  {
   "cell_type": "markdown",
   "metadata": {},
   "source": [
    "### Example 6: Symbolic linear algebra with SymPy+Julia.\n",
    "Julia is able to call Python mainly due to Steven G. Johnson. The linear algebra in Julia is also generic for elements of SymPy values wrapped through Julia's PyCall functionality.\n",
    "\n",
    "Below is an example of symbolic arrow matrix"
   ]
  },
  {
   "cell_type": "code",
   "execution_count": 85,
   "metadata": {
    "collapsed": false
   },
   "outputs": [
    {
     "name": "stderr",
     "output_type": "stream",
     "text": [
      "INFO: Precompiling module SymPy...\n"
     ]
    },
    {
     "name": "stdout",
     "output_type": "stream",
     "text": [
      "0.951917 seconds (520 allocations: 9.652 MB, 0.24% gc time)\n"
     ]
    },
    {
     "name": "stderr",
     "output_type": "stream",
     "text": [
      "INFO: Recompiling stale cache file /Users/andreasnoack/.julia/lib/v0.4/PyCall.ji for module PyCall.\n",
      "WARNING: Base.String is deprecated, use AbstractString instead.\n",
      "  likely near /Users/andreasnoack/.julia/v0.4/Requires/src/getthing.jl:44\n",
      "WARNING: Base.String is deprecated, use AbstractString instead.\n",
      "  likely near /Users/andreasnoack/.julia/v0.4/Requires/src/getthing.jl:44\n",
      "WARNING: Base.String is deprecated, use AbstractString instead.\n",
      "  likely near /Users/andreasnoack/.julia/v0.4/Requires/src/getthing.jl:49\n",
      "WARNING: Base.String is deprecated, use AbstractString instead.\n",
      "  likely near /Users/andreasnoack/.julia/v0.4/Requires/src/getthing.jl:49\n",
      "WARNING: Base.Nothing is deprecated, use Void instead.\n",
      "  likely near /Users/andreasnoack/.julia/v0.4/Requires/src/getthing.jl:52\n",
      "WARNING: Base.Nothing is deprecated, use Void instead.\n",
      "  likely near /Users/andreasnoack/.julia/v0.4/Requires/src/getthing.jl:53\n",
      "WARNING: Base.String is deprecated, use AbstractString instead.\n",
      "  likely near /Users/andreasnoack/.julia/v0.4/Requires/src/require.jl:32\n",
      "INFO: Recompiling stale cache file /Users/andreasnoack/.julia/lib/v0.4/Reexport.ji for module Reexport.\n",
      "INFO: Recompiling stale cache file /Users/andreasnoack/.julia/lib/v0.4/Colors.ji for module Colors.\n",
      "INFO: Recompiling stale cache file /Users/andreasnoack/.julia/lib/v0.4/FixedPointNumbers.ji for module FixedPointNumbers.\n",
      "INFO: Recompiling stale cache file /Users/andreasnoack/.julia/lib/v0.4/ColorTypes.ji for module ColorTypes.\n"
     ]
    },
    {
     "name": "stdout",
     "output_type": "stream",
     "text": [
      "[Plots.jl] Default backend: "
     ]
    },
    {
     "name": "stderr",
     "output_type": "stream",
     "text": [
      "WARNING: eval from module Plots to SymPy:    \n",
      "Expr(:import, :DataFrames)::Any\n",
      "  ** incremental compilation may be broken for this module **\n",
      "\n"
     ]
    },
    {
     "name": "stdout",
     "output_type": "stream",
     "text": [
      "pyplot\n"
     ]
    },
    {
     "name": "stderr",
     "output_type": "stream",
     "text": [
      "INFO: Recompiling stale cache file /Users/andreasnoack/.julia/lib/v0.4/DataFrames.ji for module DataFrames.\n",
      "INFO: Recompiling stale cache file /Users/andreasnoack/.julia/lib/v0.4/DataArrays.ji for module DataArrays.\n",
      "INFO: Recompiling stale cache file /Users/andreasnoack/.julia/lib/v0.4/GZip.ji for module GZip.\n",
      "INFO: Recompiling stale cache file /Users/andreasnoack/.julia/lib/v0.4/SortingAlgorithms.ji for module SortingAlgorithms.\n",
      "INFO: Recompiling stale cache file /Users/andreasnoack/.julia/lib/v0.4/Docile.ji for module Docile.\n",
      "WARNING: eval from module Plots to SymPy:    \n",
      "Expr(:import, :DataFrames)::Any\n",
      "  ** incremental compilation may be broken for this module **\n",
      "\n",
      "WARNING: eval from module Plots to SymPy:    \n",
      "Expr(:function, Expr(:call, :createKWargsList, Expr(:parameters, Expr(:..., :kw)::Any)::Any, Expr(:::, :plt, :PlottingObject)::Any, Expr(:::, :df, Expr(:., :DataFrames, :DataFrame)::Any)::Any, Expr(:..., :args)::Any)::Any, Expr(:block, # line 366 /Users/andreasnoack/.julia/v0.4/Plots/src/plot.jl, Expr(:call, :createKWargsList, Expr(:parameters, Expr(:..., :kw)::Any, Expr(:kw, :dataframe, :df)::Any)::Any, :plt, Expr(:..., :args)::Any)::Any)::Any)::Any\n",
      "  ** incremental compilation may be broken for this module **\n",
      "\n",
      "WARNING: eval from module Plots to SymPy:    \n",
      "Expr(:function, Expr(:call, :extractGroupArgs, Expr(:::, :s, :Symbol)::Any, Expr(:::, :df, Expr(:., :DataFrames, :DataFrame)::Any)::Any, Expr(:..., :args)::Any)::Any, Expr(:block, # line 371 /Users/andreasnoack/.julia/v0.4/Plots/src/plot.jl, Expr(:if, Expr(:call, :haskey, :df, :s)::Any, Expr(:block, # line 372 /Users/andreasnoack/.julia/v0.4/Plots/src/plot.jl, Expr(:return, Expr(:call, :extractGroupArgs, Expr(:ref, :df, :s)::Any)::Any)::Any)::Any, Expr(:block, # line 374 /Users/andreasnoack/.julia/v0.4/Plots/src/plot.jl, Expr(:call, :error, Expr(:string, \"Got a symbol, and expected that to be a key in d[:dataframe]. s=\", :s, \" d=\", :d)::Any)::Any)::Any)::Any)::Any)::Any\n",
      "  ** incremental compilation may be broken for this module **\n",
      "\n",
      "WARNING: eval from module Plots to SymPy:    \n",
      "Expr(:function, Expr(:call, :getDataFrameFromKW, Expr(:parameters, Expr(:..., :kw)::Any)::Any)::Any, Expr(:block, # line 379 /Users/andreasnoack/.julia/v0.4/Plots/src/plot.jl, Expr(:for, Expr(:tuple, :k, :v)::Any = :kw, Expr(:block, # line 380 /Users/andreasnoack/.julia/v0.4/Plots/src/plot.jl, Expr(:if, Expr(:comparison, :k, :==, :dataframe)::Any, Expr(:block, # line 381 /Users/andreasnoack/.julia/v0.4/Plots/src/plot.jl, Expr(:return, :v)::Any)::Any)::Any)::Any)::Any, # line 384 /Users/andreasnoack/.julia/v0.4/Plots/src/plot.jl, Expr(:call, :error, \"Missing dataframe argument in arguments!\")::Any)::Any)::Any\n",
      "  ** incremental compilation may be broken for this module **\n",
      "\n",
      "WARNING: eval from module Plots to SymPy:    \n",
      "Expr(:call, :convertToAnyVector, Expr(:parameters, Expr(:..., :kw)::Any)::Any, Expr(:::, :s, :Symbol)::Any)::Any = Expr(:block, # line 388 /Users/andreasnoack/.julia/v0.4/Plots/src/plot.jl, Expr(:tuple, Expr(:ref, :Any, Expr(:ref, Expr(:call, :getDataFrameFromKW, Expr(:parameters, Expr(:..., :kw)::Any)::Any)::Any, :s)::Any)::Any, :s)::Any)::Any\n",
      "  ** incremental compilation may be broken for this module **\n",
      "\n",
      "WARNING: eval from module Plots to SymPy:    \n",
      "Expr(:call, :convertToAnyVector, Expr(:parameters, Expr(:..., :kw)::Any)::Any, Expr(:::, :v, Expr(:curly, :AVec, :Symbol)::Any)::Any)::Any = Expr(:block, # line 389 /Users/andreasnoack/.julia/v0.4/Plots/src/plot.jl, Expr(:tuple, Expr(:block, :df = Expr(:call, :getDataFrameFromKW, Expr(:parameters, Expr(:..., :kw)::Any)::Any)::Any, Expr(:typed_comprehension, :Any, Expr(:ref, :df, :s)::Any, :s = :v)::Any)::Any, :v)::Any)::Any\n",
      "  ** incremental compilation may be broken for this module **\n",
      "\n"
     ]
    },
    {
     "name": "stdout",
     "output_type": "stream",
     "text": [
      "[Plots.jl] Default backend: pyplot"
     ]
    },
    {
     "name": "stderr",
     "output_type": "stream",
     "text": [
      "INFO: Installing sympy via the Conda package...\n"
     ]
    },
    {
     "name": "stdout",
     "output_type": "stream",
     "text": [
      "\n",
      "Fetching package metadata: ....\n",
      "Solving package specifications: .................\n",
      "Package plan for installation in environment /Users/andreasnoack/.julia/v0.4/Conda/deps/usr:\n",
      "\n",
      "The following packages will be downloaded:\n",
      "\n",
      "    package                    |            build\n",
      "    ---------------------------|-----------------\n",
      "    fastcache-1.0.2            |           py27_0          23 KB\n",
      "    sympy-0.7.6.1              |           py27_0         6.2 MB\n",
      "    ------------------------------------------------------------\n",
      "                                           Total:         6.2 MB\n",
      "\n",
      "The following NEW packages will be INSTALLED:\n",
      "\n",
      "    fastcache: 1.0.2-py27_0  \n",
      "    sympy:     0.7.6.1-py27_0\n",
      "\n",
      "Fetching packages ...\n",
      "fastcache-1.0. 100% |###############################| Time: 0:00:00 547.99 kB/s\n",
      "sympy-0.7.6.1- 100% |###############################| Time: 0:00:02   2.61 MB/s\n",
      "Extracting packages ...\n",
      "[      COMPLETE      ]|##################################################| 100%\n",
      "Linking packages ...\n",
      "[      COMPLETE      ]|##################################################| 100%\n",
      "Fetching package metadata: ....\n",
      "Solving package specifications: ...................\n",
      "Package plan for installation in environment /Users/andreasnoack/.julia/v0.4/Conda/deps/usr:\n",
      "\n",
      "The following packages will be downloaded:\n",
      "\n",
      "    package                    |            build\n",
      "    ---------------------------|-----------------\n",
      "    mpmath-0.19                |           py27_0         867 KB\n",
      "\n",
      "The following NEW packages will be INSTALLED:\n",
      "\n",
      "    mpmath: 0.19-py27_0\n",
      "\n",
      "Fetching packages ...\n",
      "mpmath-0.19-py 100% |###############################| Time: 0:00:00   1.90 MB/s\n",
      "Extracting packages ...\n",
      "[      COMPLETE      ]|##################################################| 100%\n",
      "Linking packages ...\n",
      "[      COMPLETE      ]|##################################################| 100%\n"
     ]
    },
    {
     "name": "stderr",
     "output_type": "stream",
     "text": [
      "WARNING: using SymPy.H in module Main conflicts with an existing identifier.\n"
     ]
    },
    {
     "data": {
      "text/latex": [
       "\\begin{bmatrix}\\alpha&\\overline{\\zeta_{1}}&\\overline{\\zeta_{2}}&\\overline{\\zeta_{3}}\\\\\\zeta_{1}&\\delta_{1}&0&0\\\\\\zeta_{2}&0&\\delta_{2}&0\\\\\\zeta_{3}&0&0&\\delta_{3}\\end{bmatrix}"
      ],
      "text/plain": [
       "4x4 Array{SymPy.Sym,2}\n",
       "[        ______   ______   ______ ]\n",
       "[alpha   zeta_1   zeta_2   zeta_3 ]\n",
       "[                                 ]\n",
       "[zeta_1  delta_1     0        0   ]\n",
       "[                                 ]\n",
       "[zeta_2     0     delta_2     0   ]\n",
       "[                                 ]\n",
       "[zeta_3     0        0     delta_3]"
      ]
     },
     "execution_count": 85,
     "metadata": {},
     "output_type": "execute_result"
    }
   ],
   "source": [
    "using SymPy\n",
    "z = Sym[Sym(\"zeta_$i\") for i = 1:3]\n",
    "D = diagm(Sym[\"delta_$i\" for i = 1:3])\n",
    "A = [Sym(\"alpha\") z'; z D]"
   ]
  },
  {
   "cell_type": "code",
   "execution_count": 86,
   "metadata": {
    "collapsed": false
   },
   "outputs": [
    {
     "data": {
      "text/latex": [
       "$$\\alpha \\delta_{1} \\delta_{2} \\delta_{3} - \\delta_{1} \\delta_{2} \\zeta_{3} \\overline{\\zeta_{3}} - \\delta_{1} \\delta_{3} \\zeta_{2} \\overline{\\zeta_{2}} - \\delta_{2} \\delta_{3} \\zeta_{1} \\overline{\\zeta_{1}}$$"
      ],
      "text/plain": [
       "                                                       ______                 \n",
       "alpha*delta_1*delta_2*delta_3 - delta_1*delta_2*zeta_3*zeta_3 - delta_1*delta_\n",
       "\n",
       "         ______                          ______\n",
       "3*zeta_2*zeta_2 - delta_2*delta_3*zeta_1*zeta_1"
      ]
     },
     "execution_count": 86,
     "metadata": {},
     "output_type": "execute_result"
    }
   ],
   "source": [
    "simplify(det(A))"
   ]
  },
  {
   "cell_type": "code",
   "execution_count": 87,
   "metadata": {
    "collapsed": false
   },
   "outputs": [
    {
     "data": {
      "text/latex": [
       "\\begin{bmatrix}0&0&0&\\frac{1}{\\zeta_{3}}\\\\0&\\frac{1}{\\delta_{1}}&0&- \\frac{\\zeta_{1}}{\\delta_{1} \\zeta_{3}}\\\\0&0&\\frac{1}{\\delta_{2}}&- \\frac{\\zeta_{2}}{\\delta_{2} \\zeta_{3}}\\\\\\frac{1}{\\overline{\\zeta_{3}}}&- \\frac{\\overline{\\zeta_{1}}}{\\delta_{1} \\overline{\\zeta_{3}}}&- \\frac{\\overline{\\zeta_{2}}}{\\delta_{2} \\overline{\\zeta_{3}}}&\\frac{1}{\\delta_{1} \\delta_{2} \\zeta_{3} \\overline{\\zeta_{3}}} \\left(- \\alpha \\delta_{1} \\delta_{2} + \\delta_{1} \\zeta_{2} \\overline{\\zeta_{2}} + \\delta_{2} \\zeta_{1} \\overline{\\zeta_{1}}\\right)\\end{bmatrix}"
      ],
      "text/plain": [
       "4x4 Array{SymPy.Sym,2}\n",
       "[                                                                          1  \n",
       "[  0           0               0                                         -----\n",
       "[                                                                        zeta_\n",
       "[                                                                             \n",
       "[              1                                                        -zeta_\n",
       "[  0        -------            0                                     ---------\n",
       "[           delta_1                                                  delta_1*z\n",
       "[                                                                             \n",
       "[                              1                                        -zeta_\n",
       "[  0           0            -------                                  ---------\n",
       "[                           delta_2                                  delta_2*z\n",
       "[                                                                             \n",
       "[            ______          ______                                           \n",
       "[  1        -zeta_1         -zeta_2      -alpha*delta_1*delta_2 + delta_1*zeta\n",
       "[------  --------------  --------------  -------------------------------------\n",
       "[______          ______          ______                                       \n",
       "[zeta_3  delta_1*zeta_3  delta_2*zeta_3                      delta_1*delta_2*z\n",
       "\n",
       "                                 ]\n",
       "-                                ]\n",
       "3                                ]\n",
       "                                 ]\n",
       "1                                ]\n",
       "-----                            ]\n",
       "eta_3                            ]\n",
       "                                 ]\n",
       "2                                ]\n",
       "-----                            ]\n",
       "eta_3                            ]\n",
       "                                 ]\n",
       "   ______                  ______]\n",
       "_2*zeta_2 + delta_2*zeta_1*zeta_1]\n",
       "---------------------------------]\n",
       "      ______                     ]\n",
       "eta_3*zeta_3                     ]"
      ]
     },
     "execution_count": 87,
     "metadata": {},
     "output_type": "execute_result"
    }
   ],
   "source": [
    "A[4,4] = 0\n",
    "map(simplify, inv(A))"
   ]
  },
  {
   "cell_type": "markdown",
   "metadata": {},
   "source": [
    "The arithmetic operations are overloaded with calls to SymPy and therefore Julia's generic linear algebra routines work."
   ]
  },
  {
   "cell_type": "markdown",
   "metadata": {},
   "source": [
    "###Example 7: Promotion of elements\n",
    "When calculating factorizations, promotion of elements of matrices and vectors is defined through the promotion rules of the elements for the operations necessary for the factorization. In this way, it is not necessary to know about all possible element types for which the factorization could possibly be defined as long as promotion rules are defined for the element types themselves. Below is a simplified version of the promotion used in the LU factorization."
   ]
  },
  {
   "cell_type": "code",
   "execution_count": 88,
   "metadata": {
    "collapsed": false
   },
   "outputs": [
    {
     "ename": "LoadError",
     "evalue": "LoadError: error in method definition: function LinAlg.lufact must be explicitly imported to be extended\nwhile loading In[88], in expression starting on line 2",
     "output_type": "error",
     "traceback": [
      "LoadError: error in method definition: function LinAlg.lufact must be explicitly imported to be extended\nwhile loading In[88], in expression starting on line 2",
      ""
     ]
    }
   ],
   "source": [
    "# simplified (no pivoting option) so code doesn't run\n",
    "function lufact{T}(A::AbstractMatrix{T})\n",
    "    S = typeof(zero(T)/one(T))\n",
    "    lufact!(copy_oftype(A, S))\n",
    "end"
   ]
  },
  {
   "cell_type": "markdown",
   "metadata": {},
   "source": [
    "##Julia is fast\n",
    "Most high level languages have substantial parts of the language written in C for performance reasons. The majority of Julia's standard library is written in Julia itself.\n",
    "\n",
    "This is possible without a performance penalty bacuase, via LLVM, Julia code compiles into efficient machine code when possible even without type annotations"
   ]
  },
  {
   "cell_type": "code",
   "execution_count": 89,
   "metadata": {
    "collapsed": false
   },
   "outputs": [
    {
     "name": "stdout",
     "output_type": "stream",
     "text": [
      "\t.section\t__TEXT,__text,regular,pure_instructions\n",
      "Filename: int.jl\n",
      "Source line: 8\n",
      "\tpushq\t%rbp\n",
      "\tmovq\t%rsp, %rbp\n",
      "Source line: 8\n",
      "\taddq\t%rsi, %rdi\n",
      "\tmovq\t%rdi, %rax\n",
      "\tpopq\t%rbp\n",
      "\tret\n"
     ]
    }
   ],
   "source": [
    "@code_native 1 + 1"
   ]
  },
  {
   "cell_type": "markdown",
   "metadata": {},
   "source": [
    "It is important for *performance* that input type maps to output type unambiguously. In this case it is possible to statically analyze the program, i.e. the types can be checked within subprograms. When the return type is ambiguous, Julia relies on a dynamic lookup of the right method based on the actual runtime value."
   ]
  },
  {
   "cell_type": "code",
   "execution_count": 90,
   "metadata": {
    "collapsed": false
   },
   "outputs": [],
   "source": [
    "isone1(x) = x == 1 ? true : 0      # not type stable. Output _type_ depends on input _value_\n",
    "isone2(x) = x == 1 ? true : false;"
   ]
  },
  {
   "cell_type": "code",
   "execution_count": 91,
   "metadata": {
    "collapsed": false
   },
   "outputs": [],
   "source": [
    "@time for i = 1:10^6; isone1(rand() > 0.5); end\n",
    "@time for i = 1:10^6; isone2(rand() > 0.5); end"
   ]
  },
  {
   "cell_type": "markdown",
   "metadata": {},
   "source": [
    "Mixing statically and dynamic methods invisibly is convenient for prototyping such that the program doesn't fail when the types cannot be checked statically. Julia provides helper functions for detecting code that cannot be checked statically."
   ]
  },
  {
   "cell_type": "code",
   "execution_count": 92,
   "metadata": {
    "collapsed": false
   },
   "outputs": [
    {
     "name": "stdout",
     "output_type": "stream",
     "text": [
      "  0.008982 seconds\n",
      "  0.002775 seconds\n",
      "Variables:\n",
      "  x::Int64\n",
      "\n",
      "Body:\n",
      "  begin "
     ]
    }
   ],
   "source": [
    "@code_warntype isone1(1)"
   ]
  },
  {
   "cell_type": "code",
   "execution_count": 93,
   "metadata": {
    "collapsed": false
   },
   "outputs": [],
   "source": [
    "@code_warntype isone2(1)"
   ]
  },
  {
   "cell_type": "code",
   "execution_count": 94,
   "metadata": {
    "collapsed": false
   },
   "outputs": [],
   "source": [
    "@code_llvm isone1(1) # note the $jl_true in the assembly"
   ]
  },
  {
   "cell_type": "code",
   "execution_count": 95,
   "metadata": {
    "collapsed": false
   },
   "outputs": [],
   "source": [
    "@code_llvm isone2(1)"
   ]
  },
  {
   "cell_type": "markdown",
   "metadata": {},
   "source": [
    "### Julia for numerical libraries?"
   ]
  },
  {
   "cell_type": "markdown",
   "metadata": {},
   "source": [
    "#### LAPACK?\n",
    "Julia can be (almost) as fast as well-written Fortran. I.e. the abstractions have over small overhead compared to working with raw pointers.\n",
    "\n",
    "Below, I'll give some LAPACK vs Julia comparisons. The Julia implementations are taken from my experimental [LinearAlgebra](https://github.com/andreasnoack/LinearAlgebra) repository.\n",
    "\n",
    "##### Blocked Cholesky\n",
    "$$\n",
    "\\begin{pmatrix}\n",
    "A_{11} & A_{12} \\\\\n",
    "A_{21} & A_{22} \\\\\n",
    "\\end{pmatrix} = \n",
    "\\begin{pmatrix}\n",
    "L_{11} & 0 \\\\\n",
    "L_{21} & L_{22}\n",
    "\\end{pmatrix}\n",
    "\\begin{pmatrix}\n",
    "L_{11}^* & L_{21}^* \\\\\n",
    "0 & L_{22}^*\n",
    "\\end{pmatrix}\n",
    "$$\n",
    "so blocked algorithm consists of\n",
    "- Cholesky factorize: $A_{11}=L_{11}L_{11}^*$\n",
    "- Triangular solve: $L_{21} = A_{21}L_{11}^{-1*}$\n",
    "- Symmetric update: $A_{22} := A_{22} - L_{21}L_{21}^*$"
   ]
  },
  {
   "cell_type": "code",
   "execution_count": 96,
   "metadata": {
    "collapsed": false
   },
   "outputs": [
    {
     "name": "stdout",
     "output_type": "stream",
     "text": [
      " # In[90], line 1:\n",
      "      unless x::Int64 === 1::Bool goto 0\n",
      "      return true\n",
      "      0: \n",
      "      return 0\n",
      "  end::UNION{BOOL,INT64}\n",
      "Variables:\n",
      "  x::Int64\n",
      "\n",
      "Body:\n",
      "  begin  # In[90], line 2:\n",
      "      unless x::Int64 === 1::Bool goto 0\n",
      "      return true\n",
      "      0: \n",
      "      return false\n",
      "  end::Bool\n",
      "\n",
      "define %jl_value_t* @julia_isone1_24521(i64) {\n",
      "top:\n",
      "  %1 = icmp eq i64 %0, 1\n",
      "  br i1 %1, label %if, label %L\n",
      "\n",
      "if:                                               ; preds = %top\n",
      "  %2 = load %jl_value_t** @jl_true, align 8\n",
      "  ret %jl_value_t* %2\n",
      "\n",
      "L:                                                ; preds = %top\n",
      "  ret %jl_value_t* inttoptr (i64 4353597520 to %jl_value_t*)\n",
      "}\n",
      "\n",
      "define i1 @julia_isone2_24522(i64) {\n",
      "top:\n",
      "  %not. = icmp eq i64 %0, 1\n",
      "  ret i1 %not.\n",
      "}\n",
      "  0.090249 seconds (10 allocations: 30.518 MB, 1.72% gc time)\n",
      "  0.085160 seconds (14.00 k allocations: 31.128 MB, 2.32% gc time)\n",
      "  "
     ]
    }
   ],
   "source": [
    "using LinearAlgebra\n",
    "\n",
    "# Cholesky\n",
    "n = 2000\n",
    "A = randn(n,n)\n",
    "A = A'A\n",
    "\n",
    "chol(A)\n",
    "gc()\n",
    "@time C_LAPACK = chol(A) # LAPACK\n",
    "\n",
    "LinearAlgebra.CholeskyModule.cholRec!(copy(A), Val{:L}, 1)\n",
    "gc()\n",
    "@time C_JuliaRec = LinearAlgebra.CholeskyModule.cholRec!(copy(A), Val{:L}, 1)\n",
    "\n",
    "LinearAlgebra.CholeskyModule.cholBlocked!(copy(A), Val{:L}, 40)\n",
    "gc()\n",
    "@time C_JuliaBlocked = LinearAlgebra.CholeskyModule.cholBlocked!(copy(A), Val{:L}, 40)\n",
    ";"
   ]
  },
  {
   "cell_type": "markdown",
   "metadata": {},
   "source": [
    "It is not clear why Julia is *slightly* faster than LAPACK here. Call overhead should be negligible. It might be because of an untuned block size parameter in `ilaenv.f`.\n",
    "\n",
    "Julia could make it much easier to experiment with values like blocking size. Julia allows for easy compilation of versions for different fixed blocking sizes. LLVM might be able to optimize the code further if blocking size was fixed at compile time (we could compile different versions and use operator overloading), but this is not pursued further here."
   ]
  },
  {
   "cell_type": "code",
   "execution_count": 97,
   "metadata": {
    "collapsed": false
   },
   "outputs": [
    {
     "name": "stderr",
     "output_type": "stream",
     "text": [
      "INFO: Recompiling stale cache file /Users/andreasnoack/.julia/lib/v0.4/PyPlot.ji for module PyPlot.\n"
     ]
    },
    {
     "name": "stdout",
     "output_type": "stream",
     "text": [
      "0.111333 seconds (6.10 k allocations: 30.859 MB, 1.46% gc time)\n"
     ]
    },
    {
     "name": "stderr",
     "output_type": "stream",
     "text": [
      "INFO: Recompiling stale cache file /Users/andreasnoack/.julia/lib/v0.4/LaTeXStrings.ji for module LaTeXStrings.\n",
      "INFO: Loading additional PyPlot commands for graphing for SymPy objects:\n",
      "contour, quiver, plot_surface, plot_parametric_surface, and plot_implicit.\n",
      "See ?sympy_plotting for some more details\n",
      "WARNING: both PyPlot and SymPy export \"plot\"; uses of it in module Main must be qualified\n"
     ]
    },
    {
     "ename": "LoadError",
     "evalue": "LoadError: UndefVarError: plot not defined\nwhile loading In[97], in expression starting on line 13",
     "output_type": "error",
     "traceback": [
      "LoadError: UndefVarError: plot not defined\nwhile loading In[97], in expression starting on line 13",
      ""
     ]
    }
   ],
   "source": [
    "using PyPlot\n",
    "C_Julia2 = LinearAlgebra.CholeskyModule.cholBlocked!(copy(A), Val{:L}, 10)\n",
    "tb = Int[]\n",
    "tt = Float64[]\n",
    "for b in 20:5:100\n",
    "    for i = 1:5\n",
    "        push!(tb, b)\n",
    "        gc()\n",
    "        t = @elapsed LinearAlgebra.CholeskyModule.cholBlocked!(copy(A), Val{:L}, b)\n",
    "        push!(tt, t)\n",
    "    end\n",
    "end\n",
    "plot(tb, tt, \"o\")"
   ]
  },
  {
   "cell_type": "markdown",
   "metadata": {},
   "source": [
    "##### Symmetric tridiagonal eigenproblem\n",
    "When only values are requested, LAPACK uses a square root free QR algorithm described in Parlett's \"The Symmetric Eigenvalue Problem\". No BLAS-3 optimization is possible for this algorithm."
   ]
  },
  {
   "cell_type": "code",
   "execution_count": 98,
   "metadata": {
    "collapsed": false
   },
   "outputs": [
    {
     "name": "stdout",
     "output_type": "stream",
     "text": [
      "  0.004292 seconds (13 allocations: 13.156 KB)\n",
      "  0.005173 seconds (8 allocations: 6.641 KB)\n",
      "  2.291242 seconds (16.85 M allocations: 559.928 MB, 24.21% gc time)\n",
      "Float64(norm((vals_LAPACK .- vals_BigJulia) ./ vals_BigJulia)) = 1.6309789298379056e-13\n",
      "Float64(norm((vals_Julia .- vals_BigJulia) ./ vals_BigJulia)) = 2.8737057330577663e-13\n"
     ]
    }
   ],
   "source": [
    "n = 400\n",
    "A = SymTridiagonal(2randn(n), Float64[rand(Chi(i)) for i = n-1:-1:1]) # Hermite ensemple\n",
    "\n",
    "# LAPACK:\n",
    "eigvals(A)\n",
    "@time vals_LAPACK = eigvals(A)\n",
    "\n",
    "# Pure Julia\n",
    "LinearAlgebra.EigenSelfAdjoint.eigvals(A)\n",
    "@time vals_Julia = LinearAlgebra.EigenSelfAdjoint.eigvals(A)\n",
    "@time vals_BigJulia = LinearAlgebra.EigenSelfAdjoint.eigvals!(big(A), parse(BigFloat, \"1e-500\")) # use smaller n for this option.\n",
    "\n",
    "@show Float64(norm((vals_LAPACK .- vals_BigJulia)./vals_BigJulia))\n",
    "@show Float64(norm((vals_Julia .- vals_BigJulia)./vals_BigJulia))\n",
    ";"
   ]
  },
  {
   "cell_type": "markdown",
   "metadata": {},
   "source": [
    "#### BLAS?\n",
    "Not right now, but more recent version of LLVM supports inline assembly. Julia can already leverage this and combined with Julia's metaprogramming it might be possible to generate efficient kernels for multiplication or other operations like FFTs."
   ]
  },
  {
   "cell_type": "markdown",
   "metadata": {},
   "source": [
    "### Other approaches\n",
    "- Cython\n",
    "- Numba\n",
    "- PyPy"
   ]
  },
  {
   "cell_type": "markdown",
   "metadata": {},
   "source": [
    "## The future\n",
    "- Julia 0.4\n",
    " - Faster GC\n",
    " - Package precompilation\n",
    " - New documentation system\n",
    " - Lots of other stuff...\n",
    "- Julia >0.4\n",
    " - Multithreading\n",
    " - Better distributed performance\n",
    " - Debugger?\n",
    " \n",
    " >...So, if you are also a greedy, unreasonable, demanding programmer, we want you to give it a try.\n",
    "\n",
    "from the first blog post."
   ]
  },
  {
   "cell_type": "code",
   "execution_count": null,
   "metadata": {
    "collapsed": true
   },
   "outputs": [],
   "source": []
  }
 ],
 "metadata": {
  "kernelspec": {
   "display_name": "Julia 0.4.0",
   "language": "julia",
   "name": "julia-0.4"
  },
  "language_info": {
   "file_extension": ".jl",
   "mimetype": "application/julia",
   "name": "julia",
   "version": "0.4.0"
  }
 },
 "nbformat": 4,
 "nbformat_minor": 0
}
