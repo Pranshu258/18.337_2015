{
 "cells": [
  {
   "cell_type": "markdown",
   "metadata": {},
   "source": [
    "# JULIA MPI First Example: pi computaton"
   ]
  },
  {
   "cell_type": "markdown",
   "metadata": {},
   "source": [
    "First step was to load MPI on my mac.  Seems mpich and openmpi are two reasonable choices\n",
    "with probably no beginner's reason to prefer one over the other. <br>\n",
    "\n",
    "I did  <t> brew install gcc </t> first to get the gcc compiler.  I ran into problems.  \n",
    "The magic thing that told me what to do was <t> brew doctor </t>.  It wanted me to type\n",
    "<t> xcode-select --install </t> and when I did, all was good.  I then typed\n",
    "<t> brew install mpich </t> and mpi was just working."
   ]
  },
  {
   "cell_type": "markdown",
   "metadata": {},
   "source": [
    "My first example was to reproduce <a href=\"http://www.mcs.anl.gov/research/projects/mpi/tutorial/mpiexmpl/src/pi/C/solution.html\">\n",
    "the classic mypi </a> in the notebook"
   ]
  },
  {
   "cell_type": "code",
   "execution_count": 1,
   "metadata": {
    "collapsed": true
   },
   "outputs": [],
   "source": [
    "# Pkg.add(\"MPI\")"
   ]
  },
  {
   "cell_type": "code",
   "execution_count": 1,
   "metadata": {
    "collapsed": false
   },
   "outputs": [],
   "source": [
    "using MPI"
   ]
  },
  {
   "cell_type": "code",
   "execution_count": 2,
   "metadata": {
    "collapsed": false
   },
   "outputs": [
    {
     "data": {
      "text/plain": [
       "MPI.MPIManager(8,Dict{Int64,Int64}(),Dict{Int64,Int64}(),0,`mpirun -np 8`,60,false,Condition(Any[]),false,0x2af8,IO[],#undef,#undef)"
      ]
     },
     "execution_count": 2,
     "metadata": {},
     "output_type": "execute_result"
    }
   ],
   "source": [
    "m = MPIManager(np=8)"
   ]
  },
  {
   "cell_type": "code",
   "execution_count": 3,
   "metadata": {
    "collapsed": false
   },
   "outputs": [
    {
     "data": {
      "text/plain": [
       "8-element Array{Int64,1}:\n",
       " 2\n",
       " 3\n",
       " 4\n",
       " 5\n",
       " 6\n",
       " 7\n",
       " 8\n",
       " 9"
      ]
     },
     "execution_count": 3,
     "metadata": {},
     "output_type": "execute_result"
    }
   ],
   "source": [
    "addprocs(m)\n",
    "#@mpi_do m comm = MPI.COMM_WORLD"
   ]
  },
  {
   "cell_type": "code",
   "execution_count": 4,
   "metadata": {
    "collapsed": false
   },
   "outputs": [],
   "source": [
    "@mpi_do m comm = MPI.COMM_WORLD\n",
    "#\n",
    "# Enter number of intervals, and tell every processor\n",
    "# Traditional MPI would do this with a BCAST\n",
    "@mpi_do m n=45"
   ]
  },
  {
   "cell_type": "code",
   "execution_count": 5,
   "metadata": {
    "collapsed": false
   },
   "outputs": [
    {
     "name": "stdout",
     "output_type": "stream",
     "text": [
      "\tFrom worker 3:\t45\n",
      "\tFrom worker 7:\t45\n",
      "\tFrom worker 4:\t45\n",
      "\tFrom worker 8:\t45\n",
      "\tFrom worker 2:\t45\n",
      "\tFrom worker 9:\t45\n",
      "\tFrom worker 6:\t45\n",
      "\tFrom worker 5:\t45\n"
     ]
    }
   ],
   "source": [
    "# Let's see if the processors got it\n",
    "@mpi_do m println(n)"
   ]
  },
  {
   "cell_type": "code",
   "execution_count": 6,
   "metadata": {
    "collapsed": false
   },
   "outputs": [
    {
     "name": "stdout",
     "output_type": "stream",
     "text": [
      "\tFrom worker 4:\t2\n",
      "\tFrom worker 7:\t5\n",
      "\tFrom worker 2:\t0\n",
      "\tFrom worker 9:\t7\n",
      "\tFrom worker 3:\t1\n",
      "\tFrom worker 8:\t6\n",
      "\tFrom worker 5:\t3\n",
      "\tFrom worker 6:\t4\n"
     ]
    }
   ],
   "source": [
    "# my MPI id\n",
    "@mpi_do m myid = MPI.Comm_rank(comm)\n",
    "@mpi_do m println(myid)"
   ]
  },
  {
   "cell_type": "code",
   "execution_count": 7,
   "metadata": {
    "collapsed": false
   },
   "outputs": [
    {
     "name": "stdout",
     "output_type": "stream",
     "text": [
      "\tFrom worker 7:\t8\n",
      "\tFrom worker 2:\t8\n",
      "\tFrom worker 9:\t8\n",
      "\tFrom worker 4:\t8\n",
      "\tFrom worker 3:\t8\n",
      "\tFrom worker 5:\t8\n",
      "\tFrom worker 8:\t8\n",
      "\tFrom worker 6:\t8\n"
     ]
    }
   ],
   "source": [
    "# Get the number of processors\n",
    "@mpi_do m np=MPI.Comm_size(comm)\n",
    "@mpi_do m println(np)"
   ]
  },
  {
   "cell_type": "markdown",
   "metadata": {},
   "source": [
    "Compute $\\int_0^1 4/(1+x^2) dx= 4 atan(x)]_0^1$ which evaluates to $\\pi$"
   ]
  },
  {
   "cell_type": "code",
   "execution_count": 8,
   "metadata": {
    "collapsed": false
   },
   "outputs": [
    {
     "name": "stdout",
     "output_type": "stream",
     "text": [
      "\tFrom worker 2:\t3.1415926535897043\n",
      "\tFrom worker 2:\t-8.881784197001252e-14\n",
      "  3.965622 seconds (32.83 k allocations: 1.540 MB)\n"
     ]
    }
   ],
   "source": [
    "@time @mpi_do m (\n",
    "   n = 50_000_000;\n",
    "   comm = MPI.COMM_WORLD;\n",
    "   s=0.0;\n",
    "   for i= MPI.Comm_rank(comm)+1 :  MPI.Comm_size(comm) : n \n",
    "    x = (i-.5)/n \n",
    "    s += 4/(1+x^2) \n",
    "   end;\n",
    "   mypi = s/n;\n",
    "   our_π = MPI.Reduce(mypi, MPI.SUM, 0, comm);\n",
    "   if myid==0\n",
    "      println(our_π);\n",
    "      println(our_π - π); \n",
    "   end\n",
    ")\n",
    "\n",
    "\n"
   ]
  },
  {
   "cell_type": "code",
   "execution_count": 9,
   "metadata": {
    "collapsed": false
   },
   "outputs": [
    {
     "name": "stdout",
     "output_type": "stream",
     "text": [
      " 11.396405 seconds (350.06 M allocations: 5.963 GB, 4.10% gc time)\n"
     ]
    }
   ],
   "source": [
    "@time (n = 50_000_000;\n",
    "h=1/n;\n",
    " our_π =0;\n",
    "for i=0:h:1\n",
    "    our_π += 4/(1+i^2)\n",
    "end;\n",
    "#our_π*h\n",
    ")"
   ]
  },
  {
   "cell_type": "code",
   "execution_count": null,
   "metadata": {
    "collapsed": false
   },
   "outputs": [],
   "source": [
    "3.7*4"
   ]
  },
  {
   "cell_type": "code",
   "execution_count": null,
   "metadata": {
    "collapsed": true
   },
   "outputs": [],
   "source": []
  },
  {
   "cell_type": "code",
   "execution_count": null,
   "metadata": {
    "collapsed": true
   },
   "outputs": [],
   "source": []
  },
  {
   "cell_type": "code",
   "execution_count": null,
   "metadata": {
    "collapsed": true
   },
   "outputs": [],
   "source": []
  }
 ],
 "metadata": {
  "kernelspec": {
   "display_name": "Julia 0.4.0-rc1",
   "language": "julia",
   "name": "julia-0.4"
  },
  "language_info": {
   "file_extension": ".jl",
   "mimetype": "application/julia",
   "name": "julia",
   "version": "0.4.0"
  }
 },
 "nbformat": 4,
 "nbformat_minor": 0
}
