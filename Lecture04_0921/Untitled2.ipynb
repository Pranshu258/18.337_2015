{
 "cells": [
  {
   "cell_type": "code",
   "execution_count": 1,
   "metadata": {
    "collapsed": false
   },
   "outputs": [
    {
     "name": "stdout",
     "output_type": "stream",
     "text": [
      "-----------------------------------------------------------\n"
     ]
    },
    {
     "ename": "LoadError",
     "evalue": "LoadError: MethodError: `start` has no method matching start(::Symbol)\nwhile loading In[1], in expression starting on line 10",
     "output_type": "error",
     "traceback": [
      "LoadError: MethodError: `start` has no method matching start(::Symbol)\nwhile loading In[1], in expression starting on line 10",
      "",
      " in writemime at /Users/alanedelman/.julia/v0.4/FileIO/src/FileIO.jl:105",
      " in sprint at iostream.jl:211",
      " in display_dict at /Users/alanedelman/.julia/v0.4/IJulia/src/execute_request.jl:29",
      " in display at /Users/alanedelman/.julia/v0.4/IJulia/src/inline.jl:35",
      " [inlined code] from multimedia.jl:151",
      " in display at multimedia.jl:162"
     ]
    },
    {
     "name": "stdout",
     "output_type": "stream",
     "text": [
      "All loaded libwands:\n",
      "-----------------------------------------------------------\n"
     ]
    }
   ],
   "source": [
    "# Nice little Images.jl debugging script for OSX\n",
    "using Images\n",
    "\n",
    "println(\"-----------------------------------------------------------\")\n",
    "println(\"All loaded libwands:\")\n",
    "println(\"-----------------------------------------------------------\")\n",
    "if VERSION < v\"0.4.0-\"\n",
    "    display(filter(x -> contains(lowercase(x), \"wand\"), Sys.dllist()))\n",
    "else\n",
    "    display(filter(x -> contains(lowercase(x), \"wand\"), Sys.Libdl.dllist()))\n",
    "end\n",
    "\n",
    "println()\n",
    "println(\"-----------------------------------------------------------\")\n",
    "println(\"MAGICK Environment variables:\")\n",
    "println(\"-----------------------------------------------------------\")\n",
    "for key in ENV\n",
    "    # Do you have the magick in you?\n",
    "    if contains(key[1], \"MAGIC\")\n",
    "        println(\"$(key[1]): $(key[2])\")\n",
    "    end\n",
    "end\n",
    "\n",
    "println()\n",
    "println(\"-----------------------------------------------------------\")\n",
    "println(\"Images.jl deps.jl:\")\n",
    "println(\"-----------------------------------------------------------\")\n",
    "run(`cat $(Pkg.dir(\"Images\", \"deps/deps.jl\"))`)\n",
    "\n",
    "println()\n",
    "println(\"-----------------------------------------------------------\")\n",
    "println(\"BinDeps.debug(\\\"Images\\\") output:\")\n",
    "println(\"-----------------------------------------------------------\")\n",
    "try\n",
    "    using BinDeps\n",
    "    BinDeps.debug(\"Images\")\n",
    "catch e\n",
    "    display(e)\n",
    "end\n",
    "\n",
    "println()\n",
    "println(\"-----------------------------------------------------------\")\n",
    "println(\"BinDeps.debug(\\\"ImageMagick\\\") output:\")\n",
    "println(\"-----------------------------------------------------------\")\n",
    "try\n",
    "    using BinDeps\n",
    "    BinDeps.debug(\"ImageMagick\")\n",
    "catch e\n",
    "    display(e)\n",
    "end\n",
    "\n",
    "\n",
    "println()\n",
    "println(\"-----------------------------------------------------------\")\n",
    "println(\"Pkg.build(\\\"Images\\\") output:\")\n",
    "println(\"-----------------------------------------------------------\")\n",
    "Pkg.build(\"Images\")\n",
    "\n",
    "println()\n",
    "println(\"-----------------------------------------------------------\")\n",
    "println(\"Images deps.jl output\")\n",
    "println(\"-----------------------------------------------------------\")\n",
    "try\n",
    "    println(readall(Pkg.dir(\"Images\",\"deps/deps.jl\")))\n",
    "end\n",
    "\n",
    "println()\n",
    "println(\"-----------------------------------------------------------\")\n",
    "println(\"ImageMagick deps.jl output\")\n",
    "println(\"-----------------------------------------------------------\")\n",
    "try\n",
    "    println(readall(Pkg.dir(\"ImageMagick\",\"deps/deps.jl\")))\n",
    "end"
   ]
  },
  {
   "cell_type": "code",
   "execution_count": null,
   "metadata": {
    "collapsed": true
   },
   "outputs": [],
   "source": []
  }
 ],
 "metadata": {
  "kernelspec": {
   "display_name": "Julia 0.4.0-rc1",
   "language": "julia",
   "name": "julia-0.4"
  },
  "language_info": {
   "file_extension": ".jl",
   "mimetype": "application/julia",
   "name": "julia",
   "version": "0.4.0"
  }
 },
 "nbformat": 4,
 "nbformat_minor": 0
}
