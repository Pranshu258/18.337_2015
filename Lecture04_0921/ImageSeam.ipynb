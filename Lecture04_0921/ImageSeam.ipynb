{
 "cells": [
  {
   "cell_type": "code",
   "execution_count": 2,
   "metadata": {
    "collapsed": false
   },
   "outputs": [],
   "source": [
    "using Images"
   ]
  },
  {
   "cell_type": "markdown",
   "metadata": {},
   "source": [
    "## Inspired  from the last assignment in <a href=\"http://cs.brown.edu/courses/cs019/2014/assignments.html\"> Brown cs019 </a> illustrating compressing an image width.  <br>"
   ]
  },
  {
   "cell_type": "markdown",
   "metadata": {},
   "source": [
    "This notebook is organized into eight  parts <br>\n",
    "1. Get images <br>\n",
    "2. Brightness <br>\n",
    "3. Energy <br>\n",
    "4. Least Energy <br>\n",
    "5. Get and Display Seam <br>\n",
    "6. Carve Seam <br>\n",
    "7. Examples <br>\n",
    "8. Opportunities to Extend <br>"
   ]
  },
  {
   "cell_type": "markdown",
   "metadata": {},
   "source": [
    "### 1.  Get images (may take 30 secondsish)"
   ]
  },
  {
   "cell_type": "code",
   "execution_count": 3,
   "metadata": {
    "collapsed": false
   },
   "outputs": [
    {
     "name": "stderr",
     "output_type": "stream",
     "text": [
      "WARNING: [a,b,...] concatenation is deprecated; use [a;b;...] instead\n",
      " in depwarn at /Applications/Julia-0.4.0-rc1.app/Contents/Resources/julia/lib/julia/sys.dylib\n",
      " in oldstyle_vcat_warning at /Applications/Julia-0.4.0-rc1.app/Contents/Resources/julia/lib/julia/sys.dylib\n",
      " in vect at abstractarray.jl:32\n",
      " in anonymous at no file\n",
      " in include_string at loading.jl:233\n",
      " in execute_request_0x535c5df2 at /Users/alanedelman/.julia/v0.4/IJulia/src/execute_request.jl:177\n",
      " in eventloop at /Users/alanedelman/.julia/v0.4/IJulia/src/IJulia.jl:130\n",
      " in anonymous at task.jl:448\n",
      "while loading In[3], in expression starting on line 10\n"
     ]
    },
    {
     "ename": "ErrorException",
     "evalue": "UnableToOpenConfigureFile `coder.xml' @ warning/configure.c/GetConfigureOptions/706",
     "output_type": "error",
     "traceback": [
      "UnableToOpenConfigureFile `coder.xml' @ warning/configure.c/GetConfigureOptions/706",
      ""
     ]
    }
   ],
   "source": [
    "filenames = [\"belur-carving\", \"bangalore-dancers\", \"british-museum\",\"mainz-chagall-fenster\"];\n",
    "\n",
    "\n",
    "# wget images from Brown if not present\n",
    "for file in filenames\n",
    "  if ~isfile(\"$file-s2.jpg\")\n",
    "    run(`wget http://cs.brown.edu/courses/cs019/2014/Assignments/Fluid-Images/$file-s2.jpg`);\n",
    "  end\n",
    "end\n",
    "ims = [[imread(\"$file-s2.jpg\") for file in filenames]...]\n",
    "# Belur     Bangalore    British     Chagall\n"
   ]
  },
  {
   "cell_type": "code",
   "execution_count": 4,
   "metadata": {
    "collapsed": false
   },
   "outputs": [
    {
     "ename": "LoadError",
     "evalue": "LoadError: ArgumentError: Interact not found in path\nwhile loading In[4], in expression starting on line 2",
     "output_type": "error",
     "traceback": [
      "LoadError: ArgumentError: Interact not found in path\nwhile loading In[4], in expression starting on line 2",
      ""
     ]
    }
   ],
   "source": [
    "# Let's show off manipulate just because everyone likes it!\n",
    "using Interact\n",
    "@manipulate for i in 1:4\n",
    "    imread(\"$(filenames[i])-s2.jpg\")\n",
    "end"
   ]
  },
  {
   "cell_type": "code",
   "execution_count": 5,
   "metadata": {
    "collapsed": false
   },
   "outputs": [
    {
     "data": {
      "text/plain": [
       "(100,75)"
      ]
     },
     "execution_count": 5,
     "metadata": {},
     "output_type": "execute_result"
    }
   ],
   "source": [
    "# let's see the size of the image\n",
    "img = imread(\"bangalore-dancers-s2.jpg\")\n",
    "size(img)"
   ]
  },
  {
   "cell_type": "markdown",
   "metadata": {},
   "source": [
    "<h3> Note on Image Coordinates </h3>\n",
    "Image coordinates  (x,y)\n",
    "follow the horizontal major convention of screen coordinates (column, row)\n",
    "measured from the top left to the bottom right.\n",
    "This is annoyingly different from matrix conventions which use (row,column)\n",
    "and Cartesian coordinates which has y going from bottom to top.\n",
    "\n",
    "See <a href=\"https://github.com/timholy/Images.jl#storage-order-and-changing-the-representation-of-images\"> Julia's image doc </a> for an excellent\n",
    "discussion.  For example if you just can't handle it or are interfacing with MATLAB\n",
    "you can type <br> <tt> img_array = convert(ARRAY,img)  </tt>  which effectively takes a transpose."
   ]
  },
  {
   "cell_type": "markdown",
   "metadata": {},
   "source": [
    "### 2. BRIGHTNESS"
   ]
  },
  {
   "cell_type": "code",
   "execution_count": 6,
   "metadata": {
    "collapsed": false
   },
   "outputs": [
    {
     "data": {
      "text/plain": [
       "brightness (generic function with 2 methods)"
      ]
     },
     "execution_count": 6,
     "metadata": {},
     "output_type": "execute_result"
    }
   ],
   "source": [
    "# brightness of a color is the sum of the r,g,b values (stored as float32's)\n",
    "brightness(c)        =  c.r + c.g + c.b\n",
    "\n",
    "# brightness of an image bordered with zeros\n",
    "function brightness(I::Image)\n",
    "  w, h = size(I)\n",
    "  b = [brightness(I[x,y]) for x=1:w, y=1:h]\n",
    "  # borders\n",
    "  zv = fill(0f0,1,  h)  #  vertical zero \n",
    "  zh = fill(0f0,w+2,1)  #  horizontal zero \n",
    "  [zh  [zv; b; zv]  zh] \n",
    " end"
   ]
  },
  {
   "cell_type": "markdown",
   "metadata": {},
   "source": [
    "### 3. ENERGY"
   ]
  },
  {
   "cell_type": "code",
   "execution_count": 7,
   "metadata": {
    "collapsed": false
   },
   "outputs": [
    {
     "data": {
      "text/plain": [
       "energy (generic function with 1 method)"
      ]
     },
     "execution_count": 7,
     "metadata": {},
     "output_type": "execute_result"
    }
   ],
   "source": [
    "# the 3x3 stencil for energy\n",
    "function stencil(b)\n",
    "      xenergy = b[1,1]+2b[2,1]+b[3,1]-b[1,3]-2b[2,3]-b[3,3]\n",
    "      yenergy = b[1,1]+2b[1,2]+b[1,3]-b[3,1]-2b[3,2]-b[3,3]\n",
    "      √(xenergy^2 + yenergy^2)\n",
    "end\n",
    "    \n",
    "# energy of an array of brightness values \n",
    "# input: assumed zero borders\n",
    "# output: left and right set to ∞\n",
    "function energy(b)\n",
    "  w, h = size(b)\n",
    "  e = [float32(stencil( b[x-1:x+1, y-1:y+1] )) for x=2:w-1,y=2:h-1]\n",
    "  infcol = fill(Inf32,1,h-2)\n",
    "  [infcol; e; infcol]\n",
    "end"
   ]
  },
  {
   "cell_type": "markdown",
   "metadata": {},
   "source": [
    "### 4. LEAST ENERGY FROM BOTTOM TO TOP"
   ]
  },
  {
   "cell_type": "code",
   "execution_count": 8,
   "metadata": {
    "collapsed": false
   },
   "outputs": [
    {
     "data": {
      "text/plain": [
       "least_energy (generic function with 1 method)"
      ]
     },
     "execution_count": 8,
     "metadata": {},
     "output_type": "execute_result"
    }
   ],
   "source": [
    "#  e (row                  e[x,y] \n",
    "#  dirs:                ↙   ↓   ↘       <--directions naturally live between the rows\n",
    "#  e (row y+1): e[x-1,y+1] e[x,y+1]  e[x+1,y+1]     \n",
    "# Basic Comp:   e[x,y] += min( e[x-1,y+1],e[x,y],e[x+1,y])\n",
    "#               dirs records which one from (1==SW,2==S,3==SE)\n",
    "\n",
    "\n",
    "# Take an array of energies and work up from bottom to top accumulating least energy to bottom\n",
    "function least_energy(e)\n",
    "   # initialize dirs \n",
    "   w, h = size(e)\n",
    "   dirs = fill(0, w-2, h-1) # w-2 because we don't need the infs, h-1 because arrows between rows\n",
    "   # compute\n",
    "   for y=h-1:-1:1, x=2:w-1          \n",
    "        s, dirs[x-1,y] = findmin(e[x+[-1, 0, 1], y+1]) # findmin gets the min and the index\n",
    "        e[x,y] += s   #  add in current energy +  smallest from below\n",
    "   end\n",
    "   e[2:w-1,1], dirs  # return top row without infinities and dirs\n",
    "end"
   ]
  },
  {
   "cell_type": "markdown",
   "metadata": {},
   "source": [
    "### 5. GET and DISPLAY  SEAM FUNCTIONS"
   ]
  },
  {
   "cell_type": "code",
   "execution_count": 9,
   "metadata": {
    "collapsed": false
   },
   "outputs": [
    {
     "ename": "LoadError",
     "evalue": "LoadError: UndefVarError: @manipulate not defined\nwhile loading In[9], in expression starting on line 33",
     "output_type": "error",
     "traceback": [
      "LoadError: UndefVarError: @manipulate not defined\nwhile loading In[9], in expression starting on line 33",
      ""
     ]
    }
   ],
   "source": [
    "function get_seam(dirs,x)\n",
    "  seam = fill(0,1+size(dirs,2))\n",
    "  seam[1]=x\n",
    "  for y=1:size(dirs,2)\n",
    "    seam[y+1] = seam[y] + dirs[seam[y],y] - 2\n",
    "  end\n",
    "  seam\n",
    "end\n",
    "\n",
    "using Colors\n",
    "#Mark a seam\n",
    "function mark_seam(img, seam, color=RGB4{U8}(1,1,1))\n",
    "    img2 = copy(img)\n",
    "    for y=1:length(seam)\n",
    "        img2[seam[y], y]=color\n",
    "    end\n",
    "    img2\n",
    "end\n",
    "\n",
    "# Everyone just loves this !!!\n",
    "function manipulate_seam(url::String)\n",
    "  fn = split(url,\"\\/\")[end]\n",
    "  if ~isfile(fn)\n",
    "   run(`wget $url`)\n",
    "  end\n",
    "  img = imread(fn)\n",
    "  #print(size(img))\n",
    "  _,dirs  = least_energy(energy(brightness(img)))\n",
    "  @manipulate for x=1:size(img,1)\n",
    "    mark_seam(img, get_seam(dirs,x))\n",
    "  end\n",
    "end\n"
   ]
  },
  {
   "cell_type": "code",
   "execution_count": 10,
   "metadata": {
    "collapsed": false
   },
   "outputs": [
    {
     "name": "stdout",
     "output_type": "stream",
     "text": [
      "RGB4{U8}(0.494,0.62,0.78)\n"
     ]
    }
   ],
   "source": [
    "println(imread(\"Wfm_stata_center.jpg\")[1,1])"
   ]
  },
  {
   "cell_type": "code",
   "execution_count": 11,
   "metadata": {
    "collapsed": false
   },
   "outputs": [
    {
     "data": {
      "image/svg+xml": [
       "<?xml version\"1.0\" encoding=\"UTF-8\"?>\n",
       "<!DOCTYPE svg PUBLIC \"-//W3C//DTD SVG 1.1//EN\"\n",
       " \"http://www.w3.org/Graphics/SVG/1.1/DTD/svg11.dtd\">\n",
       "<svg xmlns=\"http://www.w3.org/2000/svg\" version=\"1.1\"\n",
       "     width=\"25mm\" height=\"25mm\" viewBox=\"0 0 1 1\">\n",
       "     <rect width=\"1\" height=\"1\"\n",
       "           fill=\"#7E9EC7\" stroke=\"none\"/>\n",
       "</svg>\n"
      ],
      "text/plain": [
       "RGB4{U8}(0.494,0.62,0.78)"
      ]
     },
     "execution_count": 11,
     "metadata": {},
     "output_type": "execute_result"
    }
   ],
   "source": [
    "RGB4{U8}(0.494,0.62,0.78)"
   ]
  },
  {
   "cell_type": "code",
   "execution_count": 12,
   "metadata": {
    "collapsed": false
   },
   "outputs": [
    {
     "data": {
      "image/svg+xml": [
       "<?xml version\"1.0\" encoding=\"UTF-8\"?>\n",
       "<!DOCTYPE svg PUBLIC \"-//W3C//DTD SVG 1.1//EN\"\n",
       " \"http://www.w3.org/Graphics/SVG/1.1/DTD/svg11.dtd\">\n",
       "<svg xmlns=\"http://www.w3.org/2000/svg\" version=\"1.1\"\n",
       "     width=\"25mm\" height=\"25mm\" viewBox=\"0 0 1 1\">\n",
       "     <rect width=\"1\" height=\"1\"\n",
       "           fill=\"#FFFFFF\" stroke=\"none\"/>\n",
       "</svg>\n"
      ],
      "text/plain": [
       "RGB4{U8}(1.0,1.0,1.0)"
      ]
     },
     "execution_count": 12,
     "metadata": {},
     "output_type": "execute_result"
    }
   ],
   "source": [
    "convert(RGB4{U8}, RGB(1,1,1))"
   ]
  },
  {
   "cell_type": "code",
   "execution_count": 13,
   "metadata": {
    "collapsed": false
   },
   "outputs": [
    {
     "ename": "LoadError",
     "evalue": "LoadError: UndefVarError: manipulate_seam not defined\nwhile loading In[13], in expression starting on line 4",
     "output_type": "error",
     "traceback": [
      "LoadError: UndefVarError: manipulate_seam not defined\nwhile loading In[13], in expression starting on line 4",
      ""
     ]
    }
   ],
   "source": [
    "# put your favorite image url here\n",
    "# manipulate_seam(\"http://www.prasannaholidays.com/wp-content/uploads/2015/03/charminar_hyderabad-400x300.jpg\")\n",
    "# Stata  size=(664,593)\n",
    " manipulate_seam(\"http://upload.wikimedia.org/wikipedia/commons/2/25/Wfm_stata_center.jpg\")\n",
    "# Yosemite size=(4288,2848)\n",
    " # manipulate_seam(\"http://upload.wikimedia.org/wikipedia/commons/e/ec/1_yosemite_valley_tunnel_view_2010.JPG\")"
   ]
  },
  {
   "cell_type": "markdown",
   "metadata": {},
   "source": [
    "## 6. CARVE SEAM"
   ]
  },
  {
   "cell_type": "code",
   "execution_count": 14,
   "metadata": {
    "collapsed": false
   },
   "outputs": [
    {
     "data": {
      "text/plain": [
       "carve (generic function with 3 methods)"
      ]
     },
     "execution_count": 14,
     "metadata": {},
     "output_type": "execute_result"
    }
   ],
   "source": [
    "function minseam(img)\n",
    "  e, dirs = least_energy(energy(brightness(img)))\n",
    "  x = indmin(e)\n",
    "  seam = get_seam(dirs,x)\n",
    "end\n",
    "    \n",
    "    \n",
    "function carve(img,seam)\n",
    "  w, h = size(img)\n",
    "  newimg = copy(img)\n",
    "  newimg.data  = newimg[1:w-1,:]         # one pixel less wide\n",
    "  for y=1:h\n",
    "    s=seam[y]\n",
    "    newimg[:,y] = img[[1:s-1,s+1:end],y] # delete pixel x=s on row y\n",
    "  end\n",
    "  newimg\n",
    " end\n",
    "    \n",
    "carve(img) = carve(img, minseam(img))  \n",
    "\n",
    "function carve(img, n::Int)\n",
    "  img2 = copy(img)\n",
    "  for i=1:n\n",
    "    img2 = carve(img2)\n",
    "  end\n",
    "  img2\n",
    "end"
   ]
  },
  {
   "cell_type": "markdown",
   "metadata": {},
   "source": [
    "## 7. Examples"
   ]
  },
  {
   "cell_type": "code",
   "execution_count": 15,
   "metadata": {
    "collapsed": false
   },
   "outputs": [
    {
     "data": {
      "text/plain": [
       "writemime (generic function with 31 methods)"
      ]
     },
     "execution_count": 15,
     "metadata": {},
     "output_type": "execute_result"
    }
   ],
   "source": [
    "# This is a utility function (you do not need to understand it) \n",
    "# which overrides Ijulia's image widget so that manipulate displays with the proper width\n",
    "immutable ImgFrame\n",
    "    img::Image\n",
    "end\n",
    "Base.writemime(io::IO, m::MIME\"text/html\", frame::ImgFrame) = \n",
    "write(io, \"\"\"<img src=\"data:image/png;base64,$(stringmime(MIME(\"image/png\"), frame.img))\"/>\"\"\")"
   ]
  },
  {
   "cell_type": "code",
   "execution_count": 16,
   "metadata": {
    "collapsed": false
   },
   "outputs": [
    {
     "ename": "LoadError",
     "evalue": "LoadError: UndefVarError: @manipulate not defined\nwhile loading In[16], in expression starting on line 6",
     "output_type": "error",
     "traceback": [
      "LoadError: UndefVarError: @manipulate not defined\nwhile loading In[16], in expression starting on line 6",
      ""
     ]
    }
   ],
   "source": [
    "# The (100x75) examples in the pset are so small, and julia is so fast,\n",
    "# we can manipulate these in real time\n",
    "@manipulate for fn=filenames, x=1:100\n",
    "    img = imread(\"$fn-s2.jpg\")\n",
    "    ImgFrame(carve(img,x))\n",
    "end"
   ]
  },
  {
   "cell_type": "code",
   "execution_count": 17,
   "metadata": {
    "collapsed": false
   },
   "outputs": [
    {
     "name": "stdout",
     "output_type": "stream",
     "text": [
      "When we reach 663 we have carved the image down to 1 pixel wide:\n"
     ]
    },
    {
     "name": "stderr",
     "output_type": "stream",
     "text": [
      "WARNING: float32(x) is deprecated, use Float32(x) instead.\n",
      " in depwarn at /Applications/Julia-0.4.0-rc1.app/Contents/Resources/julia/lib/julia/sys.dylib\n",
      " in float32 at deprecated.jl:50\n",
      " in energy at In[7]:13\n",
      " in minseam at In[14]:2\n",
      " [inlined code] from In[17]:29\n",
      " in anonymous at no file:0\n",
      " in include_string at loading.jl:233\n",
      " in execute_request_0x535c5df2 at /Users/alanedelman/.julia/v0.4/IJulia/src/execute_request.jl:177\n",
      " in eventloop at /Users/alanedelman/.julia/v0.4/IJulia/src/IJulia.jl:130\n",
      " in anonymous at task.jl:448\n",
      "while loading In[17], in expression starting on line 28\n",
      "WARNING: [a,b] concatenation is deprecated; use [a;b] instead\n"
     ]
    },
    {
     "ename": "LoadError",
     "evalue": "LoadError: DimensionMismatch(\"tried to assign 663-element array to 593x1 destination\")\nwhile loading In[17], in expression starting on line 28",
     "output_type": "error",
     "traceback": [
      "LoadError: DimensionMismatch(\"tried to assign 663-element array to 593x1 destination\")\nwhile loading In[17], in expression starting on line 28",
      "",
      " in throw_setindex_mismatch at operators.jl:240",
      " in setindex_shape_check at operators.jl:292",
      " in _unsafe_batchsetindex! at multidimensional.jl:339",
      " in carve at In[14]:14",
      " [inlined code] from In[17]:29",
      " in anonymous at no file:0"
     ]
    }
   ],
   "source": [
    "# Stata takes a while to compute, it's worth precomputing and\n",
    "# then displaying.  Note quantities are being recomputed each time\n",
    "# unnecessarily when they could be reused.\n",
    "# One can imagine a lower complexity computation.\n",
    "\n",
    "\n",
    "if ~isfile(\"Wfm_stata_center.jpg\")\n",
    "  run(`wget http://upload.wikimedia.org/wikipedia/commons/2/25/Wfm_stata_center.jpg`)\n",
    "end\n",
    "img = imread(\"Wfm_stata_center.jpg\")\n",
    "\n",
    "\n",
    "#Charminar\n",
    "#=\n",
    "if ~isfile(\"2.jpg\")\n",
    "  run(`wget http://www.prasannaholidays.com/wp-content/uploads/2015/03/charminar_hyderabad-400x300.jpg`)\n",
    "end\n",
    "img = imread(\"charminar_hyderabad-400x300.jpg\")\n",
    "=#\n",
    "#=\n",
    "if ~isfile(\"2.jpg\")\n",
    "    run(`wget http://media-cdn.tripadvisor.com/media/photo-s/01/5d/02/31/merlion-statue-at-merlion.jpg`)\n",
    "end\n",
    "img = imread(\"merlion-statue-at-merlion.jpg\")\n",
    "=#\n",
    "println(\"When we reach $(size(img,1)-1) we have carved the image down to 1 pixel wide:\")\n",
    "A=[img for i=1:1] # set up a vector of images\n",
    "for i=1:size(img,1)-1\n",
    "    push!(A,carve(A[end]))\n",
    "    if(rem(i,5)==0) || i==size(img,1)-1 print(i, \" \") end\n",
    "end\n"
   ]
  },
  {
   "cell_type": "code",
   "execution_count": 18,
   "metadata": {
    "collapsed": false
   },
   "outputs": [
    {
     "data": {
      "text/plain": [
       "(664,593)"
      ]
     },
     "execution_count": 18,
     "metadata": {},
     "output_type": "execute_result"
    }
   ],
   "source": [
    "size(img)"
   ]
  },
  {
   "cell_type": "code",
   "execution_count": 19,
   "metadata": {
    "collapsed": false
   },
   "outputs": [
    {
     "ename": "LoadError",
     "evalue": "LoadError: UndefVarError: @manipulate not defined\nwhile loading In[19], in expression starting on line 3",
     "output_type": "error",
     "traceback": [
      "LoadError: UndefVarError: @manipulate not defined\nwhile loading In[19], in expression starting on line 3",
      ""
     ]
    },
    {
     "name": "stderr",
     "output_type": "stream",
     "text": [
      " in depwarn at /Applications/Julia-0.4.0-rc1.app/Contents/Resources/julia/lib/julia/sys.dylib\n",
      " in oldstyle_vcat_warning at /Applications/Julia-0.4.0-rc1.app/Contents/Resources/julia/lib/julia/sys.dylib\n",
      " in carve at In[14]:14\n",
      " [inlined code] from In[17]:29\n",
      " in anonymous at no file:0\n",
      " in include_string at loading.jl:233\n",
      " in execute_request_0x535c5df2 at /Users/alanedelman/.julia/v0.4/IJulia/src/execute_request.jl:177\n",
      " in eventloop at /Users/alanedelman/.julia/v0.4/IJulia/src/IJulia.jl:130\n",
      " in anonymous at task.jl:448\n",
      "while loading In[17], in expression starting on line 28\n"
     ]
    }
   ],
   "source": [
    "@manipulate for image_width=slider(20:size(img,1), value=size(img,1))\n",
    "    ImgFrame(A[1+size(img,1)-image_width])\n",
    "end"
   ]
  },
  {
   "cell_type": "code",
   "execution_count": null,
   "metadata": {
    "collapsed": false
   },
   "outputs": [],
   "source": [
    "using Images"
   ]
  },
  {
   "cell_type": "markdown",
   "metadata": {},
   "source": [
    "### 8. Opportunities to Extend "
   ]
  },
  {
   "cell_type": "markdown",
   "metadata": {},
   "source": [
    "a. explore other energy functions <br>\n",
    "b. explore lower complexity algorithms <br>\n",
    "c. explore parallel computation "
   ]
  },
  {
   "cell_type": "code",
   "execution_count": null,
   "metadata": {
    "collapsed": false
   },
   "outputs": [],
   "source": [
    "Pkg.checkout(\"Escher\")"
   ]
  },
  {
   "cell_type": "code",
   "execution_count": null,
   "metadata": {
    "collapsed": false
   },
   "outputs": [],
   "source": [
    "Pkg.checkout(\"Patchwork\")"
   ]
  },
  {
   "cell_type": "code",
   "execution_count": null,
   "metadata": {
    "collapsed": false
   },
   "outputs": [],
   "source": [
    "help(svd)"
   ]
  },
  {
   "cell_type": "code",
   "execution_count": null,
   "metadata": {
    "collapsed": false
   },
   "outputs": [],
   "source": [
    "methods(svd)"
   ]
  },
  {
   "cell_type": "code",
   "execution_count": null,
   "metadata": {
    "collapsed": false
   },
   "outputs": [],
   "source": [
    "foo(x)=x+1"
   ]
  },
  {
   "cell_type": "code",
   "execution_count": null,
   "metadata": {
    "collapsed": false
   },
   "outputs": [],
   "source": [
    "foo(10)\n"
   ]
  },
  {
   "cell_type": "code",
   "execution_count": null,
   "metadata": {
    "collapsed": false
   },
   "outputs": [],
   "source": [
    "@code_native(foo(10))"
   ]
  },
  {
   "cell_type": "code",
   "execution_count": null,
   "metadata": {
    "collapsed": false
   },
   "outputs": [],
   "source": [
    "a=rand(3,3)"
   ]
  },
  {
   "cell_type": "code",
   "execution_count": null,
   "metadata": {
    "collapsed": false
   },
   "outputs": [],
   "source": [
    "foo(a)"
   ]
  },
  {
   "cell_type": "code",
   "execution_count": null,
   "metadata": {
    "collapsed": false
   },
   "outputs": [],
   "source": [
    "@code_native(foo(a))"
   ]
  },
  {
   "cell_type": "code",
   "execution_count": null,
   "metadata": {
    "collapsed": false
   },
   "outputs": [],
   "source": [
    "x = 1//2"
   ]
  },
  {
   "cell_type": "code",
   "execution_count": null,
   "metadata": {
    "collapsed": false
   },
   "outputs": [],
   "source": [
    "foo(x)"
   ]
  },
  {
   "cell_type": "code",
   "execution_count": null,
   "metadata": {
    "collapsed": false
   },
   "outputs": [],
   "source": [
    "@code_native(foo(x))"
   ]
  },
  {
   "cell_type": "code",
   "execution_count": null,
   "metadata": {
    "collapsed": false
   },
   "outputs": [],
   "source": [
    "x= [ 1 1//3 1.0]"
   ]
  },
  {
   "cell_type": "code",
   "execution_count": null,
   "metadata": {
    "collapsed": false
   },
   "outputs": [],
   "source": [
    "foo(x)"
   ]
  },
  {
   "cell_type": "code",
   "execution_count": null,
   "metadata": {
    "collapsed": false
   },
   "outputs": [],
   "source": [
    "x = {1 1//3 2.5}"
   ]
  },
  {
   "cell_type": "code",
   "execution_count": null,
   "metadata": {
    "collapsed": false
   },
   "outputs": [],
   "source": [
    "foo(x)"
   ]
  },
  {
   "cell_type": "code",
   "execution_count": null,
   "metadata": {
    "collapsed": false
   },
   "outputs": [],
   "source": [
    "@code_native(foo(x))"
   ]
  },
  {
   "cell_type": "code",
   "execution_count": null,
   "metadata": {
    "collapsed": true
   },
   "outputs": [],
   "source": []
  }
 ],
 "metadata": {
  "kernelspec": {
   "display_name": "Julia 0.4.0-rc1",
   "language": "julia",
   "name": "julia-0.4"
  },
  "language": "Julia",
  "language_info": {
   "file_extension": ".jl",
   "mimetype": "application/julia",
   "name": "julia",
   "version": "0.4.0"
  }
 },
 "nbformat": 4,
 "nbformat_minor": 0
}
