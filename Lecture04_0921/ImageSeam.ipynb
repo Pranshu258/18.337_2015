{
 "cells": [
  {
   "cell_type": "code",
   "execution_count": 3,
   "metadata": {
    "collapsed": false
   },
   "outputs": [
    {
     "name": "stderr",
     "output_type": "stream",
     "text": [
      "INFO: Updating METADATA...\n",
      "INFO: Computing changes...\n",
      "INFO: No packages to install, update or remove\n"
     ]
    }
   ],
   "source": [
    "Pkg.update()"
   ]
  },
  {
   "cell_type": "code",
   "execution_count": 2,
   "metadata": {
    "collapsed": false
   },
   "outputs": [
    {
     "data": {
      "text/html": [
       "<script charset=\"utf-8\">(function ($, undefined) {\n",
       "\n",
       "    function createElem(tag, attr, content) {\n",
       "\t// TODO: remove jQuery dependency\n",
       "\tvar el = $(\"<\" + tag + \"/>\").attr(attr);\n",
       "\tif (content) {\n",
       "\t    el.append(content);\n",
       "\t}\n",
       "\treturn el[0];\n",
       "    }\n",
       "\n",
       "    // A widget must expose an id field which identifies it to the backend,\n",
       "    // an elem attribute which is will be added to the DOM, and\n",
       "    // a getState() method which returns the value to be sent to the backend\n",
       "    // a sendUpdate() method which sends its current value to the backend\n",
       "    var Widget = {\n",
       "\tid: undefined,\n",
       "\telem: undefined,\n",
       "\tlabel: undefined,\n",
       "\tgetState: function () {\n",
       "\t    return this.elem.value;\n",
       "\t},\n",
       "\tsendUpdate: undefined\n",
       "    };\n",
       "\n",
       "    var Slider = function (typ, id, init) {\n",
       "\tvar attr = { type:  \"range\",\n",
       "\t\t     value: init.value,\n",
       "\t\t     min:   init.min,\n",
       "\t\t     max:   init.max,\n",
       "\t\t     step:  init.step },\n",
       "\t    elem = createElem(\"input\", attr),\n",
       "\t    self = this;\n",
       "\n",
       "\telem.onchange = function () {\n",
       "\t    self.sendUpdate();\n",
       "\t}\n",
       "\n",
       "\tthis.id = id;\n",
       "\tthis.elem = elem;\n",
       "\tthis.label = init.label;\n",
       "\n",
       "\tInputWidgets.commInitializer(this); // Initialize communication\n",
       "    }\n",
       "    Slider.prototype = Widget;\n",
       "\n",
       "    var Checkbox = function (typ, id, init) {\n",
       "\tvar attr = { type: \"checkbox\",\n",
       "\t\t     checked: init.value },\n",
       "\t    elem = createElem(\"input\", attr),\n",
       "\t    self = this;\n",
       "\n",
       "\tthis.getState = function () {\n",
       "\t    return elem.checked;\n",
       "\t}\n",
       "\telem.onchange = function () {\n",
       "\t    self.sendUpdate();\n",
       "\t}\n",
       "\n",
       "\tthis.id = id;\n",
       "\tthis.elem = elem;\n",
       "\tthis.label = init.label;\n",
       "\n",
       "\tInputWidgets.commInitializer(this);\n",
       "    }\n",
       "    Checkbox.prototype = Widget;\n",
       "\n",
       "    var Button = function (typ, id, init) {\n",
       "\tvar attr = { type:    \"button\",\n",
       "\t\t     value:   init.label },\n",
       "\t    elem = createElem(\"input\", attr),\n",
       "\t    self = this;\n",
       "\tthis.getState = function () {\n",
       "\t    return null;\n",
       "\t}\n",
       "\telem.onclick = function () {\n",
       "\t    self.sendUpdate();\n",
       "\t}\n",
       "\n",
       "\tthis.id = id;\n",
       "\tthis.elem = elem;\n",
       "\tthis.label = init.label;\n",
       "\n",
       "\tInputWidgets.commInitializer(this);\n",
       "    }\n",
       "    Button.prototype = Widget;\n",
       "\n",
       "    var Text = function (typ, id, init) {\n",
       "\tvar attr = { type:  \"text\",\n",
       "\t\t     placeholder: init.label,\n",
       "\t\t     value: init.value },\n",
       "\t    elem = createElem(\"input\", attr),\n",
       "\t    self = this;\n",
       "\tthis.getState = function () {\n",
       "\t    return elem.value;\n",
       "\t}\n",
       "\telem.onkeyup = function () {\n",
       "\t    self.sendUpdate();\n",
       "\t}\n",
       "\n",
       "\tthis.id = id;\n",
       "\tthis.elem = elem;\n",
       "\tthis.label = init.label;\n",
       "\n",
       "\tInputWidgets.commInitializer(this);\n",
       "    }\n",
       "    Text.prototype = Widget;\n",
       "\n",
       "    var Textarea = function (typ, id, init) {\n",
       "\tvar attr = { placeholder: init.label },\n",
       "\t    elem = createElem(\"textarea\", attr, init.value),\n",
       "\t    self = this;\n",
       "\tthis.getState = function () {\n",
       "\t    return elem.value;\n",
       "\t}\n",
       "\telem.onchange = function () {\n",
       "\t    self.sendUpdate();\n",
       "\t}\n",
       "\n",
       "\tthis.id = id;\n",
       "\tthis.elem = elem;\n",
       "\tthis.label = init.label;\n",
       "\n",
       "\tInputWidgets.commInitializer(this);\n",
       "    }\n",
       "    Textarea.prototype = Widget;\n",
       "\n",
       "    // RadioButtons\n",
       "    // Dropdown\n",
       "    // HTML\n",
       "    // Latex\n",
       "\n",
       "    var InputWidgets = {\n",
       "\tSlider: Slider,\n",
       "\tCheckbox: Checkbox,\n",
       "\tButton: Button,\n",
       "\tText: Text,\n",
       "\tTextarea: Textarea,\n",
       "\tdebug: false,\n",
       "\tlog: function () {\n",
       "\t    if (InputWidgets.debug) {\n",
       "\t\tconsole.log.apply(console, arguments);\n",
       "\t    }\n",
       "\t},\n",
       "\t// a central way to initalize communication\n",
       "\t// for widgets.\n",
       "\tcommInitializer: function (widget) {\n",
       "\t    widget.sendUpdate = function () {};\n",
       "\t}\n",
       "    };\n",
       "\n",
       "    window.InputWidgets = InputWidgets;\n",
       "\n",
       "})(jQuery, undefined);\n",
       "</script>"
      ]
     },
     "metadata": {},
     "output_type": "display_data"
    },
    {
     "data": {
      "text/html": [
       "<div id=\"interact-js-shim\">\n",
       "    <script charset=\"utf-8\">\n",
       "(function (IPython, $, _, MathJax, Widgets) {\n",
       "    $.event.special.destroyed = {\n",
       "\tremove: function(o) {\n",
       "\t    if (o.handler) {\n",
       "\t\to.handler.apply(this, arguments)\n",
       "\t    }\n",
       "\t}\n",
       "    }\n",
       "\n",
       "    var OutputArea = IPython.version >= \"4.0.0\" ? require(\"notebook/js/outputarea\").OutputArea : IPython.OutputArea;\n",
       "\n",
       "    var redrawValue = function (container, type, val) {\n",
       "\tvar selector = $(\"<div/>\");\n",
       "\tvar oa = new OutputArea(_.extend(selector, {\n",
       "\t    selector: selector,\n",
       "\t    prompt_area: true,\n",
       "\t    events: IPython.events,\n",
       "\t    keyboard_manager: IPython.keyboard_manager\n",
       "\t})); // Hack to work with IPython 2.1.0\n",
       "\n",
       "\tswitch (type) {\n",
       "\tcase \"image/png\":\n",
       "            var _src = 'data:' + type + ';base64,' + val;\n",
       "\t    $(container).find(\"img\").attr('src', _src);\n",
       "\t    break;\n",
       "\tdefault:\n",
       "\t    var toinsert = OutputArea.append_map[type].apply(\n",
       "\t\toa, [val, {}, selector]\n",
       "\t    );\n",
       "\t    $(container).empty().append(toinsert.contents());\n",
       "\t    selector.remove();\n",
       "\t}\n",
       "\tif (type === \"text/latex\" && MathJax) {\n",
       "\t    MathJax.Hub.Queue([\"Typeset\", MathJax.Hub, toinsert.get(0)]);\n",
       "\t}\n",
       "    }\n",
       "\n",
       "\n",
       "    $(document).ready(function() {\n",
       "\tWidgets.debug = false; // log messages etc in console.\n",
       "\tfunction initComm(evt, data) {\n",
       "\t    var comm_manager = data.kernel.comm_manager;\n",
       "        //_.extend(comm_manager.targets, require(\"widgets/js/widget\"))\n",
       "\t    comm_manager.register_target(\"Signal\", function (comm) {\n",
       "            comm.on_msg(function (msg) {\n",
       "                //Widgets.log(\"message received\", msg);\n",
       "                var val = msg.content.data.value;\n",
       "                $(\".signal-\" + comm.comm_id).each(function() {\n",
       "                var type = $(this).data(\"type\");\n",
       "                if (val[type]) {\n",
       "                    redrawValue(this, type, val[type], type);\n",
       "                }\n",
       "                });\n",
       "                delete val;\n",
       "                delete msg.content.data.value;\n",
       "            });\n",
       "\t    });\n",
       "\n",
       "\t    // coordingate with Comm and redraw Signals\n",
       "\t    // XXX: Test using Reactive here to improve performance\n",
       "\t    $([IPython.events]).on(\n",
       "\t\t'output_appended.OutputArea', function (event, type, value, md, toinsert) {\n",
       "\t\t    if (md && md.reactive) {\n",
       "                // console.log(md.comm_id);\n",
       "                toinsert.addClass(\"signal-\" + md.comm_id);\n",
       "                toinsert.data(\"type\", type);\n",
       "                // Signal back indicating the mimetype required\n",
       "                var comm_manager = IPython.notebook.kernel.comm_manager;\n",
       "                var comm = comm_manager.comms[md.comm_id];\n",
       "                comm.then(function (c) {\n",
       "                    c.send({action: \"subscribe_mime\",\n",
       "                       mime: type});\n",
       "                    toinsert.bind(\"destroyed\", function() {\n",
       "                        c.send({action: \"unsubscribe_mime\",\n",
       "                               mime: type});\n",
       "                    });\n",
       "                })\n",
       "\t\t    }\n",
       "\t    });\n",
       "\t}\n",
       "\n",
       "\ttry {\n",
       "\t    // try to initialize right away. otherwise, wait on the status_started event.\n",
       "\t    initComm(undefined, IPython.notebook);\n",
       "\t} catch (e) {\n",
       "\t    $([IPython.events]).on('kernel_created.Kernel kernel_created.Session', initComm);\n",
       "\t}\n",
       "    });\n",
       "})(IPython, jQuery, _, MathJax, InputWidgets);\n",
       "</script>\n",
       "    <script>\n",
       "        window.interactLoadedFlag = true\n",
       "       $(\"#interact-js-shim\").bind(\"destroyed\", function () {\n",
       "           if (window.interactLoadedFlag) {\n",
       "               console.warn(\"JavaScript required by Interact will be removed if you remove this cell or run using Interact more than once.\")\n",
       "           }\n",
       "       })\n",
       "       $([IPython.events]).on(\"kernel_starting.Kernel kernel_restarting.Kernel\", function () { window.interactLoadedFlag = false })\n",
       "   </script>\n",
       "</div>"
      ]
     },
     "metadata": {},
     "output_type": "display_data"
    }
   ],
   "source": [
    "using Interact"
   ]
  },
  {
   "cell_type": "markdown",
   "metadata": {},
   "source": [
    "## Inspired  from the last assignment in <a href=\"http://cs.brown.edu/courses/cs019/2014/assignments.html\"> Brown cs019 </a> illustrating compressing an image width.  <br>"
   ]
  },
  {
   "cell_type": "markdown",
   "metadata": {},
   "source": [
    "This notebook is organized into eight  parts <br>\n",
    "1. Get images <br>\n",
    "2. Brightness <br>\n",
    "3. Energy <br>\n",
    "4. Least Energy <br>\n",
    "5. Get and Display Seam <br>\n",
    "6. Carve Seam <br>\n",
    "7. Examples <br>\n",
    "8. Opportunities to Extend <br>"
   ]
  },
  {
   "cell_type": "markdown",
   "metadata": {},
   "source": [
    "### 1.  Get images (may take 30 secondsish)"
   ]
  },
  {
   "cell_type": "code",
   "execution_count": 2,
   "metadata": {
    "collapsed": false,
    "scrolled": true
   },
   "outputs": [
    {
     "name": "stderr",
     "output_type": "stream",
     "text": [
      "WARNING: [a,b,...] concatenation is deprecated; use [a;b;...] instead\n",
      " in depwarn at /Applications/Julia-0.4.0-rc1.app/Contents/Resources/julia/lib/julia/sys.dylib\n",
      " in oldstyle_vcat_warning at /Applications/Julia-0.4.0-rc1.app/Contents/Resources/julia/lib/julia/sys.dylib\n",
      " in vect at abstractarray.jl:32\n",
      " in anonymous at no file\n",
      " in include_string at loading.jl:233\n",
      " in execute_request_0x535c5df2 at /Users/alanedelman/.julia/v0.4/IJulia/src/execute_request.jl:177\n",
      " in eventloop at /Users/alanedelman/.julia/v0.4/IJulia/src/IJulia.jl:144\n",
      " in anonymous at task.jl:448\n",
      "while loading In[2], in expression starting on line 10\n"
     ]
    },
    {
     "ename": "ErrorException",
     "evalue": "UnableToOpenConfigureFile `coder.xml' @ warning/configure.c/GetConfigureOptions/706",
     "output_type": "error",
     "traceback": [
      "UnableToOpenConfigureFile `coder.xml' @ warning/configure.c/GetConfigureOptions/706",
      ""
     ]
    }
   ],
   "source": [
    "filenames = [\"belur-carving\", \"bangalore-dancers\", \"british-museum\",\"mainz-chagall-fenster\"];\n",
    "\n",
    "\n",
    "# wget images from Brown if not present\n",
    "for file in filenames\n",
    "  if ~isfile(\"$file-s2.jpg\")\n",
    "    run(`wget http://cs.brown.edu/courses/cs019/2014/Assignments/Fluid-Images/$file-s2.jpg`);\n",
    "  end\n",
    "end\n",
    "ims = [[imread(\"$file-s2.jpg\") for file in filenames]...]\n",
    "# Belur     Bangalore    British     Chagall\n"
   ]
  },
  {
   "cell_type": "code",
   "execution_count": 4,
   "metadata": {
    "collapsed": false
   },
   "outputs": [
    {
     "data": {
      "text/html": [],
      "text/plain": [
       "Interact.Slider{Int64}([Reactive.Input{Int64}] 2,\"i\",2,1:4)"
      ]
     },
     "metadata": {},
     "output_type": "display_data"
    },
    {
     "ename": "ErrorException",
     "evalue": "",
     "output_type": "error",
     "traceback": [
      "",
      "",
      " in error at /Applications/Julia-0.4.0-rc1.app/Contents/Resources/julia/lib/julia/sys.dylib",
      " in error at /Users/alanedelman/.julia/v0.4/Images/src/ioformats/libmagickwand.jl:146",
      " in setimageformat at /Users/alanedelman/.julia/v0.4/Images/src/ioformats/libmagickwand.jl:328",
      " in getblob at /Users/alanedelman/.julia/v0.4/Images/src/ioformats/libmagickwand.jl:208",
      " in writemime at /Users/alanedelman/.julia/v0.4/Images/src/io.jl:226",
      " in writemime at /Users/alanedelman/.julia/v0.4/Interact/src/IJulia/setup.jl:99",
      " in base64encode at base64.jl:160",
      " in display_dict at /Users/alanedelman/.julia/v0.4/IJulia/src/execute_request.jl:32"
     ]
    }
   ],
   "source": [
    "# Let's show off manipulate just because everyone likes it!\n",
    "using Interact\n",
    "@manipulate for i in 1:4\n",
    "    imread(\"$(filenames[i])-s2.jpg\")\n",
    "end"
   ]
  },
  {
   "cell_type": "code",
   "execution_count": 5,
   "metadata": {
    "collapsed": false
   },
   "outputs": [
    {
     "data": {
      "text/plain": [
       "(100,75)"
      ]
     },
     "execution_count": 5,
     "metadata": {},
     "output_type": "execute_result"
    }
   ],
   "source": [
    "# let's see the size of the image\n",
    "img = imread(\"bangalore-dancers-s2.jpg\")\n",
    "size(img)"
   ]
  },
  {
   "cell_type": "markdown",
   "metadata": {},
   "source": [
    "<h3> Note on Image Coordinates </h3>\n",
    "Image coordinates  (x,y)\n",
    "follow the horizontal major convention of screen coordinates (column, row)\n",
    "measured from the top left to the bottom right.\n",
    "This is annoyingly different from matrix conventions which use (row,column)\n",
    "and Cartesian coordinates which has y going from bottom to top.\n",
    "\n",
    "See <a href=\"https://github.com/timholy/Images.jl#storage-order-and-changing-the-representation-of-images\"> Julia's image doc </a> for an excellent\n",
    "discussion.  For example if you just can't handle it or are interfacing with MATLAB\n",
    "you can type <br> <tt> img_array = convert(ARRAY,img)  </tt>  which effectively takes a transpose."
   ]
  },
  {
   "cell_type": "markdown",
   "metadata": {},
   "source": [
    "### 2. BRIGHTNESS"
   ]
  },
  {
   "cell_type": "code",
   "execution_count": 14,
   "metadata": {
    "collapsed": false
   },
   "outputs": [
    {
     "data": {
      "text/plain": [
       "brightness (generic function with 2 methods)"
      ]
     },
     "execution_count": 14,
     "metadata": {},
     "output_type": "execute_result"
    }
   ],
   "source": [
    "# brightness of a color is the sum of the r,g,b values (stored as float32's)\n",
    "brightness(c)        =  c.r + c.g + c.b\n",
    "\n",
    "# brightness of an image bordered with zeros\n",
    "function brightness(I::Image)\n",
    "  w, h = size(I)\n",
    "  b = [brightness(I[x,y]) for x=1:w, y=1:h]\n",
    "  # borders\n",
    "  zv = fill(0f0,1,  h)  #  vertical zero \n",
    "  zh = fill(0f0,w+2,1)  #  horizontal zero \n",
    "  [zh  [zv; b; zv]  zh] \n",
    " end"
   ]
  },
  {
   "cell_type": "markdown",
   "metadata": {},
   "source": [
    "### 3. ENERGY"
   ]
  },
  {
   "cell_type": "code",
   "execution_count": 15,
   "metadata": {
    "collapsed": false
   },
   "outputs": [
    {
     "data": {
      "text/plain": [
       "energy (generic function with 1 method)"
      ]
     },
     "execution_count": 15,
     "metadata": {},
     "output_type": "execute_result"
    }
   ],
   "source": [
    "# the 3x3 stencil for energy\n",
    "function stencil(b)\n",
    "      xenergy = b[1,1]+2b[2,1]+b[3,1]-b[1,3]-2b[2,3]-b[3,3]\n",
    "      yenergy = b[1,1]+2b[1,2]+b[1,3]-b[3,1]-2b[3,2]-b[3,3]\n",
    "      √(xenergy^2 + yenergy^2)\n",
    "end\n",
    "    \n",
    "# energy of an array of brightness values \n",
    "# input: assumed zero borders\n",
    "# output: left and right set to ∞\n",
    "function energy(b)\n",
    "  w, h = size(b)\n",
    "  e = [float32(stencil( b[x-1:x+1, y-1:y+1] )) for x=2:w-1,y=2:h-1]\n",
    "  infcol = fill(Inf32,1,h-2)\n",
    "  [infcol; e; infcol]\n",
    "end"
   ]
  },
  {
   "cell_type": "markdown",
   "metadata": {},
   "source": [
    "### 4. LEAST ENERGY FROM BOTTOM TO TOP"
   ]
  },
  {
   "cell_type": "code",
   "execution_count": 16,
   "metadata": {
    "collapsed": false
   },
   "outputs": [
    {
     "data": {
      "text/plain": [
       "least_energy (generic function with 1 method)"
      ]
     },
     "execution_count": 16,
     "metadata": {},
     "output_type": "execute_result"
    }
   ],
   "source": [
    "#  e (row                  e[x,y] \n",
    "#  dirs:                ↙   ↓   ↘       <--directions naturally live between the rows\n",
    "#  e (row y+1): e[x-1,y+1] e[x,y+1]  e[x+1,y+1]     \n",
    "# Basic Comp:   e[x,y] += min( e[x-1,y+1],e[x,y],e[x+1,y])\n",
    "#               dirs records which one from (1==SW,2==S,3==SE)\n",
    "\n",
    "\n",
    "# Take an array of energies and work up from bottom to top accumulating least energy to bottom\n",
    "function least_energy(e)\n",
    "   # initialize dirs \n",
    "   w, h = size(e)\n",
    "   dirs = fill(0, w-2, h-1) # w-2 because we don't need the infs, h-1 because arrows between rows\n",
    "   # compute\n",
    "   for y=h-1:-1:1, x=2:w-1          \n",
    "        s, dirs[x-1,y] = findmin(e[x+[-1, 0, 1], y+1]) # findmin gets the min and the index\n",
    "        e[x,y] += s   #  add in current energy +  smallest from below\n",
    "   end\n",
    "   e[2:w-1,1], dirs  # return top row without infinities and dirs\n",
    "end"
   ]
  },
  {
   "cell_type": "markdown",
   "metadata": {},
   "source": [
    "### 5. GET and DISPLAY  SEAM FUNCTIONS"
   ]
  },
  {
   "cell_type": "code",
   "execution_count": 17,
   "metadata": {
    "collapsed": false
   },
   "outputs": [
    {
     "data": {
      "text/plain": [
       "manipulate_seam (generic function with 1 method)"
      ]
     },
     "execution_count": 17,
     "metadata": {},
     "output_type": "execute_result"
    }
   ],
   "source": [
    "function get_seam(dirs,x)\n",
    "  seam = fill(0,1+size(dirs,2))\n",
    "  seam[1]=x\n",
    "  for y=1:size(dirs,2)\n",
    "    seam[y+1] = seam[y] + dirs[seam[y],y] - 2\n",
    "  end\n",
    "  seam\n",
    "end\n",
    "\n",
    "using Colors\n",
    "#Mark a seam\n",
    "function mark_seam(img, seam, color=RGB4{U8}(1,1,1))\n",
    "    img2 = copy(img)\n",
    "    for y=1:length(seam)\n",
    "        img2[seam[y], y]=color\n",
    "    end\n",
    "    img2\n",
    "end\n",
    "\n",
    "# Everyone just loves this !!!\n",
    "function manipulate_seam(url::String)\n",
    "  fn = split(url,\"\\/\")[end]\n",
    "  if ~isfile(fn)\n",
    "   run(`wget $url`)\n",
    "  end\n",
    "  img = imread(fn)\n",
    "  #print(size(img))\n",
    "  _,dirs  = least_energy(energy(brightness(img)))\n",
    "  @manipulate for x=1:size(img,1)\n",
    "    mark_seam(img, get_seam(dirs,x))\n",
    "  end\n",
    "end\n"
   ]
  },
  {
   "cell_type": "code",
   "execution_count": 18,
   "metadata": {
    "collapsed": false
   },
   "outputs": [
    {
     "name": "stdout",
     "output_type": "stream",
     "text": [
      "RGB4{U8}(0.494,0.62,0.78)\n"
     ]
    }
   ],
   "source": [
    "println(imread(\"Wfm_stata_center.jpg\")[1,1])"
   ]
  },
  {
   "cell_type": "code",
   "execution_count": 19,
   "metadata": {
    "collapsed": false
   },
   "outputs": [
    {
     "data": {
      "image/svg+xml": [
       "<?xml version\"1.0\" encoding=\"UTF-8\"?>\n",
       "<!DOCTYPE svg PUBLIC \"-//W3C//DTD SVG 1.1//EN\"\n",
       " \"http://www.w3.org/Graphics/SVG/1.1/DTD/svg11.dtd\">\n",
       "<svg xmlns=\"http://www.w3.org/2000/svg\" version=\"1.1\"\n",
       "     width=\"25mm\" height=\"25mm\" viewBox=\"0 0 1 1\">\n",
       "     <rect width=\"1\" height=\"1\"\n",
       "           fill=\"#7E9EC7\" stroke=\"none\"/>\n",
       "</svg>\n"
      ],
      "text/plain": [
       "RGB4{U8}(0.494,0.62,0.78)"
      ]
     },
     "execution_count": 19,
     "metadata": {},
     "output_type": "execute_result"
    }
   ],
   "source": [
    "RGB4{U8}(0.494,0.62,0.78)"
   ]
  },
  {
   "cell_type": "code",
   "execution_count": 20,
   "metadata": {
    "collapsed": false
   },
   "outputs": [
    {
     "data": {
      "image/svg+xml": [
       "<?xml version\"1.0\" encoding=\"UTF-8\"?>\n",
       "<!DOCTYPE svg PUBLIC \"-//W3C//DTD SVG 1.1//EN\"\n",
       " \"http://www.w3.org/Graphics/SVG/1.1/DTD/svg11.dtd\">\n",
       "<svg xmlns=\"http://www.w3.org/2000/svg\" version=\"1.1\"\n",
       "     width=\"25mm\" height=\"25mm\" viewBox=\"0 0 1 1\">\n",
       "     <rect width=\"1\" height=\"1\"\n",
       "           fill=\"#FFFFFF\" stroke=\"none\"/>\n",
       "</svg>\n"
      ],
      "text/plain": [
       "RGB4{U8}(1.0,1.0,1.0)"
      ]
     },
     "execution_count": 20,
     "metadata": {},
     "output_type": "execute_result"
    }
   ],
   "source": [
    "convert(RGB4{U8}, RGB(1,1,1))"
   ]
  },
  {
   "cell_type": "code",
   "execution_count": null,
   "metadata": {
    "collapsed": false
   },
   "outputs": [
    {
     "name": "stderr",
     "output_type": "stream",
     "text": [
      "WARNING: float32(x) is deprecated, use Float32(x) instead.\n"
     ]
    }
   ],
   "source": [
    "# put your favorite image url here\n",
    "# manipulate_seam(\"http://www.prasannaholidays.com/wp-content/uploads/2015/03/charminar_hyderabad-400x300.jpg\")\n",
    "# Stata  size=(664,593)\n",
    " manipulate_seam(\"http://upload.wikimedia.org/wikipedia/commons/2/25/Wfm_stata_center.jpg\")\n",
    "# Yosemite size=(4288,2848)\n",
    " # manipulate_seam(\"http://upload.wikimedia.org/wikipedia/commons/e/ec/1_yosemite_valley_tunnel_view_2010.JPG\")"
   ]
  },
  {
   "cell_type": "markdown",
   "metadata": {},
   "source": [
    "## 6. CARVE SEAM"
   ]
  },
  {
   "cell_type": "code",
   "execution_count": null,
   "metadata": {
    "collapsed": false
   },
   "outputs": [],
   "source": [
    "function minseam(img)\n",
    "  e, dirs = least_energy(energy(brightness(img)))\n",
    "  x = indmin(e)\n",
    "  seam = get_seam(dirs,x)\n",
    "end\n",
    "    \n",
    "    \n",
    "function carve(img,seam)\n",
    "  w, h = size(img)\n",
    "  newimg = copy(img)\n",
    "  newimg.data  = newimg[1:w-1,:]         # one pixel less wide\n",
    "  for y=1:h\n",
    "    s=seam[y]\n",
    "    newimg[:,y] = img[[1:s-1,s+1:end],y] # delete pixel x=s on row y\n",
    "  end\n",
    "  newimg\n",
    " end\n",
    "    \n",
    "carve(img) = carve(img, minseam(img))  \n",
    "\n",
    "function carve(img, n::Int)\n",
    "  img2 = copy(img)\n",
    "  for i=1:n\n",
    "    img2 = carve(img2)\n",
    "  end\n",
    "  img2\n",
    "end"
   ]
  },
  {
   "cell_type": "markdown",
   "metadata": {},
   "source": [
    "## 7. Examples"
   ]
  },
  {
   "cell_type": "code",
   "execution_count": null,
   "metadata": {
    "collapsed": false
   },
   "outputs": [],
   "source": [
    "# This is a utility function (you do not need to understand it) \n",
    "# which overrides Ijulia's image widget so that manipulate displays with the proper width\n",
    "immutable ImgFrame\n",
    "    img::Image\n",
    "end\n",
    "Base.writemime(io::IO, m::MIME\"text/html\", frame::ImgFrame) = \n",
    "write(io, \"\"\"<img src=\"data:image/png;base64,$(stringmime(MIME(\"image/png\"), frame.img))\"/>\"\"\")"
   ]
  },
  {
   "cell_type": "code",
   "execution_count": null,
   "metadata": {
    "collapsed": false
   },
   "outputs": [],
   "source": [
    "# The (100x75) examples in the pset are so small, and julia is so fast,\n",
    "# we can manipulate these in real time\n",
    "@manipulate for fn=filenames, x=1:100\n",
    "    img = imread(\"$fn-s2.jpg\")\n",
    "    ImgFrame(carve(img,x))\n",
    "end"
   ]
  },
  {
   "cell_type": "code",
   "execution_count": null,
   "metadata": {
    "collapsed": false
   },
   "outputs": [],
   "source": [
    "# Stata takes a while to compute, it's worth precomputing and\n",
    "# then displaying.  Note quantities are being recomputed each time\n",
    "# unnecessarily when they could be reused.\n",
    "# One can imagine a lower complexity computation.\n",
    "\n",
    "\n",
    "if ~isfile(\"Wfm_stata_center.jpg\")\n",
    "  run(`wget http://upload.wikimedia.org/wikipedia/commons/2/25/Wfm_stata_center.jpg`)\n",
    "end\n",
    "img = imread(\"Wfm_stata_center.jpg\")\n",
    "\n",
    "\n",
    "#Charminar\n",
    "#=\n",
    "if ~isfile(\"2.jpg\")\n",
    "  run(`wget http://www.prasannaholidays.com/wp-content/uploads/2015/03/charminar_hyderabad-400x300.jpg`)\n",
    "end\n",
    "img = imread(\"charminar_hyderabad-400x300.jpg\")\n",
    "=#\n",
    "#Singapore\n",
    "#=\n",
    "if ~isfile(\"2.jpg\")\n",
    "    run(`wget http://media-cdn.tripadvisor.com/media/photo-s/01/5d/02/31/merlion-statue-at-merlion.jpg`)\n",
    "end\n",
    "img = imread(\"merlion-statue-at-merlion.jpg\")\n",
    "=#\n",
    "println(\"When we reach $(size(img,1)-1) we have carved the image down to 1 pixel wide:\")\n",
    "A=[img for i=1:1] # set up a vector of images\n",
    "for i=1:size(img,1)-1\n",
    "    push!(A,carve(A[end]))\n",
    "    if(rem(i,5)==0) || i==size(img,1)-1 print(i, \" \") end\n",
    "end\n"
   ]
  },
  {
   "cell_type": "code",
   "execution_count": null,
   "metadata": {
    "collapsed": false
   },
   "outputs": [],
   "source": [
    "size(img)"
   ]
  },
  {
   "cell_type": "code",
   "execution_count": null,
   "metadata": {
    "collapsed": false
   },
   "outputs": [],
   "source": [
    "@manipulate for image_width=slider(20:size(img,1), value=size(img,1))\n",
    "    ImgFrame(A[1+size(img,1)-image_width])\n",
    "end"
   ]
  },
  {
   "cell_type": "markdown",
   "metadata": {},
   "source": [
    "### 8. Opportunities to Extend "
   ]
  },
  {
   "cell_type": "markdown",
   "metadata": {},
   "source": [
    "a. explore other energy functions <br>\n",
    "b. explore lower complexity algorithms <br>\n",
    "c. explore parallel computation "
   ]
  }
 ],
 "metadata": {
  "kernelspec": {
   "display_name": "Julia 0.4.0-rc1",
   "language": "julia",
   "name": "julia-0.4"
  },
  "language": "Julia",
  "language_info": {
   "file_extension": ".jl",
   "mimetype": "application/julia",
   "name": "julia",
   "version": "0.4.0"
  }
 },
 "nbformat": 4,
 "nbformat_minor": 0
}
