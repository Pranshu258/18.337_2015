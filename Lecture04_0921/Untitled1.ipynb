{
 "cells": [
  {
   "cell_type": "code",
   "execution_count": 1,
   "metadata": {
    "collapsed": false
   },
   "outputs": [
    {
     "name": "stderr",
     "output_type": "stream",
     "text": [
      "INFO: Recompiling stale cache file /Users/alanedelman/.julia/lib/v0.4/FixedPointNumbers.ji for module FixedPointNumbers.\n",
      "INFO: Recompiling stale cache file /Users/alanedelman/.julia/lib/v0.4/Images.ji for module Images.\n",
      "INFO: Recompiling stale cache file /Users/alanedelman/.julia/lib/v0.4/Colors.ji for module Colors.\n",
      "INFO: Recompiling stale cache file /Users/alanedelman/.julia/lib/v0.4/ColorTypes.ji for module ColorTypes.\n",
      "INFO: Recompiling stale cache file /Users/alanedelman/.julia/lib/v0.4/ColorVectorSpace.ji for module ColorVectorSpace.\n",
      "INFO: Recompiling stale cache file /Users/alanedelman/.julia/lib/v0.4/Graphics.ji for module Graphics.\n"
     ]
    },
    {
     "data": {
      "text/plain": [
       "Array{Float64,2}"
      ]
     },
     "metadata": {},
     "output_type": "display_data"
    },
    {
     "ename": "ErrorException",
     "evalue": "UnableToOpenConfigureFile `coder.xml' @ warning/configure.c/GetConfigureOptions/706",
     "output_type": "error",
     "traceback": [
      "UnableToOpenConfigureFile `coder.xml' @ warning/configure.c/GetConfigureOptions/706",
      "",
      " in error at /Applications/Julia-0.4.0-rc1.app/Contents/Resources/julia/lib/julia/sys.dylib",
      " in error at /Users/alanedelman/.julia/v0.4/Images/src/ioformats/libmagickwand.jl:146",
      " in setimageformat at /Users/alanedelman/.julia/v0.4/Images/src/ioformats/libmagickwand.jl:328",
      " in getblob at /Users/alanedelman/.julia/v0.4/Images/src/ioformats/libmagickwand.jl:208",
      " in writemime at /Users/alanedelman/.julia/v0.4/Images/src/io.jl:226",
      " in base64encode at base64.jl:160",
      " in display_dict at /Users/alanedelman/.julia/v0.4/IJulia/src/execute_request.jl:32"
     ]
    }
   ],
   "source": [
    "using Images\n",
    "\n",
    "# Beautiful snowflakes\n",
    "const ϕ = golden\n",
    "function foo(z)\n",
    "  c = (φ-2)+(φ-1)im\n",
    "  max = 80\n",
    "  for n = 1:max\n",
    "    abs(z) ≥ 2 && return n-1\n",
    "    z = z^2 + c\n",
    "  end\n",
    "  return max\n",
    "end\n",
    "\n",
    "# Let's define foo over the complex plane, then create an n-by-n grid, sampling foo at each point\n",
    "foo(x, y) = foo(x + y*im)\n",
    "foo_grid(n) = broadcast(foo, linspace(-0.5, 1, n)', linspace(-1, 0.5, n))\n",
    "\n",
    "# Let's display it as an image, (scaled so that it converts nicely)\n",
    "data = foo_grid(200)/80\n",
    "display(typeof(data))\n",
    "img = convert(Image, data)"
   ]
  },
  {
   "cell_type": "code",
   "execution_count": 2,
   "metadata": {
    "collapsed": false
   },
   "outputs": [
    {
     "ename": "LoadError",
     "evalue": "LoadError: \nwhile loading In[2], in expression starting on line 1",
     "output_type": "error",
     "traceback": [
      "LoadError: \nwhile loading In[2], in expression starting on line 1",
      "",
      " in error at /Applications/Julia-0.4.0-rc1.app/Contents/Resources/julia/lib/julia/sys.dylib",
      " in error at /Users/alanedelman/.julia/v0.4/Images/src/ioformats/libmagickwand.jl:146",
      " in setimageformat at /Users/alanedelman/.julia/v0.4/Images/src/ioformats/libmagickwand.jl:328",
      " in getblob at /Users/alanedelman/.julia/v0.4/Images/src/ioformats/libmagickwand.jl:208",
      " in writemime at /Users/alanedelman/.julia/v0.4/Images/src/io.jl:226",
      " in writemime at multimedia.jl:43"
     ]
    }
   ],
   "source": [
    "writemime(STDOUT, \"image/png\", img)"
   ]
  },
  {
   "cell_type": "code",
   "execution_count": null,
   "metadata": {
    "collapsed": true
   },
   "outputs": [],
   "source": []
  }
 ],
 "metadata": {
  "kernelspec": {
   "display_name": "Julia 0.4.0-rc1",
   "language": "julia",
   "name": "julia-0.4"
  },
  "language_info": {
   "file_extension": ".jl",
   "mimetype": "application/julia",
   "name": "julia",
   "version": "0.4.0"
  }
 },
 "nbformat": 4,
 "nbformat_minor": 0
}
