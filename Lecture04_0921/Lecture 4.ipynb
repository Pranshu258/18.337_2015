{
 "cells": [
  {
   "cell_type": "markdown",
   "metadata": {},
   "source": [
    "MATMUL vs MATADD PERFORMANCE"
   ]
  },
  {
   "cell_type": "code",
   "execution_count": 46,
   "metadata": {
    "collapsed": false
   },
   "outputs": [
    {
     "name": "stdout",
     "output_type": "stream",
     "text": [
      "gigaflops: 43.0\n"
     ]
    }
   ],
   "source": [
    "n=5000\n",
    "a=rand(n,n)\n",
    "b=rand(n,n)\n",
    "flops = 2n^3\n",
    "t = @elapsed(a*b)\n",
    "gigaflop_rate = round(1e-9*flops/t)\n",
    "println(\"gigaflops: $gigaflop_rate\")"
   ]
  },
  {
   "cell_type": "code",
   "execution_count": 2,
   "metadata": {
    "collapsed": true
   },
   "outputs": [],
   "source": [
    "blas_set_num_threads(1)"
   ]
  },
  {
   "cell_type": "code",
   "execution_count": 3,
   "metadata": {
    "collapsed": false
   },
   "outputs": [
    {
     "name": "stdout",
     "output_type": "stream",
     "text": [
      "gigaflops: 44.0\n"
     ]
    }
   ],
   "source": [
    "n=5000\n",
    "a=randn(n,n)\n",
    "b=randn(n,n)\n",
    "flops = 2n^3\n",
    "t = @elapsed(a*b)\n",
    "gigaflop_rate = round(1e-9*flops/t)\n",
    "println(\"gigaflops: $gigaflop_rate\")"
   ]
  },
  {
   "cell_type": "code",
   "execution_count": 43,
   "metadata": {
    "collapsed": false
   },
   "outputs": [
    {
     "name": "stdout",
     "output_type": "stream",
     "text": [
      "megaflops: 219.0\n"
     ]
    }
   ],
   "source": [
    "n=5000\n",
    "a=randn(n,n)\n",
    "b=randn(n,n)\n",
    "flops = n^2\n",
    "t = @elapsed(a+b)\n",
    "megaflop_rate = round(1e-6*flops/t)\n",
    "println(\"megaflops: $megaflop_rate\")"
   ]
  },
  {
   "cell_type": "code",
   "execution_count": 36,
   "metadata": {
    "collapsed": false
   },
   "outputs": [
    {
     "data": {
      "text/plain": [
       "10-element Array{Any,1}:\n",
       "  2\n",
       "  3\n",
       "  4\n",
       "  5\n",
       "  6\n",
       "  7\n",
       "  8\n",
       "  9\n",
       " 10\n",
       " 11"
      ]
     },
     "execution_count": 36,
     "metadata": {},
     "output_type": "execute_result"
    }
   ],
   "source": [
    "addprocs(10)"
   ]
  },
  {
   "cell_type": "code",
   "execution_count": 33,
   "metadata": {
    "collapsed": false
   },
   "outputs": [
    {
     "data": {
      "text/plain": [
       "3-element Array{Any,1}:\n",
       " 2x2 Array{Float64,2}:\n",
       " 0.0839819  0.318332\n",
       " 0.043669   0.193708\n",
       " 2x2 Array{Float64,2}:\n",
       " 1.05731   0.64942 \n",
       " 0.944766  0.606432  \n",
       " 2x2 Array{Float64,2}:\n",
       " 0.317092  0.20327 \n",
       " 0.583208  0.374016  "
      ]
     },
     "execution_count": 33,
     "metadata": {},
     "output_type": "execute_result"
    }
   ],
   "source": [
    "pmap(x->x^2, [rand(2,2) for i=1:3])\n",
    "\n",
    "# pmap will move data to slave processors, compute, \n",
    "# and return result to master"
   ]
  },
  {
   "cell_type": "markdown",
   "metadata": {},
   "source": [
    "Pmap"
   ]
  },
  {
   "cell_type": "code",
   "execution_count": 3,
   "metadata": {
    "collapsed": false
   },
   "outputs": [
    {
     "name": "stdout",
     "output_type": "stream",
     "text": [
      "1\n",
      "1.858249788\n",
      "1.995287841\n"
     ]
    }
   ],
   "source": [
    "M=[1:4]\n",
    "println(nprocs())\n",
    "println(@elapsed map(x->trace(randn(3000,3000)^2),M))\n",
    "println(@elapsed pmap(x->trace(randn(3000,3000)^2),M))"
   ]
  },
  {
   "cell_type": "code",
   "execution_count": 4,
   "metadata": {
    "collapsed": false
   },
   "outputs": [
    {
     "name": "stdout",
     "output_type": "stream",
     "text": [
      "2\n",
      "5.49760436\n",
      "5.943525752\n"
     ]
    }
   ],
   "source": [
    "addprocs(1)\n",
    "M=[1:4]\n",
    "println(nprocs())\n",
    "println(@elapsed map(x->trace(randn(3000,3000)^2),M))\n",
    "println(@elapsed pmap(x->trace(randn(3000,3000)^2),M))"
   ]
  },
  {
   "cell_type": "code",
   "execution_count": 5,
   "metadata": {
    "collapsed": false
   },
   "outputs": [
    {
     "name": "stdout",
     "output_type": "stream",
     "text": [
      "3\n",
      "5.448011708\n",
      "3.289091613\n"
     ]
    }
   ],
   "source": [
    "addprocs(1)\n",
    "M=[1:4]\n",
    "println(nprocs())\n",
    "println(@elapsed map(x->trace(randn(3000,3000)^2),M))\n",
    "println(@elapsed pmap(x->trace(randn(3000,3000)^2),M))"
   ]
  },
  {
   "cell_type": "code",
   "execution_count": 6,
   "metadata": {
    "collapsed": false
   },
   "outputs": [
    {
     "name": "stdout",
     "output_type": "stream",
     "text": [
      "4\n",
      "5.528438105\n",
      "2.670215622\n"
     ]
    }
   ],
   "source": [
    "addprocs(1)\n",
    "M=[1:4]\n",
    "println(nprocs())\n",
    "println(@elapsed map(x->trace(randn(3000,3000)^2),M))\n",
    "println(@elapsed pmap(x->trace(randn(3000,3000)^2),M))"
   ]
  },
  {
   "cell_type": "code",
   "execution_count": 7,
   "metadata": {
    "collapsed": false
   },
   "outputs": [
    {
     "name": "stdout",
     "output_type": "stream",
     "text": [
      "5\n",
      "5.459724571\n",
      "2.105152804\n"
     ]
    }
   ],
   "source": [
    "addprocs(1)\n",
    "M=[1:4]\n",
    "println(nprocs())\n",
    "println(@elapsed map(x->trace(randn(3000,3000)^2),M))\n",
    "println(@elapsed pmap(x->trace(randn(3000,3000)^2),M))"
   ]
  },
  {
   "cell_type": "code",
   "execution_count": 8,
   "metadata": {
    "collapsed": false
   },
   "outputs": [
    {
     "name": "stdout",
     "output_type": "stream",
     "text": [
      "6\n",
      "5.466747892\n",
      "1.70041078\n"
     ]
    }
   ],
   "source": [
    "addprocs(1)\n",
    "M=[1:4]\n",
    "println(nprocs())\n",
    "println(@elapsed map(x->trace(randn(3000,3000)^2),M))\n",
    "println(@elapsed pmap(x->trace(randn(3000,3000)^2),M))"
   ]
  },
  {
   "cell_type": "code",
   "execution_count": 9,
   "metadata": {
    "collapsed": false
   },
   "outputs": [
    {
     "name": "stdout",
     "output_type": "stream",
     "text": [
      "7\n",
      "5.476626658\n",
      "1.644184916\n"
     ]
    }
   ],
   "source": [
    "addprocs(1)\n",
    "M=[1:4]\n",
    "println(nprocs())\n",
    "println(@elapsed map(x->trace(randn(3000,3000)^2),M))\n",
    "println(@elapsed pmap(x->trace(randn(3000,3000)^2),M))"
   ]
  },
  {
   "cell_type": "code",
   "execution_count": 10,
   "metadata": {
    "collapsed": false
   },
   "outputs": [
    {
     "name": "stdout",
     "output_type": "stream",
     "text": [
      "8\n",
      "5.419013324\n",
      "1.570199808\n"
     ]
    }
   ],
   "source": [
    "addprocs(1)\n",
    "M=[1:4]\n",
    "println(nprocs())\n",
    "println(@elapsed map(x->trace(randn(3000,3000)^2),M))\n",
    "println(@elapsed pmap(x->trace(randn(3000,3000)^2),M))"
   ]
  },
  {
   "cell_type": "markdown",
   "metadata": {},
   "source": [
    "Load Balancing Issues"
   ]
  },
  {
   "cell_type": "code",
   "execution_count": 11,
   "metadata": {
    "collapsed": false
   },
   "outputs": [
    {
     "name": "stdout",
     "output_type": "stream",
     "text": [
      "9\n",
      "5.484140186\n",
      "1.546762317\n"
     ]
    }
   ],
   "source": [
    "addprocs(1)\n",
    "M=[1:4]\n",
    "println(nprocs())\n",
    "println(@elapsed map(x->trace(randn(3000,3000)^2),M))\n",
    "println(@elapsed pmap(x->trace(randn(3000,3000)^2),M))\n"
   ]
  },
  {
   "cell_type": "code",
   "execution_count": 12,
   "metadata": {
    "collapsed": false
   },
   "outputs": [
    {
     "name": "stdout",
     "output_type": "stream",
     "text": [
      "10\n",
      "5.492179415\n",
      "1.553011727\n"
     ]
    }
   ],
   "source": [
    "addprocs(1)\n",
    "M=[1:4]\n",
    "println(nprocs())\n",
    "println(@elapsed map(x->trace(randn(3000,3000)^2),M))\n",
    "println(@elapsed pmap(x->trace(randn(3000,3000)^2),M))"
   ]
  },
  {
   "cell_type": "code",
   "execution_count": 13,
   "metadata": {
    "collapsed": false
   },
   "outputs": [
    {
     "name": "stdout",
     "output_type": "stream",
     "text": [
      "11\n",
      "14.85471524\n",
      "5.866342781\n"
     ]
    }
   ],
   "source": [
    "addprocs(1)\n",
    "M=[1:11]\n",
    "println(nprocs())\n",
    "println(@elapsed map(x->trace(randn(3000,3000)^2),M))\n",
    "println(@elapsed pmap(x->trace(randn(3000,3000)^2),M))"
   ]
  },
  {
   "cell_type": "code",
   "execution_count": 90,
   "metadata": {
    "collapsed": false
   },
   "outputs": [
    {
     "name": "stdout",
     "output_type": "stream",
     "text": [
      "0.08711067\n"
     ]
    },
    {
     "data": {
      "text/plain": [
       "9592"
      ]
     },
     "execution_count": 90,
     "metadata": {},
     "output_type": "execute_result"
    }
   ],
   "source": [
    "n=1\n",
    "println(@elapsed z=sum(map(isprime,n:(n+99_999))))\n",
    "z"
   ]
  },
  {
   "cell_type": "code",
   "execution_count": 93,
   "metadata": {
    "collapsed": false
   },
   "outputs": [
    {
     "name": "stdout",
     "output_type": "stream",
     "text": [
      "0.293217393\n"
     ]
    },
    {
     "data": {
      "text/plain": [
       "4271"
      ]
     },
     "execution_count": 93,
     "metadata": {},
     "output_type": "execute_result"
    }
   ],
   "source": [
    "n=20_000_000_000\n",
    "println(@elapsed z=sum(map(isprime,n:(n+99_999))))\n",
    "z"
   ]
  },
  {
   "cell_type": "code",
   "execution_count": 94,
   "metadata": {
    "collapsed": false
   },
   "outputs": [
    {
     "name": "stdout",
     "output_type": "stream",
     "text": [
      "3.911008466\n"
     ]
    },
    {
     "data": {
      "text/plain": [
       "9592"
      ]
     },
     "execution_count": 94,
     "metadata": {},
     "output_type": "execute_result"
    }
   ],
   "source": [
    "n=1\n",
    "println(@elapsed z=sum(pmap(isprime,n:(n+99_999))))\n",
    "z"
   ]
  },
  {
   "cell_type": "code",
   "execution_count": 77,
   "metadata": {
    "collapsed": false
   },
   "outputs": [
    {
     "data": {
      "text/plain": [
       "1-element Array{Any,1}:\n",
       " 2"
      ]
     },
     "execution_count": 77,
     "metadata": {},
     "output_type": "execute_result"
    }
   ],
   "source": [
    "addprocs(1)"
   ]
  },
  {
   "cell_type": "code",
   "execution_count": 79,
   "metadata": {
    "collapsed": false
   },
   "outputs": [
    {
     "data": {
      "text/plain": [
       "6.885005462"
      ]
     },
     "execution_count": 79,
     "metadata": {},
     "output_type": "execute_result"
    }
   ],
   "source": [
    "n=1\n",
    "@elapsed pmap(isprime,n:(n+99_999))"
   ]
  },
  {
   "cell_type": "code",
   "execution_count": 80,
   "metadata": {
    "collapsed": false
   },
   "outputs": [
    {
     "data": {
      "text/plain": [
       "1-element Array{Any,1}:\n",
       " 3"
      ]
     },
     "execution_count": 80,
     "metadata": {},
     "output_type": "execute_result"
    }
   ],
   "source": [
    "addprocs(1)"
   ]
  },
  {
   "cell_type": "code",
   "execution_count": 81,
   "metadata": {
    "collapsed": false
   },
   "outputs": [
    {
     "data": {
      "text/plain": [
       "4.4397497"
      ]
     },
     "execution_count": 81,
     "metadata": {},
     "output_type": "execute_result"
    }
   ],
   "source": [
    "n=1\n",
    "@elapsed pmap(isprime,n:(n+99_999))"
   ]
  },
  {
   "cell_type": "code",
   "execution_count": 82,
   "metadata": {
    "collapsed": false
   },
   "outputs": [
    {
     "data": {
      "text/plain": [
       "1-element Array{Any,1}:\n",
       " 4"
      ]
     },
     "execution_count": 82,
     "metadata": {},
     "output_type": "execute_result"
    }
   ],
   "source": [
    "addprocs(1)"
   ]
  },
  {
   "cell_type": "code",
   "execution_count": 84,
   "metadata": {
    "collapsed": false
   },
   "outputs": [
    {
     "data": {
      "text/plain": [
       "3.930645957"
      ]
     },
     "execution_count": 84,
     "metadata": {},
     "output_type": "execute_result"
    }
   ],
   "source": [
    "n=1\n",
    "@elapsed pmap(isprime,n:(n+99_999))"
   ]
  },
  {
   "cell_type": "code",
   "execution_count": 1,
   "metadata": {
    "collapsed": false
   },
   "outputs": [
    {
     "name": "stdout",
     "output_type": "stream",
     "text": [
      "1 procs\n",
      "map: 1.763850404\n",
      "pmap: 1.615324815\n",
      "2 procs\n",
      "map: 4.867472913\n",
      "pmap: 6.51748529\n",
      "3 procs\n",
      "map: 4.884340068\n",
      "pmap: 3.716198169\n",
      "4 procs\n",
      "map: 4.914618213\n",
      "pmap: 3.255792087\n",
      "5 procs\n",
      "map: 4.961000871\n",
      "pmap: 2.802611609\n",
      "6 procs\n",
      "map: 5.079390311\n",
      "pmap: 2.218753823\n",
      "7 procs\n",
      "map: 5.366473794\n",
      "pmap: 2.675273002\n",
      "8 procs\n",
      "map: 5.348668754\n",
      "pmap: 2.365349352\n",
      "9 procs\n",
      "map: 5.15110838\n",
      "pmap: 2.529358085\n",
      "10 procs\n",
      "map: 5.276885994\n",
      "pmap: 2.391194826\n",
      "11 procs\n",
      "map: 5.223200457\n",
      "pmap: 2.871376969\n",
      "12 procs\n",
      "map: 5.328486006\n",
      "pmap: 4.030911674\n",
      "13 procs\n",
      "map: 5.743054924\n",
      "pmap: 4.86021622\n",
      "14 procs\n",
      "map: 5.26905023\n",
      "pmap: 3.337954228\n",
      "15 procs\n",
      "map: 5.283601936\n",
      "pmap: 3.838917668\n",
      "16 procs\n",
      "map: 5.263000683\n",
      "pmap: 4.476909547\n",
      "17 procs\n",
      "map: 5.287817566\n",
      "pmap: 3.87444807\n",
      "18 procs\n",
      "map: 5.247974486\n",
      "pmap: 3.630788179\n",
      "19 procs\n",
      "map: 5.163839933\n",
      "pmap: 3.761109441\n",
      "20 procs\n",
      "map: 5.042753846\n",
      "pmap: 3.534660316\n"
     ]
    }
   ],
   "source": [
    "for i=1:20\n",
    "M=[randn(3000,3000) for i=1:4]\n",
    "    println(\"$(nprocs()) procs\")\n",
    "    println(\"map: $(@elapsed map(x->x^2,M))\")\n",
    "    println(\"pmap: $(@elapsed pmap(x->x^2,M))\")\n",
    "addprocs(1)\n",
    "end"
   ]
  },
  {
   "cell_type": "code",
   "execution_count": 1,
   "metadata": {
    "collapsed": false
   },
   "outputs": [
    {
     "name": "stdout",
     "output_type": "stream",
     "text": [
      "map: 10.778124747\n",
      "1 procs\n",
      "[11.164013702]\n",
      "2 procs\n",
      "[11.164013702,28.022523173]\n",
      "3 procs\n",
      "[11.164013702,28.022523173,18.515644434]\n",
      "4 procs\n",
      "[11.164013702,28.022523173,18.515644434,16.315931278]\n",
      "5 procs\n",
      "[11.164013702,28.022523173,18.515644434,16.315931278,11.463118751]\n",
      "6 procs\n",
      "[11.164013702,28.022523173,18.515644434,16.315931278,11.463118751,10.647415384]\n",
      "7 procs\n",
      "[11.164013702,28.022523173,18.515644434,16.315931278,11.463118751,10.647415384,11.332975942]\n",
      "8 procs\n",
      "[11.164013702,28.022523173,18.515644434,16.315931278,11.463118751,10.647415384,11.332975942,10.465631834]\n"
     ]
    }
   ],
   "source": [
    "\n",
    "k=8\n",
    "M=[i for i=1:4]\n",
    "\n",
    " v=zeros(k)\n",
    "println(\"map: $(@elapsed map(x->trace(randn(5000,5000)^2),M))\")\n",
    "for i=1:k\n",
    "   \n",
    "\n",
    "    println(\"$(nprocs()) procs\")\n",
    "    \n",
    "    v[i]= @elapsed pmap(x->trace(randn(5000,5000)^2),M)\n",
    "    println(v[1:i])\n",
    "addprocs(1)\n",
    "end"
   ]
  },
  {
   "cell_type": "code",
   "execution_count": 4,
   "metadata": {
    "collapsed": false
   },
   "outputs": [
    {
     "name": "stdout",
     "output_type": "stream",
     "text": [
      "Julia Version 0.3.11\n",
      "Commit 483dbf5* (2015-07-27 06:18 UTC)\n",
      "Platform Info:\n",
      "  System: Darwin (x86_64-apple-darwin13.4.0)\n",
      "  CPU: Intel(R) Core(TM) i7-4870HQ CPU @ 2.50GHz\n",
      "  WORD_SIZE: 64\n",
      "  BLAS: libopenblas (USE64BITINT DYNAMIC_ARCH NO_AFFINITY Haswell)\n",
      "  LAPACK: libopenblas\n",
      "  LIBM: libopenlibm\n",
      "  LLVM: libLLVM-3.3\n"
     ]
    }
   ],
   "source": [
    " versioninfo()"
   ]
  },
  {
   "cell_type": "code",
   "execution_count": 6,
   "metadata": {
    "collapsed": false
   },
   "outputs": [
    {
     "data": {
      "text/html": [
       "cpu_info() at <a href=\"https://github.com/JuliaLang/julia/tree/483dbf5279efe29f94cf35d42de0ab0a673fb34e/base/sysinfo.jl#L114\" target=\"_blank\">sysinfo.jl:114</a>"
      ],
      "text/plain": [
       "cpu_info() at sysinfo.jl:114"
      ]
     },
     "execution_count": 6,
     "metadata": {},
     "output_type": "execute_result"
    }
   ],
   "source": [
    "cpu = Sys.cpu_info()\n",
    "@which Sys.cpu_info()"
   ]
  },
  {
   "cell_type": "code",
   "execution_count": 6,
   "metadata": {
    "collapsed": false
   },
   "outputs": [
    {
     "data": {
      "image/png": "[encoded data removed]",
      "text/plain": [
       "Figure(PyObject <matplotlib.figure.Figure object at 0x128136350>)"
      ]
     },
     "metadata": {},
     "output_type": "display_data"
    },
    {
     "data": {
      "text/plain": [
       "1-element Array{Any,1}:\n",
       " PyObject <matplotlib.lines.Line2D object at 0x128779390>"
      ]
     },
     "execution_count": 6,
     "metadata": {},
     "output_type": "execute_result"
    }
   ],
   "source": [
    "plot(1:4,v[1:4]./(1:4),\"-*\")"
   ]
  },
  {
   "cell_type": "code",
   "execution_count": 7,
   "metadata": {
    "collapsed": false
   },
   "outputs": [
    {
     "data": {
      "text/plain": [
       "6.526469651"
      ]
     },
     "execution_count": 7,
     "metadata": {},
     "output_type": "execute_result"
    }
   ],
   "source": [
    "v[2]\n"
   ]
  },
  {
   "cell_type": "code",
   "execution_count": 8,
   "metadata": {
    "collapsed": false
   },
   "outputs": [
    {
     "data": {
      "text/plain": [
       "3.775014799"
      ]
     },
     "execution_count": 8,
     "metadata": {},
     "output_type": "execute_result"
    }
   ],
   "source": [
    "v[3]"
   ]
  },
  {
   "cell_type": "code",
   "execution_count": 9,
   "metadata": {
    "collapsed": false
   },
   "outputs": [
    {
     "data": {
      "text/plain": [
       "20-element Array{Float64,1}:\n",
       " 0.260406\n",
       " 1.0     \n",
       " 0.578416\n",
       " 0.519858\n",
       " 0.388064\n",
       " 0.333194\n",
       " 0.32103 \n",
       " 0.31598 \n",
       " 0.342792\n",
       " 0.34319 \n",
       " 0.338682\n",
       " 0.397269\n",
       " 0.377011\n",
       " 0.442986\n",
       " 0.554403\n",
       " 0.395519\n",
       " 0.712008\n",
       " 0.675136\n",
       " 0.501528\n",
       " 0.41159 "
      ]
     },
     "execution_count": 9,
     "metadata": {},
     "output_type": "execute_result"
    }
   ],
   "source": [
    "v./v[2]"
   ]
  },
  {
   "cell_type": "code",
   "execution_count": 1,
   "metadata": {
    "collapsed": false
   },
   "outputs": [
    {
     "data": {
      "text/plain": [
       "0.288"
      ]
     },
     "execution_count": 1,
     "metadata": {},
     "output_type": "execute_result"
    }
   ],
   "source": [
    "6000^2 * 8 /1e9"
   ]
  },
  {
   "cell_type": "code",
   "execution_count": 2,
   "metadata": {
    "collapsed": false
   },
   "outputs": [
    {
     "data": {
      "text/plain": [
       "2.425073745540917"
      ]
     },
     "execution_count": 2,
     "metadata": {},
     "output_type": "execute_result"
    }
   ],
   "source": [
    "trace(randn(3,3))"
   ]
  },
  {
   "cell_type": "code",
   "execution_count": 3,
   "metadata": {
    "collapsed": false
   },
   "outputs": [
    {
     "name": "stderr",
     "output_type": "stream",
     "text": [
      "INFO: Loading help data...\n"
     ]
    },
    {
     "name": "stdout",
     "output_type": "stream",
     "text": [
      "Base.trace(M)\n",
      "\n",
      "   Matrix trace\n"
     ]
    }
   ],
   "source": [
    "?trace"
   ]
  },
  {
   "cell_type": "code",
   "execution_count": 9,
   "metadata": {
    "collapsed": false
   },
   "outputs": [
    {
     "name": "stdout",
     "output_type": "stream",
     "text": [
      "elapsed time: 0.068225313 seconds (16008732 bytes allocated)\n"
     ]
    },
    {
     "data": {
      "text/plain": [
       "1-element Array{Float64,1}:\n",
       " 2281.01"
      ]
     },
     "execution_count": 9,
     "metadata": {},
     "output_type": "execute_result"
    }
   ],
   "source": [
    "@time map(x->trace(randn(1000,1000)^2),[1])"
   ]
  },
  {
   "cell_type": "code",
   "execution_count": 10,
   "metadata": {
    "collapsed": true
   },
   "outputs": [],
   "source": [
    "blas_set_num_threads(1)"
   ]
  },
  {
   "cell_type": "code",
   "execution_count": 10,
   "metadata": {
    "collapsed": false
   },
   "outputs": [
    {
     "name": "stdout",
     "output_type": "stream",
     "text": [
      "elapsed time: 1.131164442 seconds (256001848 bytes allocated, 6.12% gc time)\n"
     ]
    },
    {
     "data": {
      "text/plain": [
       "1-element Array{Float64,1}:\n",
       " 3388.62"
      ]
     },
     "execution_count": 10,
     "metadata": {},
     "output_type": "execute_result"
    }
   ],
   "source": [
    "@time map(x->trace(randn(4000,4000)^2),[1])"
   ]
  },
  {
   "cell_type": "code",
   "execution_count": 12,
   "metadata": {
    "collapsed": false
   },
   "outputs": [
    {
     "name": "stdout",
     "output_type": "stream",
     "text": [
      "elapsed time: 3.328273807 seconds (256001848 bytes allocated, 2.13% gc time)\n"
     ]
    },
    {
     "data": {
      "text/plain": [
       "1-element Array{Float64,1}:\n",
       " 5339.54"
      ]
     },
     "execution_count": 12,
     "metadata": {},
     "output_type": "execute_result"
    }
   ],
   "source": [
    "blas_set_num_threads(1)\n",
    "@time map(x->trace(randn(4000,4000)^2),[1])"
   ]
  },
  {
   "cell_type": "code",
   "execution_count": 21,
   "metadata": {
    "collapsed": false
   },
   "outputs": [
    {
     "name": "stdout",
     "output_type": "stream",
     "text": [
      "elapsed time: 1.296925195 seconds (256001848 bytes allocated, 5.89% gc time)\n"
     ]
    },
    {
     "data": {
      "text/plain": [
       "1-element Array{Float64,1}:\n",
       " 3828.88"
      ]
     },
     "execution_count": 21,
     "metadata": {},
     "output_type": "execute_result"
    }
   ],
   "source": [
    "blas_set_num_threads(5)\n",
    "@time map(x->trace(randn(4000,4000)^2),[1])"
   ]
  },
  {
   "cell_type": "code",
   "execution_count": 8,
   "metadata": {
    "collapsed": false
   },
   "outputs": [
    {
     "data": {
      "text/plain": [
       "8"
      ]
     },
     "execution_count": 8,
     "metadata": {},
     "output_type": "execute_result"
    }
   ],
   "source": [
    "CPU_CORES"
   ]
  },
  {
   "cell_type": "code",
   "execution_count": 35,
   "metadata": {
    "collapsed": false
   },
   "outputs": [
    {
     "data": {
      "text/plain": [
       "8"
      ]
     },
     "execution_count": 35,
     "metadata": {},
     "output_type": "execute_result"
    }
   ],
   "source": [
    "CPU_CORES"
   ]
  },
  {
   "cell_type": "code",
   "execution_count": 8,
   "metadata": {
    "collapsed": true
   },
   "outputs": [],
   "source": [
    "using DataFrames"
   ]
  },
  {
   "cell_type": "code",
   "execution_count": 9,
   "metadata": {
    "collapsed": false
   },
   "outputs": [],
   "source": [
    "top = readtable(\"TOP500_201506.csv\");"
   ]
  },
  {
   "cell_type": "code",
   "execution_count": 14,
   "metadata": {
    "collapsed": false
   },
   "outputs": [
    {
     "data": {
      "text/plain": [
       "11870208"
      ]
     },
     "execution_count": 14,
     "metadata": {},
     "output_type": "execute_result"
    }
   ],
   "source": [
    "maximum(top[:Nmax])"
   ]
  },
  {
   "cell_type": "code",
   "execution_count": 16,
   "metadata": {
    "collapsed": false
   },
   "outputs": [
    {
     "data": {
      "text/plain": [
       "15.964542466079136"
      ]
     },
     "execution_count": 16,
     "metadata": {},
     "output_type": "execute_result"
    }
   ],
   "source": [
    "log10(12000000^2*64)"
   ]
  },
  {
   "cell_type": "code",
   "execution_count": 22,
   "metadata": {
    "collapsed": false
   },
   "outputs": [
    {
     "data": {
      "text/plain": [
       "34909.09090909091"
      ]
     },
     "execution_count": 22,
     "metadata": {},
     "output_type": "execute_result"
    }
   ],
   "source": [
    "N=12000000.0\n",
    "(2.0/3*N^3)/(33*1e15)"
   ]
  },
  {
   "cell_type": "code",
   "execution_count": 24,
   "metadata": {
    "collapsed": false
   },
   "outputs": [
    {
     "data": {
      "text/plain": [
       "9.696944444444446"
      ]
     },
     "execution_count": 24,
     "metadata": {},
     "output_type": "execute_result"
    }
   ],
   "source": [
    "(34909)/60/60"
   ]
  },
  {
   "cell_type": "code",
   "execution_count": 30,
   "metadata": {
    "collapsed": false
   },
   "outputs": [
    {
     "data": {
      "text/plain": [
       "11870208"
      ]
     },
     "execution_count": 30,
     "metadata": {},
     "output_type": "execute_result"
    }
   ],
   "source": [
    "maximum(top[:Nmax])"
   ]
  },
  {
   "cell_type": "markdown",
   "metadata": {},
   "source": [
    "spawn"
   ]
  },
  {
   "cell_type": "code",
   "execution_count": 24,
   "metadata": {
    "collapsed": false
   },
   "outputs": [
    {
     "data": {
      "text/plain": [
       "RemoteRef(8,1,72)"
      ]
     },
     "execution_count": 24,
     "metadata": {},
     "output_type": "execute_result"
    }
   ],
   "source": [
    "r =@spawn  rand(5,5)"
   ]
  },
  {
   "cell_type": "code",
   "execution_count": 17,
   "metadata": {
    "collapsed": false
   },
   "outputs": [
    {
     "data": {
      "text/plain": [
       "11"
      ]
     },
     "execution_count": 17,
     "metadata": {},
     "output_type": "execute_result"
    }
   ],
   "source": [
    "nprocs()"
   ]
  },
  {
   "cell_type": "code",
   "execution_count": 15,
   "metadata": {
    "collapsed": false
   },
   "outputs": [
    {
     "data": {
      "text/plain": [
       "3x3 Array{Float64,2}:\n",
       " 0.831973  0.406154  0.769586\n",
       " 0.894275  0.105545  0.788304\n",
       " 0.628602  0.695253  0.659806"
      ]
     },
     "execution_count": 15,
     "metadata": {},
     "output_type": "execute_result"
    }
   ],
   "source": [
    "fetch(s)"
   ]
  },
  {
   "cell_type": "code",
   "execution_count": 16,
   "metadata": {
    "collapsed": false
   },
   "outputs": [
    {
     "data": {
      "text/plain": [
       "0.40615446804136446"
      ]
     },
     "execution_count": 16,
     "metadata": {},
     "output_type": "execute_result"
    }
   ],
   "source": [
    "s[1,2]"
   ]
  },
  {
   "cell_type": "code",
   "execution_count": 37,
   "metadata": {
    "collapsed": false
   },
   "outputs": [
    {
     "data": {
      "text/plain": [
       "3x3 Array{Float64,2}:\n",
       " 0.398896  0.399194  0.81355 \n",
       " 0.763833  0.214127  0.768526\n",
       " 0.62143   0.567665  0.626706"
      ]
     },
     "execution_count": 37,
     "metadata": {},
     "output_type": "execute_result"
    }
   ],
   "source": [
    "fetch(u)"
   ]
  },
  {
   "cell_type": "code",
   "execution_count": 38,
   "metadata": {
    "collapsed": false
   },
   "outputs": [
    {
     "data": {
      "text/plain": [
       "0.3988956202522269"
      ]
     },
     "execution_count": 38,
     "metadata": {},
     "output_type": "execute_result"
    }
   ],
   "source": [
    "u[1,1]"
   ]
  },
  {
   "cell_type": "code",
   "execution_count": 5,
   "metadata": {
    "collapsed": false
   },
   "outputs": [
    {
     "name": "stdout",
     "output_type": "stream",
     "text": [
      "Julia Version 0.3.11\n",
      "Commit 483dbf5* (2015-07-27 06:18 UTC)\n",
      "Platform Info:\n",
      "  System: Darwin (x86_64-apple-darwin13.4.0)\n",
      "  CPU: Intel(R) Core(TM) i7-4870HQ CPU @ 2.50GHz\n",
      "  WORD_SIZE: 64\n",
      "  BLAS: libopenblas (USE64BITINT DYNAMIC_ARCH NO_AFFINITY Haswell)\n",
      "  LAPACK: libopenblas\n",
      "  LIBM: libopenlibm\n",
      "  LLVM: libLLVM-3.3\n"
     ]
    }
   ],
   "source": [
    "versioninfo()"
   ]
  },
  {
   "cell_type": "code",
   "execution_count": null,
   "metadata": {
    "collapsed": true
   },
   "outputs": [],
   "source": []
  }
 ],
 "metadata": {
  "kernelspec": {
   "display_name": "Julia 0.3.11",
   "language": "julia",
   "name": "julia-0.3"
  },
  "language_info": {
   "file_extension": ".jl",
   "mimetype": "application/julia",
   "name": "julia",
   "version": "0.3.11"
  }
 },
 "nbformat": 4,
 "nbformat_minor": 0
}
