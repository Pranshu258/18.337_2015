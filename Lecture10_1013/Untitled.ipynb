{
 "cells": [
  {
   "cell_type": "code",
   "execution_count": 6,
   "metadata": {
    "collapsed": false
   },
   "outputs": [],
   "source": [
    "immutable Unum\n",
    "    s::Int    # sign\n",
    "    e::Int    # exponent\n",
    "    f::Int    # fraction\n",
    "    u::Int    # ubit\n",
    "    esm1::Int   # exponent size - 1\n",
    "    fsm1::Int   # fraction size - 1\n",
    "    ########\n",
    "    es::Int\n",
    "    fs::Int\n",
    "    bias::Int\n",
    "end"
   ]
  },
  {
   "cell_type": "code",
   "execution_count": 26,
   "metadata": {
    "collapsed": false
   },
   "outputs": [
    {
     "name": "stderr",
     "output_type": "stream",
     "text": [
      "WARNING: redefining constant esizesize\n",
      "WARNING: redefining constant fsizesize\n"
     ]
    },
    {
     "data": {
      "text/plain": [
       "(2,2)"
      ]
     },
     "execution_count": 26,
     "metadata": {},
     "output_type": "execute_result"
    }
   ],
   "source": [
    "const (esizesize,fsizesize) = 2, 2  # utag = {esizesize,fsizesize}"
   ]
  },
  {
   "cell_type": "code",
   "execution_count": 2,
   "metadata": {
    "collapsed": false
   },
   "outputs": [
    {
     "data": {
      "text/plain": [
       "Unum"
      ]
     },
     "execution_count": 2,
     "metadata": {},
     "output_type": "execute_result"
    }
   ],
   "source": [
    "Unum(s,e,f,u,esm1,fsm1) = Unum(s,e,f,u,esm1,fsm1,esm1+1,fsm1+1,2^esm1-1)"
   ]
  },
  {
   "cell_type": "code",
   "execution_count": 104,
   "metadata": {
    "collapsed": false
   },
   "outputs": [
    {
     "data": {
      "text/plain": [
       "Unum(0,0,0,0,0,0,1,1)"
      ]
     },
     "execution_count": 104,
     "metadata": {},
     "output_type": "execute_result"
    }
   ],
   "source": [
    "u = Unum(0,0,0,0,0,0)"
   ]
  },
  {
   "cell_type": "code",
   "execution_count": 19,
   "metadata": {
    "collapsed": false
   },
   "outputs": [
    {
     "data": {
      "text/plain": [
       "convert (generic function with 1 method)"
      ]
     },
     "execution_count": 19,
     "metadata": {},
     "output_type": "execute_result"
    }
   ],
   "source": [
    "function convert(::Type{Float64}, u::Unum)\n",
    "    if u.e == 0 return((-1)^u.s *  2.0^(1-u.bias) *(u.f/2^u.fs))  end\n",
    "    # infinity not set up yet : if u.e == 2^u.es-1 && u.f=2^u.fs-1 && es\n",
    "    (-1)^u.s*2.0^(u.e-u.bias)*(1+u.f/2^u.fs)\n",
    "    \n",
    "end"
   ]
  },
  {
   "cell_type": "code",
   "execution_count": 4,
   "metadata": {
    "collapsed": false
   },
   "outputs": [
    {
     "data": {
      "text/plain": [
       "c (generic function with 1 method)"
      ]
     },
     "execution_count": 4,
     "metadata": {},
     "output_type": "execute_result"
    }
   ],
   "source": [
    "convert(Float64,Unum(0,1,1,0,2,0))\n",
    "c(s,e,f,u,esm1,fsm1)=convert(Float64,Unum(s,e,f,u,esm1,fsm1))"
   ]
  },
  {
   "cell_type": "code",
   "execution_count": 106,
   "metadata": {
    "collapsed": false
   },
   "outputs": [
    {
     "name": "stdout",
     "output_type": "stream",
     "text": [
      "map(rationalize,z) = Any[0//1,1//1024,1//512,3//1024,1//256,5//1024,3//512,7//1024,1//128,9//1024,5//512,11//1024,3//256,13//1024,7//512,15//1024,1//64,17//1024,9//512,19//1024,5//256,21//1024,11//512,23//1024,3//128,25//1024,13//512,27//1024,7//256,29//1024,15//512,31//1024,1//32,17//512,9//256,19//512,5//128,21//512,11//256,23//512,3//64,25//512,13//256,27//512,7//128,29//512,15//256,31//512,1//16,17//256,9//128,19//256,5//64,21//256,11//128,23//256,3//32,25//256,13//128,27//256,7//64,29//256,15//128,31//256,1//8,17//128,9//64,19//128,5//32,21//128,11//64,23//128,3//16,25//128,13//64,27//128,7//32,29//128,15//64,31//128,1//4,17//64,9//32,19//64,5//16,21//64,11//32,23//64,3//8,25//64,13//32,27//64,7//16,29//64,15//32,31//64,1//2,17//32,9//16,19//32,5//8,21//32,11//16,23//32,3//4,25//32,13//16,27//32,7//8,29//32,15//16,31//32,1//1,17//16,9//8,19//16,5//4,21//16,11//8,23//16,3//2,25//16,13//8,27//16,7//4,29//16,15//8,31//16,2//1,17//8,9//4,19//8,5//2,21//8,11//4,23//8,3//1,25//8,13//4,27//8,7//2,29//8,15//4,31//8,4//1,17//4,9//2,19//4,5//1,21//4,11//2,23//4,6//1,25//4,13//2,27//4,7//1,29//4,15//2,31//4,8//1,17//2,9//1,19//2,10//1,21//2,11//1,23//2,12//1,25//2,13//1,27//2,14//1,29//2,15//1,31//2,16//1,17//1,18//1,19//1,20//1,21//1,22//1,23//1,24//1,25//1,26//1,27//1,28//1,29//1,30//1,31//1,32//1,34//1,36//1,38//1,40//1,42//1,44//1,46//1,48//1,50//1,52//1,54//1,56//1,58//1,60//1,62//1,64//1,68//1,72//1,76//1,80//1,84//1,88//1,92//1,96//1,100//1,104//1,108//1,112//1,116//1,120//1,124//1,128//1,136//1,144//1,152//1,160//1,168//1,176//1,184//1,192//1,200//1,208//1,216//1,224//1,232//1,240//1,248//1,256//1,272//1,288//1,304//1,320//1,336//1,352//1,368//1,384//1,400//1,416//1,432//1,448//1,464//1,480//1,1//0]"
     ]
    },
    {
     "data": {
      "text/plain": [
       "256-element Array{Any,1}:\n",
       "   0//1   \n",
       "   1//1024\n",
       "   1//512 \n",
       "   3//1024\n",
       "   1//256 \n",
       "   5//1024\n",
       "   3//512 \n",
       "   7//1024\n",
       "   1//128 \n",
       "   9//1024\n",
       "   5//512 \n",
       "  11//1024\n",
       "   3//256 \n",
       "    ⋮     \n",
       " 320//1   \n",
       " 336//1   \n",
       " 352//1   \n",
       " 368//1   \n",
       " 384//1   \n",
       " 400//1   \n",
       " 416//1   \n",
       " 432//1   \n",
       " 448//1   \n",
       " 464//1   \n",
       " 480//1   \n",
       "   1//0   "
      ]
     },
     "execution_count": 106,
     "metadata": {},
     "output_type": "execute_result"
    },
    {
     "name": "stdout",
     "output_type": "stream",
     "text": [
      "\n"
     ]
    }
   ],
   "source": [
    "nums = []\n",
    "for es=1:2^esizesize, fs=1:2^esizesize\n",
    "    \n",
    "    z=[c(0,e,f,0,es-1,fs-1) for e=0:(2^es-1), f=0:(2^fs-1)][:]\n",
    "    \n",
    "    nums= [nums ; z ]\n",
    "end\n",
    "z=sort(unique(sort(nums)))\n",
    "z[end]=Inf\n",
    "@show (map(rationalize,z))\n"
   ]
  },
  {
   "cell_type": "code",
   "execution_count": 54,
   "metadata": {
    "collapsed": true
   },
   "outputs": [],
   "source": [
    "using PyPlot"
   ]
  },
  {
   "cell_type": "code",
   "execution_count": 55,
   "metadata": {
    "collapsed": false
   },
   "outputs": [
    {
     "data": {
      "image/png": "[encoded data removed]",
      "text/plain": [
       "PyPlot.Figure(PyObject <matplotlib.figure.Figure object at 0x320f2cbd0>)"
      ]
     },
     "metadata": {},
     "output_type": "display_data"
    },
    {
     "data": {
      "text/plain": [
       "1-element Array{Any,1}:\n",
       " PyObject <matplotlib.lines.Line2D object at 0x32107c1d0>"
      ]
     },
     "execution_count": 55,
     "metadata": {},
     "output_type": "execute_result"
    }
   ],
   "source": [
    "plot(z,\"*\")"
   ]
  },
  {
   "cell_type": "code",
   "execution_count": 56,
   "metadata": {
    "collapsed": false
   },
   "outputs": [
    {
     "data": {
      "text/plain": [
       "(256,)"
      ]
     },
     "execution_count": 56,
     "metadata": {},
     "output_type": "execute_result"
    }
   ],
   "source": [
    "size(z)"
   ]
  },
  {
   "cell_type": "code",
   "execution_count": 57,
   "metadata": {
    "collapsed": false
   },
   "outputs": [
    {
     "data": {
      "text/plain": [
       "246"
      ]
     },
     "execution_count": 57,
     "metadata": {},
     "output_type": "execute_result"
    }
   ],
   "source": [
    "21*12-6"
   ]
  },
  {
   "cell_type": "code",
   "execution_count": 58,
   "metadata": {
    "collapsed": false
   },
   "outputs": [
    {
     "data": {
      "text/plain": [
       "256-element Array{Any,1}:\n",
       "   0//1   \n",
       "   1//1024\n",
       "   1//512 \n",
       "   3//1024\n",
       "   1//256 \n",
       "   5//1024\n",
       "   3//512 \n",
       "   7//1024\n",
       "   1//128 \n",
       "   9//1024\n",
       "   5//512 \n",
       "  11//1024\n",
       "   3//256 \n",
       "    ⋮     \n",
       " 320//1   \n",
       " 336//1   \n",
       " 352//1   \n",
       " 368//1   \n",
       " 384//1   \n",
       " 400//1   \n",
       " 416//1   \n",
       " 432//1   \n",
       " 448//1   \n",
       " 464//1   \n",
       " 480//1   \n",
       "   1//0   "
      ]
     },
     "execution_count": 58,
     "metadata": {},
     "output_type": "execute_result"
    }
   ],
   "source": [
    "map(rationalize,z)"
   ]
  },
  {
   "cell_type": "code",
   "execution_count": 59,
   "metadata": {
    "collapsed": false
   },
   "outputs": [
    {
     "data": {
      "text/plain": [
       "row (generic function with 1 method)"
      ]
     },
     "execution_count": 59,
     "metadata": {},
     "output_type": "execute_result"
    }
   ],
   "source": [
    "row(i) = @show map(rationalize,z')[(i-1)*21 + (1:21)]"
   ]
  },
  {
   "cell_type": "code",
   "execution_count": 60,
   "metadata": {
    "collapsed": false
   },
   "outputs": [
    {
     "name": "stdout",
     "output_type": "stream",
     "text": [
      "(map(rationalize,z'))[(i - 1) * 21 + (1:21)] = Rational{Int64}[0//1,1//1024,1//512,3//1024,1//256,5//1024,3//512,7//1024,1//128,9//1024,5//512,11//1024,3//256,13//1024,7//512,15//1024,1//64,17//1024,9//512,19//1024,5//256]"
     ]
    },
    {
     "data": {
      "text/plain": [
       "21-element Array{Rational{Int64},1}:\n",
       "  0//1   \n",
       "  1//1024\n",
       "  1//512 \n",
       "  3//1024\n",
       "  1//256 \n",
       "  5//1024\n",
       "  3//512 \n",
       "  7//1024\n",
       "  1//128 \n",
       "  9//1024\n",
       "  5//512 \n",
       " 11//1024\n",
       "  3//256 \n",
       " 13//1024\n",
       "  7//512 \n",
       " 15//1024\n",
       "  1//64  \n",
       " 17//1024\n",
       "  9//512 \n",
       " 19//1024\n",
       "  5//256 "
      ]
     },
     "execution_count": 60,
     "metadata": {},
     "output_type": "execute_result"
    },
    {
     "name": "stdout",
     "output_type": "stream",
     "text": [
      "\n"
     ]
    }
   ],
   "source": [
    "row(1)"
   ]
  },
  {
   "cell_type": "code",
   "execution_count": 61,
   "metadata": {
    "collapsed": false
   },
   "outputs": [
    {
     "name": "stdout",
     "output_type": "stream",
     "text": [
      "(map(rationalize,z'))[(i - 1) * 21 + (1:21)] = Rational{Int64}[21//1024,11//512,23//1024,3//128,25//1024,13//512,27//1024,7//256,29//1024,15//512,31//1024,1//32,17//512,9//256,19//512,5//128,21//512,11//256,23//512,3//64,25//512]"
     ]
    },
    {
     "data": {
      "text/plain": [
       "21-element Array{Rational{Int64},1}:\n",
       " 21//1024\n",
       " 11//512 \n",
       " 23//1024\n",
       "  3//128 \n",
       " 25//1024\n",
       " 13//512 \n",
       " 27//1024\n",
       "  7//256 \n",
       " 29//1024\n",
       " 15//512 \n",
       " 31//1024\n",
       "  1//32  \n",
       " 17//512 \n",
       "  9//256 \n",
       " 19//512 \n",
       "  5//128 \n",
       " 21//512 \n",
       " 11//256 \n",
       " 23//512 \n",
       "  3//64  \n",
       " 25//512 "
      ]
     },
     "execution_count": 61,
     "metadata": {},
     "output_type": "execute_result"
    },
    {
     "name": "stdout",
     "output_type": "stream",
     "text": [
      "\n"
     ]
    }
   ],
   "source": [
    "row(2)"
   ]
  },
  {
   "cell_type": "code",
   "execution_count": 62,
   "metadata": {
    "collapsed": false
   },
   "outputs": [
    {
     "data": {
      "text/plain": [
       "21-element Array{Rational{Int64},1}:\n",
       " 13//256\n",
       " 27//512\n",
       "  7//128\n",
       " 29//512\n",
       " 15//256\n",
       " 31//512\n",
       "  1//16 \n",
       " 17//256\n",
       "  9//128\n",
       " 19//256\n",
       "  5//64 \n",
       " 21//256\n",
       " 11//128\n",
       " 23//256\n",
       "  3//32 \n",
       " 25//256\n",
       " 13//128\n",
       " 27//256\n",
       "  7//64 \n",
       " 29//256\n",
       " 15//128"
      ]
     },
     "execution_count": 62,
     "metadata": {},
     "output_type": "execute_result"
    },
    {
     "name": "stdout",
     "output_type": "stream",
     "text": [
      "(map(rationalize,z'))[(i - 1) * 21 + (1:21)] = Rational{Int64}[13//256,27//512,7//128,29//512,15//256,31//512,1//16,17//256,9//128,19//256,5//64,21//256,11//128,23//256,3//32,25//256,13//128,27//256,7//64,29//256,15//128]\n"
     ]
    }
   ],
   "source": [
    "row(3)"
   ]
  },
  {
   "cell_type": "code",
   "execution_count": 63,
   "metadata": {
    "collapsed": false
   },
   "outputs": [
    {
     "name": "stdout",
     "output_type": "stream",
     "text": [
      "(map(rationalize,z'))[(i - 1) * 21 + (1:21)] = Rational{Int64}[31//256,1//8,17//128,9//64,19//128,5//32,21//128,11//64,23//128,3//16,25//128,13//64,27//128,7//32,29//128,15//64,31//128,1//4,17//64,9//32,19//64]"
     ]
    },
    {
     "data": {
      "text/plain": [
       "21-element Array{Rational{Int64},1}:\n",
       " 31//256\n",
       "  1//8  \n",
       " 17//128\n",
       "  9//64 \n",
       " 19//128\n",
       "  5//32 \n",
       " 21//128\n",
       " 11//64 \n",
       " 23//128\n",
       "  3//16 \n",
       " 25//128\n",
       " 13//64 \n",
       " 27//128\n",
       "  7//32 \n",
       " 29//128\n",
       " 15//64 \n",
       " 31//128\n",
       "  1//4  \n",
       " 17//64 \n",
       "  9//32 \n",
       " 19//64 "
      ]
     },
     "execution_count": 63,
     "metadata": {},
     "output_type": "execute_result"
    },
    {
     "name": "stdout",
     "output_type": "stream",
     "text": [
      "\n"
     ]
    }
   ],
   "source": [
    "row(4)"
   ]
  },
  {
   "cell_type": "code",
   "execution_count": 64,
   "metadata": {
    "collapsed": false
   },
   "outputs": [
    {
     "data": {
      "text/plain": [
       "21-element Array{Rational{Int64},1}:\n",
       "  5//16\n",
       " 21//64\n",
       " 11//32\n",
       " 23//64\n",
       "  3//8 \n",
       " 25//64\n",
       " 13//32\n",
       " 27//64\n",
       "  7//16\n",
       " 29//64\n",
       " 15//32\n",
       " 31//64\n",
       "  1//2 \n",
       " 17//32\n",
       "  9//16\n",
       " 19//32\n",
       "  5//8 \n",
       " 21//32\n",
       " 11//16\n",
       " 23//32\n",
       "  3//4 "
      ]
     },
     "execution_count": 64,
     "metadata": {},
     "output_type": "execute_result"
    },
    {
     "name": "stdout",
     "output_type": "stream",
     "text": [
      "(map(rationalize,z'))[(i - 1) * 21 + (1:21)] = Rational{Int64}[5//16,21//64,11//32,23//64,3//8,25//64,13//32,27//64,7//16,29//64,15//32,31//64,1//2,17//32,9//16,19//32,5//8,21//32,11//16,23//32,3//4]\n"
     ]
    }
   ],
   "source": [
    "row(5)"
   ]
  },
  {
   "cell_type": "code",
   "execution_count": 65,
   "metadata": {
    "collapsed": false
   },
   "outputs": [
    {
     "name": "stdout",
     "output_type": "stream",
     "text": [
      "(map(rationalize,z'))[(i - 1) * 21 + (1:21)] = Rational{Int64}[25//32,13//16,27//32,7//8,29//32,15//16,31//32,1//1,17//16,9//8,19//16,5//4,21//16,11//8,23//16,3//2,25//16,13//8,27//16,7//4,29//16]"
     ]
    },
    {
     "data": {
      "text/plain": [
       "21-element Array{Rational{Int64},1}:\n",
       " 25//32\n",
       " 13//16\n",
       " 27//32\n",
       "  7//8 \n",
       " 29//32\n",
       " 15//16\n",
       " 31//32\n",
       "  1//1 \n",
       " 17//16\n",
       "  9//8 \n",
       " 19//16\n",
       "  5//4 \n",
       " 21//16\n",
       " 11//8 \n",
       " 23//16\n",
       "  3//2 \n",
       " 25//16\n",
       " 13//8 \n",
       " 27//16\n",
       "  7//4 \n",
       " 29//16"
      ]
     },
     "execution_count": 65,
     "metadata": {},
     "output_type": "execute_result"
    },
    {
     "name": "stdout",
     "output_type": "stream",
     "text": [
      "\n"
     ]
    }
   ],
   "source": [
    "row(6)"
   ]
  },
  {
   "cell_type": "code",
   "execution_count": 67,
   "metadata": {
    "collapsed": false
   },
   "outputs": [
    {
     "name": "stdout",
     "output_type": "stream",
     "text": [
      "(map(rationalize,z'))[(i - 1) * 21 + (1:21)] = Rational{Int64}[15//8,31//16,2//1,17//8,9//4,19//8,5//2,21//8,11//4,23//8,3//1,25//8,13//4,27//8,7//2,29//8,15//4,31//8,4//1,17//4,9//2]"
     ]
    },
    {
     "data": {
      "text/plain": [
       "21-element Array{Rational{Int64},1}:\n",
       " 15//8 \n",
       " 31//16\n",
       "  2//1 \n",
       " 17//8 \n",
       "  9//4 \n",
       " 19//8 \n",
       "  5//2 \n",
       " 21//8 \n",
       " 11//4 \n",
       " 23//8 \n",
       "  3//1 \n",
       " 25//8 \n",
       " 13//4 \n",
       " 27//8 \n",
       "  7//2 \n",
       " 29//8 \n",
       " 15//4 \n",
       " 31//8 \n",
       "  4//1 \n",
       " 17//4 \n",
       "  9//2 "
      ]
     },
     "execution_count": 67,
     "metadata": {},
     "output_type": "execute_result"
    },
    {
     "name": "stdout",
     "output_type": "stream",
     "text": [
      "\n"
     ]
    }
   ],
   "source": [
    "row(7)"
   ]
  },
  {
   "cell_type": "code",
   "execution_count": 75,
   "metadata": {
    "collapsed": false
   },
   "outputs": [
    {
     "data": {
      "text/plain": [
       "10-element Array{Any,1}:\n",
       "  5//256\n",
       " 25//512\n",
       " 15//128\n",
       " 19//64 \n",
       "  3//4  \n",
       " 29//16 \n",
       "  9//2  \n",
       " 23//2  \n",
       " 28//1  \n",
       " 68//1  "
      ]
     },
     "execution_count": 75,
     "metadata": {},
     "output_type": "execute_result"
    }
   ],
   "source": [
    "map(rationalize, z[21*(1:10)])"
   ]
  },
  {
   "cell_type": "code",
   "execution_count": 76,
   "metadata": {
    "collapsed": false
   },
   "outputs": [
    {
     "data": {
      "text/plain": [
       "1.8125"
      ]
     },
     "execution_count": 76,
     "metadata": {},
     "output_type": "execute_result"
    }
   ],
   "source": [
    "29/16"
   ]
  },
  {
   "cell_type": "code",
   "execution_count": 79,
   "metadata": {
    "collapsed": false
   },
   "outputs": [
    {
     "data": {
      "text/plain": [
       "1"
      ]
     },
     "execution_count": 79,
     "metadata": {},
     "output_type": "execute_result"
    }
   ],
   "source": [
    "sum(z.==2)"
   ]
  },
  {
   "cell_type": "code",
   "execution_count": 82,
   "metadata": {
    "collapsed": false
   },
   "outputs": [
    {
     "data": {
      "text/plain": [
       "256-element Array{Any,1}:\n",
       "   0.0        \n",
       "   0.000976563\n",
       "   0.00195313 \n",
       "   0.00292969 \n",
       "   0.00390625 \n",
       "   0.00488281 \n",
       "   0.00585938 \n",
       "   0.00683594 \n",
       "   0.0078125  \n",
       "   0.00878906 \n",
       "   0.00976563 \n",
       "   0.0107422  \n",
       "   0.0117188  \n",
       "   ⋮          \n",
       " 320.0        \n",
       " 336.0        \n",
       " 352.0        \n",
       " 368.0        \n",
       " 384.0        \n",
       " 400.0        \n",
       " 416.0        \n",
       " 432.0        \n",
       " 448.0        \n",
       " 464.0        \n",
       " 480.0        \n",
       " Inf          "
      ]
     },
     "execution_count": 82,
     "metadata": {},
     "output_type": "execute_result"
    }
   ],
   "source": [
    "z"
   ]
  },
  {
   "cell_type": "code",
   "execution_count": 97,
   "metadata": {
    "collapsed": false
   },
   "outputs": [
    {
     "data": {
      "text/plain": [
       "256-element Array{Bool,1}:\n",
       "  true\n",
       " false\n",
       " false\n",
       " false\n",
       " false\n",
       " false\n",
       " false\n",
       " false\n",
       " false\n",
       " false\n",
       " false\n",
       " false\n",
       " false\n",
       "     ⋮\n",
       "  true\n",
       "  true\n",
       "  true\n",
       "  true\n",
       "  true\n",
       "  true\n",
       "  true\n",
       "  true\n",
       "  true\n",
       "  true\n",
       "  true\n",
       " false"
      ]
     },
     "execution_count": 97,
     "metadata": {},
     "output_type": "execute_result"
    }
   ],
   "source": [
    "u = [Bool(isinteger(zz)) for zz in z]"
   ]
  },
  {
   "cell_type": "code",
   "execution_count": 99,
   "metadata": {
    "collapsed": false
   },
   "outputs": [
    {
     "name": "stdout",
     "output_type": "stream",
     "text": [
      "z[u] = Any[0.0,1.0,2.0,3.0,4.0,5.0,6.0,7.0,8.0,9.0,10.0,11.0,12.0,13.0,14.0,15.0,16.0,17.0,18.0,19.0,20.0,21.0,22.0,23.0,24.0,25.0,26.0,27.0,28.0,29.0,30.0,31.0,32.0,34.0,36.0,38.0,40.0,42.0,44.0,46.0,48.0,50.0,52.0,54.0,56.0,58.0,60.0,62.0,64.0,68.0,72.0,76.0,80.0,84.0,88.0,92.0,96.0,100.0,104.0,108.0,112.0,116.0,120.0,124.0,128.0,136.0,144.0,152.0,160.0,168.0,176.0,184.0,192.0,200.0,208.0,216.0,224.0,232.0,240.0,248.0,256.0,272.0,288.0,304.0,320.0,336.0,352.0,368.0,384.0,400.0,416.0,432.0,448.0,464.0,480.0]"
     ]
    },
    {
     "data": {
      "text/plain": [
       "95-element Array{Any,1}:\n",
       "   0.0\n",
       "   1.0\n",
       "   2.0\n",
       "   3.0\n",
       "   4.0\n",
       "   5.0\n",
       "   6.0\n",
       "   7.0\n",
       "   8.0\n",
       "   9.0\n",
       "  10.0\n",
       "  11.0\n",
       "  12.0\n",
       "   ⋮  \n",
       " 304.0\n",
       " 320.0\n",
       " 336.0\n",
       " 352.0\n",
       " 368.0\n",
       " 384.0\n",
       " 400.0\n",
       " 416.0\n",
       " 432.0\n",
       " 448.0\n",
       " 464.0\n",
       " 480.0"
      ]
     },
     "execution_count": 99,
     "metadata": {},
     "output_type": "execute_result"
    },
    {
     "name": "stdout",
     "output_type": "stream",
     "text": [
      "\n"
     ]
    }
   ],
   "source": [
    "@show z[u]"
   ]
  },
  {
   "cell_type": "code",
   "execution_count": 100,
   "metadata": {
    "collapsed": false
   },
   "outputs": [
    {
     "data": {
      "text/plain": [
       "(256,)"
      ]
     },
     "execution_count": 100,
     "metadata": {},
     "output_type": "execute_result"
    }
   ],
   "source": [
    "size(z)"
   ]
  },
  {
   "cell_type": "code",
   "execution_count": 101,
   "metadata": {
    "collapsed": false
   },
   "outputs": [
    {
     "data": {
      "text/plain": [
       "100.12737286246147"
      ]
     },
     "execution_count": 101,
     "metadata": {},
     "output_type": "execute_result"
    }
   ],
   "source": [
    "π^4 + e"
   ]
  },
  {
   "cell_type": "code",
   "execution_count": 102,
   "metadata": {
    "collapsed": false
   },
   "outputs": [
    {
     "data": {
      "text/plain": [
       "5"
      ]
     },
     "execution_count": 102,
     "metadata": {},
     "output_type": "execute_result"
    }
   ],
   "source": [
    "+(2,3)"
   ]
  },
  {
   "cell_type": "code",
   "execution_count": 103,
   "metadata": {
    "collapsed": false
   },
   "outputs": [
    {
     "data": {
      "text/plain": [
       "5"
      ]
     },
     "execution_count": 103,
     "metadata": {},
     "output_type": "execute_result"
    }
   ],
   "source": [
    "2 + 3"
   ]
  },
  {
   "cell_type": "code",
   "execution_count": 104,
   "metadata": {
    "collapsed": false
   },
   "outputs": [
    {
     "data": {
      "text/plain": [
       "6"
      ]
     },
     "execution_count": 104,
     "metadata": {},
     "output_type": "execute_result"
    }
   ],
   "source": [
    "*(2,3)"
   ]
  },
  {
   "cell_type": "code",
   "execution_count": 105,
   "metadata": {
    "collapsed": false
   },
   "outputs": [
    {
     "data": {
      "text/plain": [
       "0.998389694041868"
      ]
     },
     "execution_count": 105,
     "metadata": {},
     "output_type": "execute_result"
    }
   ],
   "source": [
    "\n",
    "620/621"
   ]
  },
  {
   "cell_type": "code",
   "execution_count": null,
   "metadata": {
    "collapsed": true
   },
   "outputs": [],
   "source": []
  }
 ],
 "metadata": {
  "kernelspec": {
   "display_name": "Julia 0.4.0-rc1",
   "language": "julia",
   "name": "julia-0.4"
  },
  "language_info": {
   "file_extension": ".jl",
   "mimetype": "application/julia",
   "name": "julia",
   "version": "0.4.0"
  }
 },
 "nbformat": 4,
 "nbformat_minor": 0
}
