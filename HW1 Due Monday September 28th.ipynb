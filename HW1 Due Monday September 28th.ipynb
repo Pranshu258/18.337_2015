{
 "cells": [
  {
   "cell_type": "markdown",
   "metadata": {},
   "source": [
    "Stay tuned for instructions on how to hand in, but paper, electronic etc is fine.  Can be .ipynb or anything else."
   ]
  },
  {
   "cell_type": "markdown",
   "metadata": {},
   "source": [
    "1a. What is a nice formula for the broken line in the parallel prefix curve?: <img src=Lecture03_0916/scaling.png width=300>"
   ]
  },
  {
   "cell_type": "markdown",
   "metadata": {
    "collapsed": true
   },
   "source": [
    "1b. Can you roughly explain the formula?  (Not a formal proof)"
   ]
  },
  {
   "cell_type": "markdown",
   "metadata": {},
   "source": [
    "2.The exclusive prefix computes the \"sum\" of every number but yourself. ($y_i = \\sum_{j\\ne i}x_j$) <br>\n",
    "Here sum is general, and there is no concept of subtraction.  Write a recursive function similar to the\n",
    "one in lecture 3, that computes the exclusive prefix.  Give an example why this would be preferred over\n",
    "subtraction."
   ]
  },
  {
   "cell_type": "markdown",
   "metadata": {},
   "source": [
    "3.Write a parallel-style code that computes the carry lookahead addition of Babbage's using only matrix multiply prefix and embarassingly parallel operations."
   ]
  },
  {
   "cell_type": "code",
   "execution_count": null,
   "metadata": {
    "collapsed": true
   },
   "outputs": [],
   "source": []
  }
 ],
 "metadata": {
  "kernelspec": {
   "display_name": "Julia 0.3.7",
   "language": "julia",
   "name": "julia-0.3"
  },
  "language_info": {
   "name": "julia",
   "version": "0.3.7"
  }
 },
 "nbformat": 4,
 "nbformat_minor": 0
}
