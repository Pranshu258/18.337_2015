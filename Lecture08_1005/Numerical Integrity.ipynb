{
 "cells": [
  {
   "cell_type": "markdown",
   "metadata": {},
   "source": [
    "## An invaluable tool for numerical integrity"
   ]
  },
  {
   "cell_type": "code",
   "execution_count": 20,
   "metadata": {
    "collapsed": false
   },
   "outputs": [
    {
     "data": {
      "text/plain": [
       "15x15 Array{Float64,2}:\n",
       " 0.333333   0.25       0.2        …  0.0666667  0.0625     0.0588235\n",
       " 0.25       0.2        0.166667      0.0625     0.0588235  0.0555556\n",
       " 0.2        0.166667   0.142857      0.0588235  0.0555556  0.0526316\n",
       " 0.166667   0.142857   0.125         0.0555556  0.0526316  0.05     \n",
       " 0.142857   0.125      0.111111      0.0526316  0.05       0.047619 \n",
       " 0.125      0.111111   0.1        …  0.05       0.047619   0.0454545\n",
       " 0.111111   0.1        0.0909091     0.047619   0.0454545  0.0434783\n",
       " 0.1        0.0909091  0.0833333     0.0454545  0.0434783  0.0416667\n",
       " 0.0909091  0.0833333  0.0769231     0.0434783  0.0416667  0.04     \n",
       " 0.0833333  0.0769231  0.0714286     0.0416667  0.04       0.0384615\n",
       " 0.0769231  0.0714286  0.0666667  …  0.04       0.0384615  0.037037 \n",
       " 0.0714286  0.0666667  0.0625        0.0384615  0.037037   0.0357143\n",
       " 0.0666667  0.0625     0.0588235     0.037037   0.0357143  0.0344828\n",
       " 0.0625     0.0588235  0.0555556     0.0357143  0.0344828  0.0333333\n",
       " 0.0588235  0.0555556  0.0526316     0.0344828  0.0333333  0.0322581"
      ]
     },
     "execution_count": 20,
     "metadata": {},
     "output_type": "execute_result"
    }
   ],
   "source": [
    "h(n)=[1/(i+j+1) for i=1:n,j=1:n]\n",
    "n=15\n",
    "\n",
    "H=h(n)\n"
   ]
  },
  {
   "cell_type": "code",
   "execution_count": 21,
   "metadata": {
    "collapsed": false
   },
   "outputs": [
    {
     "data": {
      "text/plain": [
       "29677.210052490234"
      ]
     },
     "execution_count": 21,
     "metadata": {},
     "output_type": "execute_result"
    }
   ],
   "source": [
    "H=h(n);\n",
    "with_rounding(Float64,RoundNearest) do\n",
    "    inv(H)[1,1]\n",
    "end"
   ]
  },
  {
   "cell_type": "code",
   "execution_count": 22,
   "metadata": {
    "collapsed": false
   },
   "outputs": [
    {
     "ename": "LoadError",
     "evalue": "LoadError: MethodError: `big` has no method matching big(::Array{Rational{Int64},2})\nwhile loading In[22], in expression starting on line 1",
     "output_type": "error",
     "traceback": [
      "LoadError: MethodError: `big` has no method matching big(::Array{Rational{Int64},2})\nwhile loading In[22], in expression starting on line 1",
      "",
      " in anonymous at In[22]:2",
      " in with_bigfloat_precision at mpfr.jl:820"
     ]
    }
   ],
   "source": [
    "with_bigfloat_precision(1000) do \n",
    "    inv(big(j(n)))[1,1]\n",
    "end"
   ]
  },
  {
   "cell_type": "code",
   "execution_count": 23,
   "metadata": {
    "collapsed": false
   },
   "outputs": [
    {
     "data": {
      "text/plain": [
       "-19807.812866210938"
      ]
     },
     "execution_count": 23,
     "metadata": {},
     "output_type": "execute_result"
    }
   ],
   "source": [
    "with_rounding(Float64,RoundUp) do\n",
    "    inv(H)[1,1]\n",
    "end"
   ]
  },
  {
   "cell_type": "code",
   "execution_count": 24,
   "metadata": {
    "collapsed": false
   },
   "outputs": [
    {
     "data": {
      "text/plain": [
       "-19520.083618164062"
      ]
     },
     "execution_count": 24,
     "metadata": {},
     "output_type": "execute_result"
    }
   ],
   "source": [
    "with_rounding(Float64,RoundDown) do\n",
    "    inv(H)[1,1]\n",
    "end"
   ]
  },
  {
   "cell_type": "code",
   "execution_count": 25,
   "metadata": {
    "collapsed": false
   },
   "outputs": [
    {
     "name": "stdout",
     "output_type": "stream",
     "text": [
      "(inv(big(j(n))))[1,1] = 1.38720000000000000000000000000000000000000000000000000000000000000000000000000000000000000000000000000000000000000000000000000000000000000000000000000000000000000000000000000000000000000000000000000000000000000000000000000000000000000000000000000000000000000000000000000000000000002205460112592898224694e+06"
     ]
    },
    {
     "data": {
      "text/plain": [
       "-2.09397179250746270128280174214489516162708857703714959763232689047153507724040206300505591801428913184718057832654635870968215593209776105009278336316552700706647971707744253895869039420485910077061075270977916650339464952872950333017574824340193246939411893405801041912551927271049647379714987772248736e+03"
      ]
     },
     "execution_count": 25,
     "metadata": {},
     "output_type": "execute_result"
    },
    {
     "name": "stdout",
     "output_type": "stream",
     "text": [
      "\n",
      "(inv(big(h(n))))[1,1] = -2.09397179250746270128280174214489516162708857703714959763232689047153507724040206300505591801428913184718057832654635870968215593209776105009278336316552700706647971707744253895869039420485910077061075270977916650339464952872950333017574824340193246939411893405801041912551927271049647379714987772248736e+03\n"
     ]
    }
   ],
   "source": [
    "with_bigfloat_precision(1000) do \n",
    "    j(n)=[1/big(i+j+1) for i=1:n,j=1:n]\n",
    "    @show  inv(big(j(n)))[1,1]\n",
    "    @show  inv(big(h(n)))[1,1]\n",
    "end"
   ]
  },
  {
   "cell_type": "code",
   "execution_count": 6,
   "metadata": {
    "collapsed": false
   },
   "outputs": [
    {
     "data": {
      "text/plain": [
       "4.31999502780030898352717488954267444912546003582833446816287025247103465370130859633648398513751703980030704775800996358736749783840569273421686132949028144378613244160536969335361354242480780370759624089050932364095666127760053489183929263874769854190849492592021032362111662876302500535101377466273391e+04"
      ]
     },
     "execution_count": 6,
     "metadata": {},
     "output_type": "execute_result"
    }
   ],
   "source": [
    "with_bigfloat_precision(1000) do \n",
    "    inv(big(H))[1,1]\n",
    "end"
   ]
  },
  {
   "cell_type": "code",
   "execution_count": 17,
   "metadata": {
    "collapsed": false
   },
   "outputs": [
    {
     "data": {
      "text/plain": [
       "43200//1"
      ]
     },
     "execution_count": 17,
     "metadata": {},
     "output_type": "execute_result"
    }
   ],
   "source": [
    "j(n)=[1//(i+j+1) for i=1:n,j=1:n]\n",
    "H=j(n)\n",
    "z=inv(H)[1,1]"
   ]
  },
  {
   "cell_type": "code",
   "execution_count": 8,
   "metadata": {
    "collapsed": false
   },
   "outputs": [
    {
     "data": {
      "text/plain": [
       "43200.0"
      ]
     },
     "execution_count": 8,
     "metadata": {},
     "output_type": "execute_result"
    }
   ],
   "source": [
    "float(z)"
   ]
  },
  {
   "cell_type": "code",
   "execution_count": 26,
   "metadata": {
    "collapsed": false
   },
   "outputs": [
    {
     "data": {
      "text/plain": [
       "10x10 Array{Rational{Int64},2}:\n",
       "      145200//1      -4247100//1       47567520//1  …      -193993800//1\n",
       "    -4247100//1     132509520//1    -1545944400//1         6983776800//1\n",
       "    47567520//1   -1545944400//1    18551332800//1       -90789098400//1\n",
       "  -277477200//1    9275666400//1  -113626913400//1       593155442880//1\n",
       "   951350400//1  -32464832400//1   404006803200//1     -2224332910800//1\n",
       " -2021619600//1   70082812800//1  -883043441280//1  …   5084189510400//1\n",
       "  2695492800//1  -94611797280//1  1204150147200//1     -7202601806400//1\n",
       " -2194901280//1   77819227200//1  -998680082400//1      6173658691200//1\n",
       "   997682400//1  -35667145800//1   460929268800//1     -2932487878320//1\n",
       "  -193993800//1    6983776800//1   -90789098400//1       592421793600//1"
      ]
     },
     "execution_count": 26,
     "metadata": {},
     "output_type": "execute_result"
    }
   ],
   "source": [
    "inv(j(10))"
   ]
  },
  {
   "cell_type": "code",
   "execution_count": null,
   "metadata": {
    "collapsed": true
   },
   "outputs": [],
   "source": []
  }
 ],
 "metadata": {
  "kernelspec": {
   "display_name": "Julia 0.4.0-rc1",
   "language": "julia",
   "name": "julia-0.4"
  },
  "language_info": {
   "file_extension": ".jl",
   "mimetype": "application/julia",
   "name": "julia",
   "version": "0.4.0"
  }
 },
 "nbformat": 4,
 "nbformat_minor": 0
}
