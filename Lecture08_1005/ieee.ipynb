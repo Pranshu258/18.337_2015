{
 "cells": [
  {
   "cell_type": "code",
   "execution_count": 2,
   "metadata": {
    "collapsed": false
   },
   "outputs": [],
   "source": [
    "immutable ieee{T}\n",
    "    s::Bool   #sign\n",
    "    e::Int    #exponent\n",
    "    m::Int    #mantissa\n",
    "end"
   ]
  },
  {
   "cell_type": "code",
   "execution_count": 10,
   "metadata": {
    "collapsed": false
   },
   "outputs": [
    {
     "data": {
      "text/plain": [
       "mbits (generic function with 4 methods)"
      ]
     },
     "execution_count": 10,
     "metadata": {},
     "output_type": "execute_result"
    }
   ],
   "source": [
    "bias(x::Number) = bias(typeof(x))\n",
    "bias(::Type{Float64})=1023\n",
    "bias(::Type{Float32})=127\n",
    "bias(::Type{Float16})=15\n",
    "\n",
    "mbits(x::Number) = mbits(typeof(x))\n",
    "mbits(::Type{Float64})=52\n",
    "mbits(::Type{Float32})=23\n",
    "mbits(::Type{Float16})=10"
   ]
  },
  {
   "cell_type": "code",
   "execution_count": 11,
   "metadata": {
    "collapsed": false
   },
   "outputs": [
    {
     "data": {
      "text/plain": [
       "ieee{T}"
      ]
     },
     "execution_count": 11,
     "metadata": {},
     "output_type": "execute_result"
    }
   ],
   "source": [
    "function ieee(x)\n",
    "    s=signbit(x)                            # sign\n",
    "    x=abs(x)\n",
    "    if(x==0.0); return(ieee{typeof(x)}(s,0,0)); end     \n",
    "      e=exponent(x)+bias(x)                   # biased exponent\n",
    "      m=Int64((significand(x)-1) * 2^mbits(x)) # mantissa\n",
    "    return(ieee{typeof(x)}(s,e,m))\n",
    "end"
   ]
  },
  {
   "cell_type": "code",
   "execution_count": 12,
   "metadata": {
    "collapsed": false
   },
   "outputs": [
    {
     "data": {
      "text/plain": [
       "ieee{Float32}(false,127,0)"
      ]
     },
     "execution_count": 12,
     "metadata": {},
     "output_type": "execute_result"
    }
   ],
   "source": [
    "ieee(Float32(1.0))"
   ]
  }
 ],
 "metadata": {
  "kernelspec": {
   "display_name": "Julia 0.4.0-rc1",
   "language": "julia",
   "name": "julia-0.4"
  },
  "language_info": {
   "file_extension": ".jl",
   "mimetype": "application/julia",
   "name": "julia",
   "version": "0.4.0"
  }
 },
 "nbformat": 4,
 "nbformat_minor": 0
}
