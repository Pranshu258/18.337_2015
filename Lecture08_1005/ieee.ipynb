{
 "cells": [
  {
   "cell_type": "code",
   "execution_count": 1,
   "metadata": {
    "collapsed": false
   },
   "outputs": [],
   "source": [
    "immutable ieee{T}\n",
    "    s::Bool   #sign\n",
    "    e::Int    #exponent\n",
    "    m::Int    #mantissa\n",
    "end"
   ]
  },
  {
   "cell_type": "code",
   "execution_count": 8,
   "metadata": {
    "collapsed": false
   },
   "outputs": [],
   "source": [
    "bias  = Dict(Float64=>1023,Float32=>127,Float16=>15)\n",
    "mbits = Dict(Float64=>52,  Float32=>23, Float16=>10);"
   ]
  },
  {
   "cell_type": "code",
   "execution_count": 4,
   "metadata": {
    "collapsed": false
   },
   "outputs": [
    {
     "data": {
      "text/plain": [
       "ieee{T}"
      ]
     },
     "execution_count": 4,
     "metadata": {},
     "output_type": "execute_result"
    }
   ],
   "source": [
    "function ieee(x)\n",
    "    T=typeof(x)\n",
    "    s=signbit(x)                            # sign\n",
    "    x=abs(x)\n",
    "    \n",
    "    if(x==0.0)         return(ieee{T}(s,0,0)) end  \n",
    "    if(x==Inf)         return(ieee{T}(s,1+2bias[T],0)) end \n",
    "    if(isnan(x))       return(ieee{T}(0,1+2bias[T],0)) end\n",
    "    if(issubnormal(x)) return(ieee{T}(s,0,x/(2*one(T))^(1-bias[T]-mbits[T])) ) end\n",
    "    \n",
    "    e=exponent(x)+bias[T]                   # biased exponent\n",
    "    m=Int64((significand(x)-1) * 2^mbits[T]) # mantissa\n",
    "    return(ieee{T}(s,e,m))\n",
    "end"
   ]
  },
  {
   "cell_type": "code",
   "execution_count": 6,
   "metadata": {
    "collapsed": false
   },
   "outputs": [
    {
     "data": {
      "text/plain": [
       "ieee{Float64}(false,2047,0)"
      ]
     },
     "execution_count": 6,
     "metadata": {},
     "output_type": "execute_result"
    }
   ],
   "source": [
    "ieee(NaN)"
   ]
  },
  {
   "cell_type": "code",
   "execution_count": 110,
   "metadata": {
    "collapsed": false
   },
   "outputs": [
    {
     "data": {
      "text/plain": [
       "DataType"
      ]
     },
     "execution_count": 110,
     "metadata": {},
     "output_type": "execute_result"
    }
   ],
   "source": [
    "typeof(Float32)"
   ]
  },
  {
   "cell_type": "code",
   "execution_count": 9,
   "metadata": {
    "collapsed": false
   },
   "outputs": [
    {
     "ename": "LoadError",
     "evalue": "LoadError: UndefVarError: @manipulate not defined\nwhile loading In[9], in expression starting on line 8",
     "output_type": "error",
     "traceback": [
      "LoadError: UndefVarError: @manipulate not defined\nwhile loading In[9], in expression starting on line 8",
      ""
     ]
    }
   ],
   "source": [
    "function ieee_buttons(T::DataType)\n",
    "    println(T)\n",
    "    bits = parse(\"$(T)\"[6:end])\n",
    "    @manipulate for s=[0],t=1+0*vcat([1:10...])\n",
    "        s\n",
    "        t\n",
    "    end\n",
    "end"
   ]
  },
  {
   "cell_type": "code",
   "execution_count": 214,
   "metadata": {
    "collapsed": false
   },
   "outputs": [
    {
     "name": "stdout",
     "output_type": "stream",
     "text": [
      "Float64\n"
     ]
    },
    {
     "data": {
      "text/html": [],
      "text/plain": [
       "Interact.Options{:ToggleButtons,Int64}([Reactive.Input{Int64}] 0,\"s\",0,\"0\",Interact.OptionDict(Any[\"0\"],Dict{Any,Any}(\"0\"=>0)),Any[],Any[])"
      ]
     },
     "metadata": {},
     "output_type": "display_data"
    },
    {
     "data": {
      "text/html": [],
      "text/plain": [
       "Interact.Options{:ToggleButtons,Int64}([Reactive.Input{Int64}] 2,\"t\",2,\"2\",Interact.OptionDict(Any[\"2\",\"4\",\"6\",\"8\",\"10\",\"12\",\"14\",\"16\",\"18\",\"20\"],Dict{Any,Any}(\"14\"=>14,\"4\"=>4,\"12\"=>12,\"20\"=>20,\"10\"=>10,\"2\"=>2,\"6\"=>6,\"16\"=>16,\"18\"=>18,\"8\"=>8)),Any[],Any[])"
      ]
     },
     "metadata": {},
     "output_type": "display_data"
    },
    {
     "data": {
      "text/plain": [
       "2"
      ]
     },
     "execution_count": 214,
     "metadata": {
      "comm_id": "f193342a-b8ef-454e-a083-54c9e15644f3",
      "reactive": true
     },
     "output_type": "execute_result"
    }
   ],
   "source": [
    "ieee_buttons(Float64)"
   ]
  }
 ],
 "metadata": {
  "kernelspec": {
   "display_name": "Julia 0.4.0-rc1",
   "language": "julia",
   "name": "julia-0.4"
  },
  "language_info": {
   "file_extension": ".jl",
   "mimetype": "application/julia",
   "name": "julia",
   "version": "0.4.0"
  }
 },
 "nbformat": 4,
 "nbformat_minor": 0
}
