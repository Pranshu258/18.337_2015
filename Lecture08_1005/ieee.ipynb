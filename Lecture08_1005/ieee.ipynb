{
 "cells": [
  {
   "cell_type": "code",
   "execution_count": 2,
   "metadata": {
    "collapsed": false
   },
   "outputs": [],
   "source": [
    "immutable ieee{T}\n",
    "    s::Bool   #sign\n",
    "    e::Int    #exponent\n",
    "    m::Int    #mantissa\n",
    "end"
   ]
  },
  {
   "cell_type": "code",
   "execution_count": 10,
   "metadata": {
    "collapsed": false
   },
   "outputs": [
    {
     "data": {
      "text/plain": [
       "mbits (generic function with 4 methods)"
      ]
     },
     "execution_count": 10,
     "metadata": {},
     "output_type": "execute_result"
    }
   ],
   "source": [
    "bias(x::Number) = bias(typeof(x))\n",
    "bias(::Type{Float64})=1023\n",
    "bias(::Type{Float32})=127\n",
    "bias(::Type{Float16})=15\n",
    "\n",
    "mbits(x::Number) = mbits(typeof(x))\n",
    "mbits(::Type{Float64})=52\n",
    "mbits(::Type{Float32})=23\n",
    "mbits(::Type{Float16})=10"
   ]
  },
  {
   "cell_type": "code",
   "execution_count": 44,
   "metadata": {
    "collapsed": false
   },
   "outputs": [
    {
     "data": {
      "text/plain": [
       "ieee{T}"
      ]
     },
     "execution_count": 44,
     "metadata": {},
     "output_type": "execute_result"
    }
   ],
   "source": [
    "function ieee(x)\n",
    "    T=typeof(x)\n",
    "    s=signbit(x)                            # sign\n",
    "    x=abs(x)\n",
    "    \n",
    "    if(x==0.0);         return(ieee{T}(s,0,0)); end  \n",
    "    if(x==Inf);         return(ieee{T}(s,1+2bias(T),0)); end \n",
    "    if(issubnormal(x)); return(ieee{T}(s,0,significand(x))); end\n",
    "    \n",
    "      e=exponent(x)+bias(x)                   # biased exponent\n",
    "      m=Int64((significand(x)-1) * 2^mbits(x)) # mantissa\n",
    "    return(ieee{T}(s,e,m))\n",
    "end"
   ]
  },
  {
   "cell_type": "code",
   "execution_count": 31,
   "metadata": {
    "collapsed": false
   },
   "outputs": [
    {
     "data": {
      "text/plain": [
       "ieee{Float64}(true,2047,0)"
      ]
     },
     "execution_count": 31,
     "metadata": {},
     "output_type": "execute_result"
    }
   ],
   "source": [
    "ieee((-Inf))"
   ]
  },
  {
   "cell_type": "code",
   "execution_count": 25,
   "metadata": {
    "collapsed": false
   },
   "outputs": [
    {
     "data": {
      "text/plain": [
       "false"
      ]
     },
     "execution_count": 25,
     "metadata": {},
     "output_type": "execute_result"
    }
   ],
   "source": [
    "signbit(Inf)"
   ]
  },
  {
   "cell_type": "code",
   "execution_count": 37,
   "metadata": {
    "collapsed": false
   },
   "outputs": [
    {
     "data": {
      "text/plain": [
       "convert (generic function with 2 methods)"
      ]
     },
     "execution_count": 37,
     "metadata": {},
     "output_type": "execute_result"
    }
   ],
   "source": [
    "function convert{T}(x::ieee{T},y::T)\n",
    "    1.5\n",
    "end"
   ]
  },
  {
   "cell_type": "code",
   "execution_count": 42,
   "metadata": {
    "collapsed": false
   },
   "outputs": [
    {
     "data": {
      "text/plain": [
       "true"
      ]
     },
     "execution_count": 42,
     "metadata": {},
     "output_type": "execute_result"
    }
   ],
   "source": [
    "2.0^(-1034) |> issubnormal"
   ]
  },
  {
   "cell_type": "code",
   "execution_count": null,
   "metadata": {
    "collapsed": true
   },
   "outputs": [],
   "source": []
  }
 ],
 "metadata": {
  "kernelspec": {
   "display_name": "Julia 0.4.0-rc1",
   "language": "julia",
   "name": "julia-0.4"
  },
  "language_info": {
   "file_extension": ".jl",
   "mimetype": "application/julia",
   "name": "julia",
   "version": "0.4.0"
  }
 },
 "nbformat": 4,
 "nbformat_minor": 0
}
