{
 "cells": [
  {
   "cell_type": "code",
   "execution_count": 2,
   "metadata": {
    "collapsed": false
   },
   "outputs": [],
   "source": [
    "immutable ieee{T}\n",
    "    s::Bool   #sign\n",
    "    e::Int    #exponent\n",
    "    m::Int    #mantissa\n",
    "end"
   ]
  },
  {
   "cell_type": "code",
   "execution_count": 10,
   "metadata": {
    "collapsed": false
   },
   "outputs": [
    {
     "data": {
      "text/plain": [
       "mbits (generic function with 4 methods)"
      ]
     },
     "execution_count": 10,
     "metadata": {},
     "output_type": "execute_result"
    }
   ],
   "source": [
    "bias(x::Number) = bias(typeof(x))\n",
    "bias(::Type{Float64})=1023\n",
    "bias(::Type{Float32})=127\n",
    "bias(::Type{Float16})=15\n",
    "\n",
    "mbits(x::Number) = mbits(typeof(x))\n",
    "mbits(::Type{Float64})=52\n",
    "mbits(::Type{Float32})=23\n",
    "mbits(::Type{Float16})=10"
   ]
  },
  {
   "cell_type": "code",
   "execution_count": 92,
   "metadata": {
    "collapsed": false
   },
   "outputs": [
    {
     "data": {
      "text/plain": [
       "ieee{T}"
      ]
     },
     "execution_count": 92,
     "metadata": {},
     "output_type": "execute_result"
    }
   ],
   "source": [
    "function ieee(x)\n",
    "    T=typeof(x)\n",
    "    s=signbit(x)                            # sign\n",
    "    x=abs(x)\n",
    "    \n",
    "    if(x==0.0);         return(ieee{T}(s,0,0)); end  \n",
    "    if(x==Inf);         return(ieee{T}(s,1+2bias(T),0)); end \n",
    "    if(issubnormal(x)); return(ieee{T}(s,0,x/(2*one(T))^(1-bias(T)-mbits(T))) ); end\n",
    "    \n",
    "      e=exponent(x)+bias(x)                   # biased exponent\n",
    "      m=Int64((significand(x)-1) * 2^mbits(x)) # mantissa\n",
    "    return(ieee{T}(s,e,m))\n",
    "end"
   ]
  },
  {
   "cell_type": "code",
   "execution_count": null,
   "metadata": {
    "collapsed": true
   },
   "outputs": [],
   "source": []
  }
 ],
 "metadata": {
  "kernelspec": {
   "display_name": "Julia 0.4.0-rc1",
   "language": "julia",
   "name": "julia-0.4"
  },
  "language_info": {
   "file_extension": ".jl",
   "mimetype": "application/julia",
   "name": "julia",
   "version": "0.4.0"
  }
 },
 "nbformat": 4,
 "nbformat_minor": 0
}
